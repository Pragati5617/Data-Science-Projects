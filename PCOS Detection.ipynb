{
 "cells": [
  {
   "cell_type": "markdown",
   "id": "e2a19c88",
   "metadata": {},
   "source": [
    "### Importing the required libraries"
   ]
  },
  {
   "cell_type": "code",
   "execution_count": 1,
   "id": "b3218146",
   "metadata": {},
   "outputs": [
    {
     "name": "stderr",
     "output_type": "stream",
     "text": [
      "C:\\Users\\hp\\anaconda3\\lib\\site-packages\\scipy\\__init__.py:146: UserWarning: A NumPy version >=1.16.5 and <1.23.0 is required for this version of SciPy (detected version 1.26.0\n",
      "  warnings.warn(f\"A NumPy version >={np_minversion} and <{np_maxversion}\"\n"
     ]
    }
   ],
   "source": [
    "import pandas as pd\n",
    "import seaborn as sns\n",
    "import matplotlib.pyplot as plt\n",
    "%matplotlib inline\n",
    "from sklearn.model_selection import train_test_split\n",
    "from sklearn.linear_model import LogisticRegression\n",
    "from sklearn.tree import DecisionTreeClassifier\n",
    "from sklearn.metrics import accuracy_score,confusion_matrix,classification_report,roc_auc_score,roc_curve,recall_score,precision_score,f1_score\n",
    "from sklearn.ensemble import RandomForestClassifier,AdaBoostClassifier"
   ]
  },
  {
   "cell_type": "markdown",
   "id": "5193b4fd",
   "metadata": {},
   "source": [
    "### Problem statement "
   ]
  },
  {
   "cell_type": "code",
   "execution_count": 2,
   "id": "76949fe4",
   "metadata": {},
   "outputs": [],
   "source": [
    "# Build the predictive model to predict whether the patient have PCOS or not? \n",
    "# the target variable is binary in nature"
   ]
  },
  {
   "cell_type": "markdown",
   "id": "037abdc3",
   "metadata": {},
   "source": [
    "### Read the data"
   ]
  },
  {
   "cell_type": "code",
   "execution_count": 3,
   "id": "a7cf19ee",
   "metadata": {},
   "outputs": [],
   "source": [
    "df1 = pd.read_excel(r\"C:\\Users\\hp\\Documents\\Projects\\CP1\\PCOS_data_without_infertility.xlsx\",sheet_name=\"Full_new\")"
   ]
  },
  {
   "cell_type": "code",
   "execution_count": 4,
   "id": "60cd6953",
   "metadata": {},
   "outputs": [
    {
     "data": {
      "text/html": [
       "<div>\n",
       "<style scoped>\n",
       "    .dataframe tbody tr th:only-of-type {\n",
       "        vertical-align: middle;\n",
       "    }\n",
       "\n",
       "    .dataframe tbody tr th {\n",
       "        vertical-align: top;\n",
       "    }\n",
       "\n",
       "    .dataframe thead th {\n",
       "        text-align: right;\n",
       "    }\n",
       "</style>\n",
       "<table border=\"1\" class=\"dataframe\">\n",
       "  <thead>\n",
       "    <tr style=\"text-align: right;\">\n",
       "      <th></th>\n",
       "      <th>Sl. No</th>\n",
       "      <th>Patient File No.</th>\n",
       "      <th>PCOS (Y/N)</th>\n",
       "      <th>Age (yrs)</th>\n",
       "      <th>Weight (Kg)</th>\n",
       "      <th>Height(Cm)</th>\n",
       "      <th>BMI</th>\n",
       "      <th>Blood Group</th>\n",
       "      <th>Pulse rate(bpm)</th>\n",
       "      <th>RR (breaths/min)</th>\n",
       "      <th>...</th>\n",
       "      <th>Fast food (Y/N)</th>\n",
       "      <th>Reg.Exercise(Y/N)</th>\n",
       "      <th>BP _Systolic (mmHg)</th>\n",
       "      <th>BP _Diastolic (mmHg)</th>\n",
       "      <th>Follicle No. (L)</th>\n",
       "      <th>Follicle No. (R)</th>\n",
       "      <th>Avg. F size (L) (mm)</th>\n",
       "      <th>Avg. F size (R) (mm)</th>\n",
       "      <th>Endometrium (mm)</th>\n",
       "      <th>Unnamed: 44</th>\n",
       "    </tr>\n",
       "  </thead>\n",
       "  <tbody>\n",
       "    <tr>\n",
       "      <th>0</th>\n",
       "      <td>1.0</td>\n",
       "      <td>1.0</td>\n",
       "      <td>0.0</td>\n",
       "      <td>28.0</td>\n",
       "      <td>44.6</td>\n",
       "      <td>152.0</td>\n",
       "      <td>19.300000</td>\n",
       "      <td>15.0</td>\n",
       "      <td>78.0</td>\n",
       "      <td>22.0</td>\n",
       "      <td>...</td>\n",
       "      <td>1.0</td>\n",
       "      <td>0.0</td>\n",
       "      <td>110.0</td>\n",
       "      <td>80.0</td>\n",
       "      <td>3.0</td>\n",
       "      <td>3.0</td>\n",
       "      <td>18.0</td>\n",
       "      <td>18.0</td>\n",
       "      <td>8.5</td>\n",
       "      <td>NaN</td>\n",
       "    </tr>\n",
       "    <tr>\n",
       "      <th>1</th>\n",
       "      <td>2.0</td>\n",
       "      <td>2.0</td>\n",
       "      <td>0.0</td>\n",
       "      <td>36.0</td>\n",
       "      <td>65.0</td>\n",
       "      <td>161.5</td>\n",
       "      <td>24.921163</td>\n",
       "      <td>15.0</td>\n",
       "      <td>74.0</td>\n",
       "      <td>20.0</td>\n",
       "      <td>...</td>\n",
       "      <td>0.0</td>\n",
       "      <td>0.0</td>\n",
       "      <td>120.0</td>\n",
       "      <td>70.0</td>\n",
       "      <td>3.0</td>\n",
       "      <td>5.0</td>\n",
       "      <td>15.0</td>\n",
       "      <td>14.0</td>\n",
       "      <td>3.7</td>\n",
       "      <td>NaN</td>\n",
       "    </tr>\n",
       "    <tr>\n",
       "      <th>2</th>\n",
       "      <td>3.0</td>\n",
       "      <td>3.0</td>\n",
       "      <td>1.0</td>\n",
       "      <td>33.0</td>\n",
       "      <td>68.8</td>\n",
       "      <td>165.0</td>\n",
       "      <td>25.270891</td>\n",
       "      <td>11.0</td>\n",
       "      <td>72.0</td>\n",
       "      <td>18.0</td>\n",
       "      <td>...</td>\n",
       "      <td>1.0</td>\n",
       "      <td>0.0</td>\n",
       "      <td>120.0</td>\n",
       "      <td>80.0</td>\n",
       "      <td>13.0</td>\n",
       "      <td>15.0</td>\n",
       "      <td>18.0</td>\n",
       "      <td>20.0</td>\n",
       "      <td>10.0</td>\n",
       "      <td>NaN</td>\n",
       "    </tr>\n",
       "    <tr>\n",
       "      <th>3</th>\n",
       "      <td>4.0</td>\n",
       "      <td>4.0</td>\n",
       "      <td>0.0</td>\n",
       "      <td>37.0</td>\n",
       "      <td>65.0</td>\n",
       "      <td>148.0</td>\n",
       "      <td>29.674945</td>\n",
       "      <td>13.0</td>\n",
       "      <td>72.0</td>\n",
       "      <td>20.0</td>\n",
       "      <td>...</td>\n",
       "      <td>0.0</td>\n",
       "      <td>0.0</td>\n",
       "      <td>120.0</td>\n",
       "      <td>70.0</td>\n",
       "      <td>2.0</td>\n",
       "      <td>2.0</td>\n",
       "      <td>15.0</td>\n",
       "      <td>14.0</td>\n",
       "      <td>7.5</td>\n",
       "      <td>NaN</td>\n",
       "    </tr>\n",
       "    <tr>\n",
       "      <th>4</th>\n",
       "      <td>5.0</td>\n",
       "      <td>5.0</td>\n",
       "      <td>0.0</td>\n",
       "      <td>25.0</td>\n",
       "      <td>52.0</td>\n",
       "      <td>161.0</td>\n",
       "      <td>20.060954</td>\n",
       "      <td>11.0</td>\n",
       "      <td>72.0</td>\n",
       "      <td>18.0</td>\n",
       "      <td>...</td>\n",
       "      <td>0.0</td>\n",
       "      <td>0.0</td>\n",
       "      <td>120.0</td>\n",
       "      <td>80.0</td>\n",
       "      <td>3.0</td>\n",
       "      <td>4.0</td>\n",
       "      <td>16.0</td>\n",
       "      <td>14.0</td>\n",
       "      <td>7.0</td>\n",
       "      <td>NaN</td>\n",
       "    </tr>\n",
       "  </tbody>\n",
       "</table>\n",
       "<p>5 rows × 45 columns</p>\n",
       "</div>"
      ],
      "text/plain": [
       "   Sl. No  Patient File No.  PCOS (Y/N)   Age (yrs)  Weight (Kg)  Height(Cm)   \\\n",
       "0     1.0               1.0         0.0        28.0         44.6        152.0   \n",
       "1     2.0               2.0         0.0        36.0         65.0        161.5   \n",
       "2     3.0               3.0         1.0        33.0         68.8        165.0   \n",
       "3     4.0               4.0         0.0        37.0         65.0        148.0   \n",
       "4     5.0               5.0         0.0        25.0         52.0        161.0   \n",
       "\n",
       "         BMI  Blood Group  Pulse rate(bpm)   RR (breaths/min)  ...  \\\n",
       "0  19.300000         15.0              78.0              22.0  ...   \n",
       "1  24.921163         15.0              74.0              20.0  ...   \n",
       "2  25.270891         11.0              72.0              18.0  ...   \n",
       "3  29.674945         13.0              72.0              20.0  ...   \n",
       "4  20.060954         11.0              72.0              18.0  ...   \n",
       "\n",
       "   Fast food (Y/N)  Reg.Exercise(Y/N)  BP _Systolic (mmHg)  \\\n",
       "0              1.0                0.0                110.0   \n",
       "1              0.0                0.0                120.0   \n",
       "2              1.0                0.0                120.0   \n",
       "3              0.0                0.0                120.0   \n",
       "4              0.0                0.0                120.0   \n",
       "\n",
       "   BP _Diastolic (mmHg)  Follicle No. (L)  Follicle No. (R)  \\\n",
       "0                  80.0               3.0               3.0   \n",
       "1                  70.0               3.0               5.0   \n",
       "2                  80.0              13.0              15.0   \n",
       "3                  70.0               2.0               2.0   \n",
       "4                  80.0               3.0               4.0   \n",
       "\n",
       "   Avg. F size (L) (mm) Avg. F size (R) (mm)  Endometrium (mm)  Unnamed: 44  \n",
       "0                  18.0                 18.0               8.5          NaN  \n",
       "1                  15.0                 14.0               3.7          NaN  \n",
       "2                  18.0                 20.0              10.0          NaN  \n",
       "3                  15.0                 14.0               7.5          NaN  \n",
       "4                  16.0                 14.0               7.0          NaN  \n",
       "\n",
       "[5 rows x 45 columns]"
      ]
     },
     "execution_count": 4,
     "metadata": {},
     "output_type": "execute_result"
    }
   ],
   "source": [
    "df1.head()                         # top 5 rows"
   ]
  },
  {
   "cell_type": "code",
   "execution_count": 5,
   "id": "0e943877",
   "metadata": {},
   "outputs": [],
   "source": [
    "# Target variable is PCOS with two classes viz. Y and N"
   ]
  },
  {
   "cell_type": "markdown",
   "id": "61c4b5b1",
   "metadata": {},
   "source": [
    "### Exploratory Data Analysis(EDA )"
   ]
  },
  {
   "cell_type": "code",
   "execution_count": 6,
   "id": "1cba9510",
   "metadata": {},
   "outputs": [
    {
     "data": {
      "text/plain": [
       "(541, 45)"
      ]
     },
     "execution_count": 6,
     "metadata": {},
     "output_type": "execute_result"
    }
   ],
   "source": [
    "df1.shape                # Shape indicates that the dataset has 541 observations/records and 45 attributes."
   ]
  },
  {
   "cell_type": "code",
   "execution_count": 7,
   "id": "90be04f8",
   "metadata": {
    "scrolled": true
   },
   "outputs": [
    {
     "name": "stdout",
     "output_type": "stream",
     "text": [
      "<class 'pandas.core.frame.DataFrame'>\n",
      "RangeIndex: 541 entries, 0 to 540\n",
      "Data columns (total 45 columns):\n",
      " #   Column                  Non-Null Count  Dtype  \n",
      "---  ------                  --------------  -----  \n",
      " 0   Sl. No                  541 non-null    float64\n",
      " 1   Patient File No.        541 non-null    float64\n",
      " 2   PCOS (Y/N)              541 non-null    float64\n",
      " 3    Age (yrs)              541 non-null    float64\n",
      " 4   Weight (Kg)             541 non-null    float64\n",
      " 5   Height(Cm)              541 non-null    float64\n",
      " 6   BMI                     541 non-null    float64\n",
      " 7   Blood Group             541 non-null    float64\n",
      " 8   Pulse rate(bpm)         541 non-null    float64\n",
      " 9   RR (breaths/min)        541 non-null    float64\n",
      " 10  Hb(g/dl)                541 non-null    float64\n",
      " 11  Cycle(R/I)              541 non-null    float64\n",
      " 12  Cycle length(days)      541 non-null    float64\n",
      " 13  Marraige Status (Yrs)   540 non-null    float64\n",
      " 14  Pregnant(Y/N)           541 non-null    float64\n",
      " 15  No. of aborptions       541 non-null    float64\n",
      " 16    I   beta-HCG(mIU/mL)  541 non-null    float64\n",
      " 17  II    beta-HCG(mIU/mL)  541 non-null    object \n",
      " 18  FSH(mIU/mL)             541 non-null    float64\n",
      " 19  LH(mIU/mL)              541 non-null    float64\n",
      " 20  FSH/LH                  541 non-null    float64\n",
      " 21  Hip(inch)               541 non-null    float64\n",
      " 22  Waist(inch)             541 non-null    float64\n",
      " 23  Waist:Hip Ratio         541 non-null    float64\n",
      " 24  TSH (mIU/L)             541 non-null    float64\n",
      " 25  AMH(ng/mL)              541 non-null    object \n",
      " 26  PRL(ng/mL)              541 non-null    float64\n",
      " 27  Vit D3 (ng/mL)          541 non-null    float64\n",
      " 28  PRG(ng/mL)              541 non-null    float64\n",
      " 29  RBS(mg/dl)              541 non-null    float64\n",
      " 30  Weight gain(Y/N)        541 non-null    float64\n",
      " 31  hair growth(Y/N)        541 non-null    float64\n",
      " 32  Skin darkening (Y/N)    541 non-null    float64\n",
      " 33  Hair loss(Y/N)          541 non-null    float64\n",
      " 34  Pimples(Y/N)            541 non-null    float64\n",
      " 35  Fast food (Y/N)         540 non-null    float64\n",
      " 36  Reg.Exercise(Y/N)       541 non-null    float64\n",
      " 37  BP _Systolic (mmHg)     541 non-null    float64\n",
      " 38  BP _Diastolic (mmHg)    541 non-null    float64\n",
      " 39  Follicle No. (L)        541 non-null    float64\n",
      " 40  Follicle No. (R)        541 non-null    float64\n",
      " 41  Avg. F size (L) (mm)    541 non-null    float64\n",
      " 42  Avg. F size (R) (mm)    541 non-null    float64\n",
      " 43  Endometrium (mm)        541 non-null    float64\n",
      " 44  Unnamed: 44             2 non-null      object \n",
      "dtypes: float64(42), object(3)\n",
      "memory usage: 190.3+ KB\n"
     ]
    }
   ],
   "source": [
    "df1.info()"
   ]
  },
  {
   "cell_type": "code",
   "execution_count": null,
   "id": "0dae26e0",
   "metadata": {},
   "outputs": [],
   "source": []
  },
  {
   "cell_type": "code",
   "execution_count": 8,
   "id": "74c5becb",
   "metadata": {},
   "outputs": [],
   "source": [
    "# remove the columns 'Patient File No.' and 'SI. No' as they are unique identifier"
   ]
  },
  {
   "cell_type": "code",
   "execution_count": 9,
   "id": "04e4dbf2",
   "metadata": {},
   "outputs": [],
   "source": [
    "df1.drop(['Patient File No.','Sl. No'],axis=1,inplace=True)"
   ]
  },
  {
   "cell_type": "code",
   "execution_count": 10,
   "id": "3ad2eae0",
   "metadata": {},
   "outputs": [
    {
     "data": {
      "text/html": [
       "<div>\n",
       "<style scoped>\n",
       "    .dataframe tbody tr th:only-of-type {\n",
       "        vertical-align: middle;\n",
       "    }\n",
       "\n",
       "    .dataframe tbody tr th {\n",
       "        vertical-align: top;\n",
       "    }\n",
       "\n",
       "    .dataframe thead th {\n",
       "        text-align: right;\n",
       "    }\n",
       "</style>\n",
       "<table border=\"1\" class=\"dataframe\">\n",
       "  <thead>\n",
       "    <tr style=\"text-align: right;\">\n",
       "      <th></th>\n",
       "      <th>PCOS (Y/N)</th>\n",
       "      <th>Age (yrs)</th>\n",
       "      <th>Weight (Kg)</th>\n",
       "      <th>Height(Cm)</th>\n",
       "      <th>BMI</th>\n",
       "      <th>Blood Group</th>\n",
       "      <th>Pulse rate(bpm)</th>\n",
       "      <th>RR (breaths/min)</th>\n",
       "      <th>Hb(g/dl)</th>\n",
       "      <th>Cycle(R/I)</th>\n",
       "      <th>...</th>\n",
       "      <th>Fast food (Y/N)</th>\n",
       "      <th>Reg.Exercise(Y/N)</th>\n",
       "      <th>BP _Systolic (mmHg)</th>\n",
       "      <th>BP _Diastolic (mmHg)</th>\n",
       "      <th>Follicle No. (L)</th>\n",
       "      <th>Follicle No. (R)</th>\n",
       "      <th>Avg. F size (L) (mm)</th>\n",
       "      <th>Avg. F size (R) (mm)</th>\n",
       "      <th>Endometrium (mm)</th>\n",
       "      <th>Unnamed: 44</th>\n",
       "    </tr>\n",
       "  </thead>\n",
       "  <tbody>\n",
       "    <tr>\n",
       "      <th>0</th>\n",
       "      <td>0.0</td>\n",
       "      <td>28.0</td>\n",
       "      <td>44.6</td>\n",
       "      <td>152.0</td>\n",
       "      <td>19.300000</td>\n",
       "      <td>15.0</td>\n",
       "      <td>78.0</td>\n",
       "      <td>22.0</td>\n",
       "      <td>10.48</td>\n",
       "      <td>2.0</td>\n",
       "      <td>...</td>\n",
       "      <td>1.0</td>\n",
       "      <td>0.0</td>\n",
       "      <td>110.0</td>\n",
       "      <td>80.0</td>\n",
       "      <td>3.0</td>\n",
       "      <td>3.0</td>\n",
       "      <td>18.0</td>\n",
       "      <td>18.0</td>\n",
       "      <td>8.5</td>\n",
       "      <td>NaN</td>\n",
       "    </tr>\n",
       "    <tr>\n",
       "      <th>1</th>\n",
       "      <td>0.0</td>\n",
       "      <td>36.0</td>\n",
       "      <td>65.0</td>\n",
       "      <td>161.5</td>\n",
       "      <td>24.921163</td>\n",
       "      <td>15.0</td>\n",
       "      <td>74.0</td>\n",
       "      <td>20.0</td>\n",
       "      <td>11.70</td>\n",
       "      <td>2.0</td>\n",
       "      <td>...</td>\n",
       "      <td>0.0</td>\n",
       "      <td>0.0</td>\n",
       "      <td>120.0</td>\n",
       "      <td>70.0</td>\n",
       "      <td>3.0</td>\n",
       "      <td>5.0</td>\n",
       "      <td>15.0</td>\n",
       "      <td>14.0</td>\n",
       "      <td>3.7</td>\n",
       "      <td>NaN</td>\n",
       "    </tr>\n",
       "    <tr>\n",
       "      <th>2</th>\n",
       "      <td>1.0</td>\n",
       "      <td>33.0</td>\n",
       "      <td>68.8</td>\n",
       "      <td>165.0</td>\n",
       "      <td>25.270891</td>\n",
       "      <td>11.0</td>\n",
       "      <td>72.0</td>\n",
       "      <td>18.0</td>\n",
       "      <td>11.80</td>\n",
       "      <td>2.0</td>\n",
       "      <td>...</td>\n",
       "      <td>1.0</td>\n",
       "      <td>0.0</td>\n",
       "      <td>120.0</td>\n",
       "      <td>80.0</td>\n",
       "      <td>13.0</td>\n",
       "      <td>15.0</td>\n",
       "      <td>18.0</td>\n",
       "      <td>20.0</td>\n",
       "      <td>10.0</td>\n",
       "      <td>NaN</td>\n",
       "    </tr>\n",
       "    <tr>\n",
       "      <th>3</th>\n",
       "      <td>0.0</td>\n",
       "      <td>37.0</td>\n",
       "      <td>65.0</td>\n",
       "      <td>148.0</td>\n",
       "      <td>29.674945</td>\n",
       "      <td>13.0</td>\n",
       "      <td>72.0</td>\n",
       "      <td>20.0</td>\n",
       "      <td>12.00</td>\n",
       "      <td>2.0</td>\n",
       "      <td>...</td>\n",
       "      <td>0.0</td>\n",
       "      <td>0.0</td>\n",
       "      <td>120.0</td>\n",
       "      <td>70.0</td>\n",
       "      <td>2.0</td>\n",
       "      <td>2.0</td>\n",
       "      <td>15.0</td>\n",
       "      <td>14.0</td>\n",
       "      <td>7.5</td>\n",
       "      <td>NaN</td>\n",
       "    </tr>\n",
       "    <tr>\n",
       "      <th>4</th>\n",
       "      <td>0.0</td>\n",
       "      <td>25.0</td>\n",
       "      <td>52.0</td>\n",
       "      <td>161.0</td>\n",
       "      <td>20.060954</td>\n",
       "      <td>11.0</td>\n",
       "      <td>72.0</td>\n",
       "      <td>18.0</td>\n",
       "      <td>10.00</td>\n",
       "      <td>2.0</td>\n",
       "      <td>...</td>\n",
       "      <td>0.0</td>\n",
       "      <td>0.0</td>\n",
       "      <td>120.0</td>\n",
       "      <td>80.0</td>\n",
       "      <td>3.0</td>\n",
       "      <td>4.0</td>\n",
       "      <td>16.0</td>\n",
       "      <td>14.0</td>\n",
       "      <td>7.0</td>\n",
       "      <td>NaN</td>\n",
       "    </tr>\n",
       "  </tbody>\n",
       "</table>\n",
       "<p>5 rows × 43 columns</p>\n",
       "</div>"
      ],
      "text/plain": [
       "   PCOS (Y/N)   Age (yrs)  Weight (Kg)  Height(Cm)         BMI  Blood Group  \\\n",
       "0         0.0        28.0         44.6        152.0  19.300000         15.0   \n",
       "1         0.0        36.0         65.0        161.5  24.921163         15.0   \n",
       "2         1.0        33.0         68.8        165.0  25.270891         11.0   \n",
       "3         0.0        37.0         65.0        148.0  29.674945         13.0   \n",
       "4         0.0        25.0         52.0        161.0  20.060954         11.0   \n",
       "\n",
       "   Pulse rate(bpm)   RR (breaths/min)  Hb(g/dl)  Cycle(R/I)  ...  \\\n",
       "0              78.0              22.0     10.48         2.0  ...   \n",
       "1              74.0              20.0     11.70         2.0  ...   \n",
       "2              72.0              18.0     11.80         2.0  ...   \n",
       "3              72.0              20.0     12.00         2.0  ...   \n",
       "4              72.0              18.0     10.00         2.0  ...   \n",
       "\n",
       "   Fast food (Y/N)  Reg.Exercise(Y/N)  BP _Systolic (mmHg)  \\\n",
       "0              1.0                0.0                110.0   \n",
       "1              0.0                0.0                120.0   \n",
       "2              1.0                0.0                120.0   \n",
       "3              0.0                0.0                120.0   \n",
       "4              0.0                0.0                120.0   \n",
       "\n",
       "   BP _Diastolic (mmHg)  Follicle No. (L) Follicle No. (R)  \\\n",
       "0                  80.0               3.0              3.0   \n",
       "1                  70.0               3.0              5.0   \n",
       "2                  80.0              13.0             15.0   \n",
       "3                  70.0               2.0              2.0   \n",
       "4                  80.0               3.0              4.0   \n",
       "\n",
       "   Avg. F size (L) (mm)  Avg. F size (R) (mm)  Endometrium (mm)  Unnamed: 44  \n",
       "0                  18.0                  18.0               8.5          NaN  \n",
       "1                  15.0                  14.0               3.7          NaN  \n",
       "2                  18.0                  20.0              10.0          NaN  \n",
       "3                  15.0                  14.0               7.5          NaN  \n",
       "4                  16.0                  14.0               7.0          NaN  \n",
       "\n",
       "[5 rows x 43 columns]"
      ]
     },
     "execution_count": 10,
     "metadata": {},
     "output_type": "execute_result"
    }
   ],
   "source": [
    "df1.head()"
   ]
  },
  {
   "cell_type": "code",
   "execution_count": 11,
   "id": "c4dab2f3",
   "metadata": {},
   "outputs": [
    {
     "data": {
      "text/plain": [
       "(541, 43)"
      ]
     },
     "execution_count": 11,
     "metadata": {},
     "output_type": "execute_result"
    }
   ],
   "source": [
    "df1.shape"
   ]
  },
  {
   "cell_type": "code",
   "execution_count": 12,
   "id": "fab79d55",
   "metadata": {},
   "outputs": [
    {
     "data": {
      "text/html": [
       "<div>\n",
       "<style scoped>\n",
       "    .dataframe tbody tr th:only-of-type {\n",
       "        vertical-align: middle;\n",
       "    }\n",
       "\n",
       "    .dataframe tbody tr th {\n",
       "        vertical-align: top;\n",
       "    }\n",
       "\n",
       "    .dataframe thead th {\n",
       "        text-align: right;\n",
       "    }\n",
       "</style>\n",
       "<table border=\"1\" class=\"dataframe\">\n",
       "  <thead>\n",
       "    <tr style=\"text-align: right;\">\n",
       "      <th></th>\n",
       "      <th>PCOS (Y/N)</th>\n",
       "      <th>Age (yrs)</th>\n",
       "      <th>Weight (Kg)</th>\n",
       "      <th>Height(Cm)</th>\n",
       "      <th>BMI</th>\n",
       "      <th>Blood Group</th>\n",
       "      <th>Pulse rate(bpm)</th>\n",
       "      <th>RR (breaths/min)</th>\n",
       "      <th>Hb(g/dl)</th>\n",
       "      <th>Cycle(R/I)</th>\n",
       "      <th>...</th>\n",
       "      <th>Pimples(Y/N)</th>\n",
       "      <th>Fast food (Y/N)</th>\n",
       "      <th>Reg.Exercise(Y/N)</th>\n",
       "      <th>BP _Systolic (mmHg)</th>\n",
       "      <th>BP _Diastolic (mmHg)</th>\n",
       "      <th>Follicle No. (L)</th>\n",
       "      <th>Follicle No. (R)</th>\n",
       "      <th>Avg. F size (L) (mm)</th>\n",
       "      <th>Avg. F size (R) (mm)</th>\n",
       "      <th>Endometrium (mm)</th>\n",
       "    </tr>\n",
       "  </thead>\n",
       "  <tbody>\n",
       "    <tr>\n",
       "      <th>count</th>\n",
       "      <td>541.000000</td>\n",
       "      <td>541.000000</td>\n",
       "      <td>541.000000</td>\n",
       "      <td>541.000000</td>\n",
       "      <td>541.000000</td>\n",
       "      <td>541.000000</td>\n",
       "      <td>541.000000</td>\n",
       "      <td>541.000000</td>\n",
       "      <td>541.000000</td>\n",
       "      <td>541.000000</td>\n",
       "      <td>...</td>\n",
       "      <td>541.000000</td>\n",
       "      <td>540.000000</td>\n",
       "      <td>541.000000</td>\n",
       "      <td>541.000000</td>\n",
       "      <td>541.000000</td>\n",
       "      <td>541.000000</td>\n",
       "      <td>541.000000</td>\n",
       "      <td>541.000000</td>\n",
       "      <td>541.000000</td>\n",
       "      <td>541.000000</td>\n",
       "    </tr>\n",
       "    <tr>\n",
       "      <th>mean</th>\n",
       "      <td>0.327172</td>\n",
       "      <td>31.430684</td>\n",
       "      <td>59.637153</td>\n",
       "      <td>156.484835</td>\n",
       "      <td>24.311285</td>\n",
       "      <td>13.802218</td>\n",
       "      <td>73.247689</td>\n",
       "      <td>19.243993</td>\n",
       "      <td>11.160037</td>\n",
       "      <td>2.560074</td>\n",
       "      <td>...</td>\n",
       "      <td>0.489834</td>\n",
       "      <td>0.514815</td>\n",
       "      <td>0.247689</td>\n",
       "      <td>114.661738</td>\n",
       "      <td>76.927911</td>\n",
       "      <td>6.129390</td>\n",
       "      <td>6.641405</td>\n",
       "      <td>15.018115</td>\n",
       "      <td>15.451701</td>\n",
       "      <td>8.475915</td>\n",
       "    </tr>\n",
       "    <tr>\n",
       "      <th>std</th>\n",
       "      <td>0.469615</td>\n",
       "      <td>5.411006</td>\n",
       "      <td>11.028287</td>\n",
       "      <td>6.033545</td>\n",
       "      <td>4.056399</td>\n",
       "      <td>1.840812</td>\n",
       "      <td>4.430285</td>\n",
       "      <td>1.688629</td>\n",
       "      <td>0.866904</td>\n",
       "      <td>0.901950</td>\n",
       "      <td>...</td>\n",
       "      <td>0.500359</td>\n",
       "      <td>0.500244</td>\n",
       "      <td>0.432070</td>\n",
       "      <td>7.384556</td>\n",
       "      <td>5.574112</td>\n",
       "      <td>4.229294</td>\n",
       "      <td>4.436889</td>\n",
       "      <td>3.566839</td>\n",
       "      <td>3.318848</td>\n",
       "      <td>2.165381</td>\n",
       "    </tr>\n",
       "    <tr>\n",
       "      <th>min</th>\n",
       "      <td>0.000000</td>\n",
       "      <td>20.000000</td>\n",
       "      <td>31.000000</td>\n",
       "      <td>137.000000</td>\n",
       "      <td>12.417882</td>\n",
       "      <td>11.000000</td>\n",
       "      <td>13.000000</td>\n",
       "      <td>16.000000</td>\n",
       "      <td>8.500000</td>\n",
       "      <td>2.000000</td>\n",
       "      <td>...</td>\n",
       "      <td>0.000000</td>\n",
       "      <td>0.000000</td>\n",
       "      <td>0.000000</td>\n",
       "      <td>12.000000</td>\n",
       "      <td>8.000000</td>\n",
       "      <td>0.000000</td>\n",
       "      <td>0.000000</td>\n",
       "      <td>0.000000</td>\n",
       "      <td>0.000000</td>\n",
       "      <td>0.000000</td>\n",
       "    </tr>\n",
       "    <tr>\n",
       "      <th>25%</th>\n",
       "      <td>0.000000</td>\n",
       "      <td>28.000000</td>\n",
       "      <td>52.000000</td>\n",
       "      <td>152.000000</td>\n",
       "      <td>21.641274</td>\n",
       "      <td>13.000000</td>\n",
       "      <td>72.000000</td>\n",
       "      <td>18.000000</td>\n",
       "      <td>10.500000</td>\n",
       "      <td>2.000000</td>\n",
       "      <td>...</td>\n",
       "      <td>0.000000</td>\n",
       "      <td>0.000000</td>\n",
       "      <td>0.000000</td>\n",
       "      <td>110.000000</td>\n",
       "      <td>70.000000</td>\n",
       "      <td>3.000000</td>\n",
       "      <td>3.000000</td>\n",
       "      <td>13.000000</td>\n",
       "      <td>13.000000</td>\n",
       "      <td>7.000000</td>\n",
       "    </tr>\n",
       "    <tr>\n",
       "      <th>50%</th>\n",
       "      <td>0.000000</td>\n",
       "      <td>31.000000</td>\n",
       "      <td>59.000000</td>\n",
       "      <td>156.000000</td>\n",
       "      <td>24.238227</td>\n",
       "      <td>14.000000</td>\n",
       "      <td>72.000000</td>\n",
       "      <td>18.000000</td>\n",
       "      <td>11.000000</td>\n",
       "      <td>2.000000</td>\n",
       "      <td>...</td>\n",
       "      <td>0.000000</td>\n",
       "      <td>1.000000</td>\n",
       "      <td>0.000000</td>\n",
       "      <td>110.000000</td>\n",
       "      <td>80.000000</td>\n",
       "      <td>5.000000</td>\n",
       "      <td>6.000000</td>\n",
       "      <td>15.000000</td>\n",
       "      <td>16.000000</td>\n",
       "      <td>8.500000</td>\n",
       "    </tr>\n",
       "    <tr>\n",
       "      <th>75%</th>\n",
       "      <td>1.000000</td>\n",
       "      <td>35.000000</td>\n",
       "      <td>65.000000</td>\n",
       "      <td>160.000000</td>\n",
       "      <td>26.634958</td>\n",
       "      <td>15.000000</td>\n",
       "      <td>74.000000</td>\n",
       "      <td>20.000000</td>\n",
       "      <td>11.700000</td>\n",
       "      <td>4.000000</td>\n",
       "      <td>...</td>\n",
       "      <td>1.000000</td>\n",
       "      <td>1.000000</td>\n",
       "      <td>0.000000</td>\n",
       "      <td>120.000000</td>\n",
       "      <td>80.000000</td>\n",
       "      <td>9.000000</td>\n",
       "      <td>10.000000</td>\n",
       "      <td>18.000000</td>\n",
       "      <td>18.000000</td>\n",
       "      <td>9.800000</td>\n",
       "    </tr>\n",
       "    <tr>\n",
       "      <th>max</th>\n",
       "      <td>1.000000</td>\n",
       "      <td>48.000000</td>\n",
       "      <td>108.000000</td>\n",
       "      <td>180.000000</td>\n",
       "      <td>38.900000</td>\n",
       "      <td>18.000000</td>\n",
       "      <td>82.000000</td>\n",
       "      <td>28.000000</td>\n",
       "      <td>14.800000</td>\n",
       "      <td>5.000000</td>\n",
       "      <td>...</td>\n",
       "      <td>1.000000</td>\n",
       "      <td>1.000000</td>\n",
       "      <td>1.000000</td>\n",
       "      <td>140.000000</td>\n",
       "      <td>100.000000</td>\n",
       "      <td>22.000000</td>\n",
       "      <td>20.000000</td>\n",
       "      <td>24.000000</td>\n",
       "      <td>24.000000</td>\n",
       "      <td>18.000000</td>\n",
       "    </tr>\n",
       "  </tbody>\n",
       "</table>\n",
       "<p>8 rows × 40 columns</p>\n",
       "</div>"
      ],
      "text/plain": [
       "       PCOS (Y/N)   Age (yrs)  Weight (Kg)  Height(Cm)          BMI  \\\n",
       "count  541.000000  541.000000   541.000000   541.000000  541.000000   \n",
       "mean     0.327172   31.430684    59.637153   156.484835   24.311285   \n",
       "std      0.469615    5.411006    11.028287     6.033545    4.056399   \n",
       "min      0.000000   20.000000    31.000000   137.000000   12.417882   \n",
       "25%      0.000000   28.000000    52.000000   152.000000   21.641274   \n",
       "50%      0.000000   31.000000    59.000000   156.000000   24.238227   \n",
       "75%      1.000000   35.000000    65.000000   160.000000   26.634958   \n",
       "max      1.000000   48.000000   108.000000   180.000000   38.900000   \n",
       "\n",
       "       Blood Group  Pulse rate(bpm)   RR (breaths/min)    Hb(g/dl)  \\\n",
       "count   541.000000        541.000000        541.000000  541.000000   \n",
       "mean     13.802218         73.247689         19.243993   11.160037   \n",
       "std       1.840812          4.430285          1.688629    0.866904   \n",
       "min      11.000000         13.000000         16.000000    8.500000   \n",
       "25%      13.000000         72.000000         18.000000   10.500000   \n",
       "50%      14.000000         72.000000         18.000000   11.000000   \n",
       "75%      15.000000         74.000000         20.000000   11.700000   \n",
       "max      18.000000         82.000000         28.000000   14.800000   \n",
       "\n",
       "       Cycle(R/I)  ...  Pimples(Y/N)  Fast food (Y/N)  Reg.Exercise(Y/N)  \\\n",
       "count  541.000000  ...    541.000000       540.000000         541.000000   \n",
       "mean     2.560074  ...      0.489834         0.514815           0.247689   \n",
       "std      0.901950  ...      0.500359         0.500244           0.432070   \n",
       "min      2.000000  ...      0.000000         0.000000           0.000000   \n",
       "25%      2.000000  ...      0.000000         0.000000           0.000000   \n",
       "50%      2.000000  ...      0.000000         1.000000           0.000000   \n",
       "75%      4.000000  ...      1.000000         1.000000           0.000000   \n",
       "max      5.000000  ...      1.000000         1.000000           1.000000   \n",
       "\n",
       "       BP _Systolic (mmHg)  BP _Diastolic (mmHg)  Follicle No. (L)  \\\n",
       "count           541.000000            541.000000        541.000000   \n",
       "mean            114.661738             76.927911          6.129390   \n",
       "std               7.384556              5.574112          4.229294   \n",
       "min              12.000000              8.000000          0.000000   \n",
       "25%             110.000000             70.000000          3.000000   \n",
       "50%             110.000000             80.000000          5.000000   \n",
       "75%             120.000000             80.000000          9.000000   \n",
       "max             140.000000            100.000000         22.000000   \n",
       "\n",
       "       Follicle No. (R)  Avg. F size (L) (mm)  Avg. F size (R) (mm)  \\\n",
       "count        541.000000            541.000000            541.000000   \n",
       "mean           6.641405             15.018115             15.451701   \n",
       "std            4.436889              3.566839              3.318848   \n",
       "min            0.000000              0.000000              0.000000   \n",
       "25%            3.000000             13.000000             13.000000   \n",
       "50%            6.000000             15.000000             16.000000   \n",
       "75%           10.000000             18.000000             18.000000   \n",
       "max           20.000000             24.000000             24.000000   \n",
       "\n",
       "       Endometrium (mm)  \n",
       "count        541.000000  \n",
       "mean           8.475915  \n",
       "std            2.165381  \n",
       "min            0.000000  \n",
       "25%            7.000000  \n",
       "50%            8.500000  \n",
       "75%            9.800000  \n",
       "max           18.000000  \n",
       "\n",
       "[8 rows x 40 columns]"
      ]
     },
     "execution_count": 12,
     "metadata": {},
     "output_type": "execute_result"
    }
   ],
   "source": [
    "df1.describe()                    #The describe() method shows a summary of the numerical attributes "
   ]
  },
  {
   "cell_type": "markdown",
   "id": "3b1842de",
   "metadata": {},
   "source": [
    "### Check for the nulls"
   ]
  },
  {
   "cell_type": "code",
   "execution_count": 13,
   "id": "11bd9d44",
   "metadata": {},
   "outputs": [
    {
     "data": {
      "text/plain": [
       "Marraige Status (Yrs)      1\n",
       "Fast food (Y/N)            1\n",
       "Unnamed: 44              539\n",
       "dtype: int64"
      ]
     },
     "execution_count": 13,
     "metadata": {},
     "output_type": "execute_result"
    }
   ],
   "source": [
    "df1.isnull().sum()[df1.isnull().sum() >0 ]"
   ]
  },
  {
   "cell_type": "code",
   "execution_count": 14,
   "id": "56ebdc4e",
   "metadata": {},
   "outputs": [],
   "source": [
    "# Since, there is only 1 null value in the columns 'Marraige status' and 'Fast Food', we can ignore them. \n",
    "# Whilw, the column Unnamed have mostly missing values , its not useful for our analysis purpose."
   ]
  },
  {
   "cell_type": "code",
   "execution_count": null,
   "id": "e95161be",
   "metadata": {},
   "outputs": [],
   "source": []
  },
  {
   "cell_type": "code",
   "execution_count": 15,
   "id": "badf57a1",
   "metadata": {},
   "outputs": [],
   "source": [
    "df1.drop('Unnamed: 44',axis=1,inplace=True)"
   ]
  },
  {
   "cell_type": "code",
   "execution_count": 16,
   "id": "2d417378",
   "metadata": {},
   "outputs": [
    {
     "data": {
      "text/plain": [
       "Marraige Status (Yrs)    1\n",
       "Fast food (Y/N)          1\n",
       "dtype: int64"
      ]
     },
     "execution_count": 16,
     "metadata": {},
     "output_type": "execute_result"
    }
   ],
   "source": [
    "df1.isnull().sum()[df1.isnull().sum() >0 ]               # all the nulls are removed"
   ]
  },
  {
   "cell_type": "code",
   "execution_count": 17,
   "id": "9963caae",
   "metadata": {},
   "outputs": [
    {
     "data": {
      "text/plain": [
       "(541, 42)"
      ]
     },
     "execution_count": 17,
     "metadata": {},
     "output_type": "execute_result"
    }
   ],
   "source": [
    "df1.shape"
   ]
  },
  {
   "cell_type": "markdown",
   "id": "64500f2c",
   "metadata": {},
   "source": [
    "### Convert non numeric data to numeric "
   ]
  },
  {
   "cell_type": "code",
   "execution_count": 18,
   "id": "9d8b8c0e",
   "metadata": {},
   "outputs": [],
   "source": [
    "# Since in machine learning , we will work only with numerical data, we will convert all variables of object type into numebers."
   ]
  },
  {
   "cell_type": "code",
   "execution_count": 19,
   "id": "bfbfdf62",
   "metadata": {},
   "outputs": [
    {
     "data": {
      "text/plain": [
       "II    beta-HCG(mIU/mL)    object\n",
       "AMH(ng/mL)                object\n",
       "dtype: object"
      ]
     },
     "execution_count": 19,
     "metadata": {},
     "output_type": "execute_result"
    }
   ],
   "source": [
    "df1.dtypes[df1.dtypes == 'object']"
   ]
  },
  {
   "cell_type": "code",
   "execution_count": 20,
   "id": "1783669f",
   "metadata": {},
   "outputs": [],
   "source": [
    "df1['II    beta-HCG(mIU/mL)'] = pd.to_numeric(df1['II    beta-HCG(mIU/mL)'],errors='coerce')\n",
    "df1['AMH(ng/mL)'] = pd.to_numeric(df1['AMH(ng/mL)'],errors='coerce')"
   ]
  },
  {
   "cell_type": "code",
   "execution_count": 21,
   "id": "187f7bf9",
   "metadata": {},
   "outputs": [
    {
     "name": "stdout",
     "output_type": "stream",
     "text": [
      "<class 'pandas.core.frame.DataFrame'>\n",
      "RangeIndex: 541 entries, 0 to 540\n",
      "Data columns (total 42 columns):\n",
      " #   Column                  Non-Null Count  Dtype  \n",
      "---  ------                  --------------  -----  \n",
      " 0   PCOS (Y/N)              541 non-null    float64\n",
      " 1    Age (yrs)              541 non-null    float64\n",
      " 2   Weight (Kg)             541 non-null    float64\n",
      " 3   Height(Cm)              541 non-null    float64\n",
      " 4   BMI                     541 non-null    float64\n",
      " 5   Blood Group             541 non-null    float64\n",
      " 6   Pulse rate(bpm)         541 non-null    float64\n",
      " 7   RR (breaths/min)        541 non-null    float64\n",
      " 8   Hb(g/dl)                541 non-null    float64\n",
      " 9   Cycle(R/I)              541 non-null    float64\n",
      " 10  Cycle length(days)      541 non-null    float64\n",
      " 11  Marraige Status (Yrs)   540 non-null    float64\n",
      " 12  Pregnant(Y/N)           541 non-null    float64\n",
      " 13  No. of aborptions       541 non-null    float64\n",
      " 14    I   beta-HCG(mIU/mL)  541 non-null    float64\n",
      " 15  II    beta-HCG(mIU/mL)  540 non-null    float64\n",
      " 16  FSH(mIU/mL)             541 non-null    float64\n",
      " 17  LH(mIU/mL)              541 non-null    float64\n",
      " 18  FSH/LH                  541 non-null    float64\n",
      " 19  Hip(inch)               541 non-null    float64\n",
      " 20  Waist(inch)             541 non-null    float64\n",
      " 21  Waist:Hip Ratio         541 non-null    float64\n",
      " 22  TSH (mIU/L)             541 non-null    float64\n",
      " 23  AMH(ng/mL)              540 non-null    float64\n",
      " 24  PRL(ng/mL)              541 non-null    float64\n",
      " 25  Vit D3 (ng/mL)          541 non-null    float64\n",
      " 26  PRG(ng/mL)              541 non-null    float64\n",
      " 27  RBS(mg/dl)              541 non-null    float64\n",
      " 28  Weight gain(Y/N)        541 non-null    float64\n",
      " 29  hair growth(Y/N)        541 non-null    float64\n",
      " 30  Skin darkening (Y/N)    541 non-null    float64\n",
      " 31  Hair loss(Y/N)          541 non-null    float64\n",
      " 32  Pimples(Y/N)            541 non-null    float64\n",
      " 33  Fast food (Y/N)         540 non-null    float64\n",
      " 34  Reg.Exercise(Y/N)       541 non-null    float64\n",
      " 35  BP _Systolic (mmHg)     541 non-null    float64\n",
      " 36  BP _Diastolic (mmHg)    541 non-null    float64\n",
      " 37  Follicle No. (L)        541 non-null    float64\n",
      " 38  Follicle No. (R)        541 non-null    float64\n",
      " 39  Avg. F size (L) (mm)    541 non-null    float64\n",
      " 40  Avg. F size (R) (mm)    541 non-null    float64\n",
      " 41  Endometrium (mm)        541 non-null    float64\n",
      "dtypes: float64(42)\n",
      "memory usage: 177.6 KB\n"
     ]
    }
   ],
   "source": [
    "df1.info()"
   ]
  },
  {
   "cell_type": "code",
   "execution_count": 22,
   "id": "b37d2dbe",
   "metadata": {},
   "outputs": [
    {
     "data": {
      "text/plain": [
       "Series([], dtype: object)"
      ]
     },
     "execution_count": 22,
     "metadata": {},
     "output_type": "execute_result"
    }
   ],
   "source": [
    "df1.dtypes[df1.dtypes == 'object']                  # All columns are converted to numbers."
   ]
  },
  {
   "cell_type": "code",
   "execution_count": null,
   "id": "cf63aab5",
   "metadata": {},
   "outputs": [],
   "source": []
  },
  {
   "cell_type": "code",
   "execution_count": 23,
   "id": "72387670",
   "metadata": {},
   "outputs": [
    {
     "data": {
      "text/plain": [
       "Index(['PCOS (Y/N)', ' Age (yrs)', 'Weight (Kg)', 'Height(Cm) ', 'BMI',\n",
       "       'Blood Group', 'Pulse rate(bpm) ', 'RR (breaths/min)', 'Hb(g/dl)',\n",
       "       'Cycle(R/I)', 'Cycle length(days)', 'Marraige Status (Yrs)',\n",
       "       'Pregnant(Y/N)', 'No. of aborptions', '  I   beta-HCG(mIU/mL)',\n",
       "       'II    beta-HCG(mIU/mL)', 'FSH(mIU/mL)', 'LH(mIU/mL)', 'FSH/LH',\n",
       "       'Hip(inch)', 'Waist(inch)', 'Waist:Hip Ratio', 'TSH (mIU/L)',\n",
       "       'AMH(ng/mL)', 'PRL(ng/mL)', 'Vit D3 (ng/mL)', 'PRG(ng/mL)',\n",
       "       'RBS(mg/dl)', 'Weight gain(Y/N)', 'hair growth(Y/N)',\n",
       "       'Skin darkening (Y/N)', 'Hair loss(Y/N)', 'Pimples(Y/N)',\n",
       "       'Fast food (Y/N)', 'Reg.Exercise(Y/N)', 'BP _Systolic (mmHg)',\n",
       "       'BP _Diastolic (mmHg)', 'Follicle No. (L)', 'Follicle No. (R)',\n",
       "       'Avg. F size (L) (mm)', 'Avg. F size (R) (mm)', 'Endometrium (mm)'],\n",
       "      dtype='object')"
      ]
     },
     "execution_count": 23,
     "metadata": {},
     "output_type": "execute_result"
    }
   ],
   "source": [
    "df1.columns"
   ]
  },
  {
   "cell_type": "code",
   "execution_count": null,
   "id": "a4448d1a",
   "metadata": {},
   "outputs": [],
   "source": []
  },
  {
   "cell_type": "code",
   "execution_count": 24,
   "id": "73431ca8",
   "metadata": {},
   "outputs": [],
   "source": [
    "# correlation"
   ]
  },
  {
   "cell_type": "code",
   "execution_count": 25,
   "id": "1bb510f5",
   "metadata": {},
   "outputs": [
    {
     "data": {
      "text/html": [
       "<div>\n",
       "<style scoped>\n",
       "    .dataframe tbody tr th:only-of-type {\n",
       "        vertical-align: middle;\n",
       "    }\n",
       "\n",
       "    .dataframe tbody tr th {\n",
       "        vertical-align: top;\n",
       "    }\n",
       "\n",
       "    .dataframe thead th {\n",
       "        text-align: right;\n",
       "    }\n",
       "</style>\n",
       "<table border=\"1\" class=\"dataframe\">\n",
       "  <thead>\n",
       "    <tr style=\"text-align: right;\">\n",
       "      <th></th>\n",
       "      <th>PCOS (Y/N)</th>\n",
       "      <th>Age (yrs)</th>\n",
       "      <th>Weight (Kg)</th>\n",
       "      <th>Height(Cm)</th>\n",
       "      <th>BMI</th>\n",
       "      <th>Blood Group</th>\n",
       "      <th>Pulse rate(bpm)</th>\n",
       "      <th>RR (breaths/min)</th>\n",
       "      <th>Hb(g/dl)</th>\n",
       "      <th>Cycle(R/I)</th>\n",
       "      <th>...</th>\n",
       "      <th>Pimples(Y/N)</th>\n",
       "      <th>Fast food (Y/N)</th>\n",
       "      <th>Reg.Exercise(Y/N)</th>\n",
       "      <th>BP _Systolic (mmHg)</th>\n",
       "      <th>BP _Diastolic (mmHg)</th>\n",
       "      <th>Follicle No. (L)</th>\n",
       "      <th>Follicle No. (R)</th>\n",
       "      <th>Avg. F size (L) (mm)</th>\n",
       "      <th>Avg. F size (R) (mm)</th>\n",
       "      <th>Endometrium (mm)</th>\n",
       "    </tr>\n",
       "  </thead>\n",
       "  <tbody>\n",
       "    <tr>\n",
       "      <th>PCOS (Y/N)</th>\n",
       "      <td>1.000000</td>\n",
       "      <td>-0.168513</td>\n",
       "      <td>0.211938</td>\n",
       "      <td>0.068254</td>\n",
       "      <td>0.199534</td>\n",
       "      <td>0.036433</td>\n",
       "      <td>0.091821</td>\n",
       "      <td>0.036928</td>\n",
       "      <td>0.087170</td>\n",
       "      <td>0.401644</td>\n",
       "      <td>...</td>\n",
       "      <td>0.286077</td>\n",
       "      <td>0.377933</td>\n",
       "      <td>0.065337</td>\n",
       "      <td>0.007942</td>\n",
       "      <td>0.038032</td>\n",
       "      <td>0.603346</td>\n",
       "      <td>0.648327</td>\n",
       "      <td>0.132992</td>\n",
       "      <td>0.097690</td>\n",
       "      <td>0.106648</td>\n",
       "    </tr>\n",
       "    <tr>\n",
       "      <th>Age (yrs)</th>\n",
       "      <td>-0.168513</td>\n",
       "      <td>1.000000</td>\n",
       "      <td>-0.029734</td>\n",
       "      <td>-0.119819</td>\n",
       "      <td>0.021261</td>\n",
       "      <td>-0.010954</td>\n",
       "      <td>0.045831</td>\n",
       "      <td>0.087382</td>\n",
       "      <td>-0.021558</td>\n",
       "      <td>-0.085943</td>\n",
       "      <td>...</td>\n",
       "      <td>-0.032921</td>\n",
       "      <td>-0.037694</td>\n",
       "      <td>-0.025911</td>\n",
       "      <td>0.073587</td>\n",
       "      <td>0.066788</td>\n",
       "      <td>-0.110793</td>\n",
       "      <td>-0.159395</td>\n",
       "      <td>-0.016352</td>\n",
       "      <td>-0.079250</td>\n",
       "      <td>-0.104238</td>\n",
       "    </tr>\n",
       "    <tr>\n",
       "      <th>Weight (Kg)</th>\n",
       "      <td>0.211938</td>\n",
       "      <td>-0.029734</td>\n",
       "      <td>1.000000</td>\n",
       "      <td>0.420098</td>\n",
       "      <td>0.901675</td>\n",
       "      <td>0.072682</td>\n",
       "      <td>0.019983</td>\n",
       "      <td>0.043614</td>\n",
       "      <td>0.009594</td>\n",
       "      <td>0.200758</td>\n",
       "      <td>...</td>\n",
       "      <td>0.063983</td>\n",
       "      <td>0.162015</td>\n",
       "      <td>-0.068236</td>\n",
       "      <td>0.027608</td>\n",
       "      <td>0.131402</td>\n",
       "      <td>0.173751</td>\n",
       "      <td>0.124290</td>\n",
       "      <td>-0.021368</td>\n",
       "      <td>-0.073207</td>\n",
       "      <td>-0.010100</td>\n",
       "    </tr>\n",
       "    <tr>\n",
       "      <th>Height(Cm)</th>\n",
       "      <td>0.068254</td>\n",
       "      <td>-0.119819</td>\n",
       "      <td>0.420098</td>\n",
       "      <td>1.000000</td>\n",
       "      <td>-0.006878</td>\n",
       "      <td>0.040825</td>\n",
       "      <td>-0.074339</td>\n",
       "      <td>-0.029459</td>\n",
       "      <td>0.024378</td>\n",
       "      <td>-0.017336</td>\n",
       "      <td>...</td>\n",
       "      <td>0.061129</td>\n",
       "      <td>0.032418</td>\n",
       "      <td>0.012943</td>\n",
       "      <td>-0.067959</td>\n",
       "      <td>0.011116</td>\n",
       "      <td>0.106189</td>\n",
       "      <td>0.075358</td>\n",
       "      <td>-0.026705</td>\n",
       "      <td>0.059426</td>\n",
       "      <td>-0.054035</td>\n",
       "    </tr>\n",
       "    <tr>\n",
       "      <th>BMI</th>\n",
       "      <td>0.199534</td>\n",
       "      <td>0.021261</td>\n",
       "      <td>0.901675</td>\n",
       "      <td>-0.006878</td>\n",
       "      <td>1.000000</td>\n",
       "      <td>0.061939</td>\n",
       "      <td>0.050529</td>\n",
       "      <td>0.061905</td>\n",
       "      <td>0.003512</td>\n",
       "      <td>0.232828</td>\n",
       "      <td>...</td>\n",
       "      <td>0.045656</td>\n",
       "      <td>0.159279</td>\n",
       "      <td>-0.080192</td>\n",
       "      <td>0.069491</td>\n",
       "      <td>0.139975</td>\n",
       "      <td>0.142886</td>\n",
       "      <td>0.104204</td>\n",
       "      <td>-0.011610</td>\n",
       "      <td>-0.111522</td>\n",
       "      <td>0.009349</td>\n",
       "    </tr>\n",
       "    <tr>\n",
       "      <th>Blood Group</th>\n",
       "      <td>0.036433</td>\n",
       "      <td>-0.010954</td>\n",
       "      <td>0.072682</td>\n",
       "      <td>0.040825</td>\n",
       "      <td>0.061939</td>\n",
       "      <td>1.000000</td>\n",
       "      <td>0.047572</td>\n",
       "      <td>-0.023766</td>\n",
       "      <td>-0.001759</td>\n",
       "      <td>0.123724</td>\n",
       "      <td>...</td>\n",
       "      <td>0.039029</td>\n",
       "      <td>-0.035090</td>\n",
       "      <td>0.064035</td>\n",
       "      <td>0.030898</td>\n",
       "      <td>0.054014</td>\n",
       "      <td>0.061332</td>\n",
       "      <td>0.013974</td>\n",
       "      <td>-0.035667</td>\n",
       "      <td>-0.015725</td>\n",
       "      <td>-0.015335</td>\n",
       "    </tr>\n",
       "    <tr>\n",
       "      <th>Pulse rate(bpm)</th>\n",
       "      <td>0.091821</td>\n",
       "      <td>0.045831</td>\n",
       "      <td>0.019983</td>\n",
       "      <td>-0.074339</td>\n",
       "      <td>0.050529</td>\n",
       "      <td>0.047572</td>\n",
       "      <td>1.000000</td>\n",
       "      <td>0.303804</td>\n",
       "      <td>-0.052048</td>\n",
       "      <td>0.101006</td>\n",
       "      <td>...</td>\n",
       "      <td>-0.003039</td>\n",
       "      <td>0.059804</td>\n",
       "      <td>-0.038881</td>\n",
       "      <td>-0.025510</td>\n",
       "      <td>0.007623</td>\n",
       "      <td>0.040390</td>\n",
       "      <td>0.049182</td>\n",
       "      <td>-0.048356</td>\n",
       "      <td>-0.034202</td>\n",
       "      <td>-0.041241</td>\n",
       "    </tr>\n",
       "    <tr>\n",
       "      <th>RR (breaths/min)</th>\n",
       "      <td>0.036928</td>\n",
       "      <td>0.087382</td>\n",
       "      <td>0.043614</td>\n",
       "      <td>-0.029459</td>\n",
       "      <td>0.061905</td>\n",
       "      <td>-0.023766</td>\n",
       "      <td>0.303804</td>\n",
       "      <td>1.000000</td>\n",
       "      <td>-0.040487</td>\n",
       "      <td>0.018324</td>\n",
       "      <td>...</td>\n",
       "      <td>0.029242</td>\n",
       "      <td>0.135479</td>\n",
       "      <td>-0.047451</td>\n",
       "      <td>0.017323</td>\n",
       "      <td>0.052631</td>\n",
       "      <td>0.069731</td>\n",
       "      <td>0.012441</td>\n",
       "      <td>-0.031051</td>\n",
       "      <td>-0.021893</td>\n",
       "      <td>-0.063930</td>\n",
       "    </tr>\n",
       "    <tr>\n",
       "      <th>Hb(g/dl)</th>\n",
       "      <td>0.087170</td>\n",
       "      <td>-0.021558</td>\n",
       "      <td>0.009594</td>\n",
       "      <td>0.024378</td>\n",
       "      <td>0.003512</td>\n",
       "      <td>-0.001759</td>\n",
       "      <td>-0.052048</td>\n",
       "      <td>-0.040487</td>\n",
       "      <td>1.000000</td>\n",
       "      <td>0.036683</td>\n",
       "      <td>...</td>\n",
       "      <td>0.053794</td>\n",
       "      <td>0.076293</td>\n",
       "      <td>0.011643</td>\n",
       "      <td>0.053020</td>\n",
       "      <td>0.000606</td>\n",
       "      <td>0.061195</td>\n",
       "      <td>0.072958</td>\n",
       "      <td>0.032617</td>\n",
       "      <td>0.024335</td>\n",
       "      <td>-0.066446</td>\n",
       "    </tr>\n",
       "    <tr>\n",
       "      <th>Cycle(R/I)</th>\n",
       "      <td>0.401644</td>\n",
       "      <td>-0.085943</td>\n",
       "      <td>0.200758</td>\n",
       "      <td>-0.017336</td>\n",
       "      <td>0.232828</td>\n",
       "      <td>0.123724</td>\n",
       "      <td>0.101006</td>\n",
       "      <td>0.018324</td>\n",
       "      <td>0.036683</td>\n",
       "      <td>1.000000</td>\n",
       "      <td>...</td>\n",
       "      <td>0.121380</td>\n",
       "      <td>0.206062</td>\n",
       "      <td>-0.004989</td>\n",
       "      <td>0.054910</td>\n",
       "      <td>0.081345</td>\n",
       "      <td>0.296518</td>\n",
       "      <td>0.251575</td>\n",
       "      <td>0.033450</td>\n",
       "      <td>0.016007</td>\n",
       "      <td>0.043614</td>\n",
       "    </tr>\n",
       "    <tr>\n",
       "      <th>Cycle length(days)</th>\n",
       "      <td>-0.178480</td>\n",
       "      <td>0.055918</td>\n",
       "      <td>-0.002308</td>\n",
       "      <td>0.009536</td>\n",
       "      <td>-0.006232</td>\n",
       "      <td>-0.006290</td>\n",
       "      <td>0.006423</td>\n",
       "      <td>0.005004</td>\n",
       "      <td>-0.051927</td>\n",
       "      <td>-0.201017</td>\n",
       "      <td>...</td>\n",
       "      <td>-0.050418</td>\n",
       "      <td>-0.079600</td>\n",
       "      <td>0.025641</td>\n",
       "      <td>-0.011904</td>\n",
       "      <td>-0.075775</td>\n",
       "      <td>-0.086826</td>\n",
       "      <td>-0.161263</td>\n",
       "      <td>-0.052308</td>\n",
       "      <td>-0.013944</td>\n",
       "      <td>-0.016577</td>\n",
       "    </tr>\n",
       "    <tr>\n",
       "      <th>Marraige Status (Yrs)</th>\n",
       "      <td>-0.112897</td>\n",
       "      <td>0.662080</td>\n",
       "      <td>0.043816</td>\n",
       "      <td>-0.066747</td>\n",
       "      <td>0.084000</td>\n",
       "      <td>-0.001795</td>\n",
       "      <td>0.038784</td>\n",
       "      <td>0.077910</td>\n",
       "      <td>0.007057</td>\n",
       "      <td>-0.033858</td>\n",
       "      <td>...</td>\n",
       "      <td>0.054997</td>\n",
       "      <td>-0.013126</td>\n",
       "      <td>0.059633</td>\n",
       "      <td>0.028831</td>\n",
       "      <td>0.005103</td>\n",
       "      <td>-0.079310</td>\n",
       "      <td>-0.087398</td>\n",
       "      <td>-0.071918</td>\n",
       "      <td>-0.097441</td>\n",
       "      <td>-0.106378</td>\n",
       "    </tr>\n",
       "    <tr>\n",
       "      <th>Pregnant(Y/N)</th>\n",
       "      <td>-0.027565</td>\n",
       "      <td>-0.044165</td>\n",
       "      <td>-0.051048</td>\n",
       "      <td>0.046365</td>\n",
       "      <td>-0.073950</td>\n",
       "      <td>-0.070906</td>\n",
       "      <td>0.082542</td>\n",
       "      <td>0.078381</td>\n",
       "      <td>-0.092991</td>\n",
       "      <td>-0.081848</td>\n",
       "      <td>...</td>\n",
       "      <td>0.107326</td>\n",
       "      <td>0.060629</td>\n",
       "      <td>-0.079578</td>\n",
       "      <td>-0.025962</td>\n",
       "      <td>0.022455</td>\n",
       "      <td>0.046257</td>\n",
       "      <td>0.030804</td>\n",
       "      <td>-0.114761</td>\n",
       "      <td>-0.117732</td>\n",
       "      <td>-0.013053</td>\n",
       "    </tr>\n",
       "    <tr>\n",
       "      <th>No. of aborptions</th>\n",
       "      <td>-0.057158</td>\n",
       "      <td>0.220794</td>\n",
       "      <td>0.093540</td>\n",
       "      <td>-0.025648</td>\n",
       "      <td>0.109861</td>\n",
       "      <td>-0.053956</td>\n",
       "      <td>0.046087</td>\n",
       "      <td>-0.006433</td>\n",
       "      <td>0.060189</td>\n",
       "      <td>-0.057428</td>\n",
       "      <td>...</td>\n",
       "      <td>-0.082371</td>\n",
       "      <td>-0.071227</td>\n",
       "      <td>-0.041089</td>\n",
       "      <td>-0.083726</td>\n",
       "      <td>0.071592</td>\n",
       "      <td>-0.057649</td>\n",
       "      <td>-0.078379</td>\n",
       "      <td>-0.056992</td>\n",
       "      <td>-0.117679</td>\n",
       "      <td>-0.066610</td>\n",
       "    </tr>\n",
       "    <tr>\n",
       "      <th>I   beta-HCG(mIU/mL)</th>\n",
       "      <td>-0.027617</td>\n",
       "      <td>0.008148</td>\n",
       "      <td>0.015994</td>\n",
       "      <td>0.062301</td>\n",
       "      <td>-0.009960</td>\n",
       "      <td>-0.035303</td>\n",
       "      <td>-0.020494</td>\n",
       "      <td>-0.085164</td>\n",
       "      <td>-0.016857</td>\n",
       "      <td>0.063288</td>\n",
       "      <td>...</td>\n",
       "      <td>-0.011253</td>\n",
       "      <td>0.025400</td>\n",
       "      <td>0.039773</td>\n",
       "      <td>-0.081927</td>\n",
       "      <td>0.004346</td>\n",
       "      <td>0.048485</td>\n",
       "      <td>0.018390</td>\n",
       "      <td>0.049893</td>\n",
       "      <td>0.071802</td>\n",
       "      <td>-0.051375</td>\n",
       "    </tr>\n",
       "    <tr>\n",
       "      <th>II    beta-HCG(mIU/mL)</th>\n",
       "      <td>0.013177</td>\n",
       "      <td>0.042725</td>\n",
       "      <td>-0.000920</td>\n",
       "      <td>0.036404</td>\n",
       "      <td>-0.015744</td>\n",
       "      <td>-0.011073</td>\n",
       "      <td>-0.016226</td>\n",
       "      <td>-0.039354</td>\n",
       "      <td>-0.094689</td>\n",
       "      <td>0.027930</td>\n",
       "      <td>...</td>\n",
       "      <td>-0.020376</td>\n",
       "      <td>-0.018774</td>\n",
       "      <td>-0.033508</td>\n",
       "      <td>-0.060134</td>\n",
       "      <td>0.004021</td>\n",
       "      <td>0.064529</td>\n",
       "      <td>0.038084</td>\n",
       "      <td>0.000080</td>\n",
       "      <td>0.037177</td>\n",
       "      <td>0.017913</td>\n",
       "    </tr>\n",
       "    <tr>\n",
       "      <th>FSH(mIU/mL)</th>\n",
       "      <td>-0.030319</td>\n",
       "      <td>-0.017794</td>\n",
       "      <td>-0.025750</td>\n",
       "      <td>0.030941</td>\n",
       "      <td>-0.040715</td>\n",
       "      <td>0.028109</td>\n",
       "      <td>-0.013088</td>\n",
       "      <td>-0.032427</td>\n",
       "      <td>-0.047443</td>\n",
       "      <td>-0.026012</td>\n",
       "      <td>...</td>\n",
       "      <td>0.044349</td>\n",
       "      <td>0.040879</td>\n",
       "      <td>-0.023683</td>\n",
       "      <td>-0.026889</td>\n",
       "      <td>0.023375</td>\n",
       "      <td>-0.002291</td>\n",
       "      <td>-0.025318</td>\n",
       "      <td>0.011488</td>\n",
       "      <td>0.020167</td>\n",
       "      <td>-0.048945</td>\n",
       "    </tr>\n",
       "    <tr>\n",
       "      <th>LH(mIU/mL)</th>\n",
       "      <td>0.063879</td>\n",
       "      <td>0.000467</td>\n",
       "      <td>-0.029864</td>\n",
       "      <td>-0.045498</td>\n",
       "      <td>-0.013310</td>\n",
       "      <td>-0.019542</td>\n",
       "      <td>-0.032336</td>\n",
       "      <td>-0.031264</td>\n",
       "      <td>-0.089156</td>\n",
       "      <td>-0.021304</td>\n",
       "      <td>...</td>\n",
       "      <td>0.044005</td>\n",
       "      <td>-0.043083</td>\n",
       "      <td>0.076208</td>\n",
       "      <td>-0.027780</td>\n",
       "      <td>0.024093</td>\n",
       "      <td>-0.001213</td>\n",
       "      <td>0.003478</td>\n",
       "      <td>0.035549</td>\n",
       "      <td>0.032473</td>\n",
       "      <td>0.010942</td>\n",
       "    </tr>\n",
       "    <tr>\n",
       "      <th>FSH/LH</th>\n",
       "      <td>-0.018336</td>\n",
       "      <td>0.012464</td>\n",
       "      <td>-0.004844</td>\n",
       "      <td>0.022021</td>\n",
       "      <td>-0.012077</td>\n",
       "      <td>0.036279</td>\n",
       "      <td>-0.013096</td>\n",
       "      <td>-0.043311</td>\n",
       "      <td>-0.039785</td>\n",
       "      <td>-0.016188</td>\n",
       "      <td>...</td>\n",
       "      <td>0.050395</td>\n",
       "      <td>0.045398</td>\n",
       "      <td>-0.029046</td>\n",
       "      <td>-0.019261</td>\n",
       "      <td>0.026828</td>\n",
       "      <td>0.005849</td>\n",
       "      <td>-0.007521</td>\n",
       "      <td>0.014943</td>\n",
       "      <td>0.024077</td>\n",
       "      <td>-0.053737</td>\n",
       "    </tr>\n",
       "    <tr>\n",
       "      <th>Hip(inch)</th>\n",
       "      <td>0.162297</td>\n",
       "      <td>-0.002784</td>\n",
       "      <td>0.633983</td>\n",
       "      <td>0.216173</td>\n",
       "      <td>0.596768</td>\n",
       "      <td>-0.001468</td>\n",
       "      <td>0.062679</td>\n",
       "      <td>0.074340</td>\n",
       "      <td>-0.025561</td>\n",
       "      <td>0.175019</td>\n",
       "      <td>...</td>\n",
       "      <td>-0.039213</td>\n",
       "      <td>0.091094</td>\n",
       "      <td>-0.032415</td>\n",
       "      <td>-0.013105</td>\n",
       "      <td>0.106477</td>\n",
       "      <td>0.120119</td>\n",
       "      <td>0.095254</td>\n",
       "      <td>-0.082986</td>\n",
       "      <td>-0.104558</td>\n",
       "      <td>0.029576</td>\n",
       "    </tr>\n",
       "    <tr>\n",
       "      <th>Waist(inch)</th>\n",
       "      <td>0.164598</td>\n",
       "      <td>0.035779</td>\n",
       "      <td>0.639635</td>\n",
       "      <td>0.209553</td>\n",
       "      <td>0.607501</td>\n",
       "      <td>0.004752</td>\n",
       "      <td>0.037804</td>\n",
       "      <td>0.038106</td>\n",
       "      <td>-0.001049</td>\n",
       "      <td>0.169056</td>\n",
       "      <td>...</td>\n",
       "      <td>0.034085</td>\n",
       "      <td>0.140386</td>\n",
       "      <td>-0.069944</td>\n",
       "      <td>0.034226</td>\n",
       "      <td>0.125597</td>\n",
       "      <td>0.130027</td>\n",
       "      <td>0.093545</td>\n",
       "      <td>0.030797</td>\n",
       "      <td>-0.015341</td>\n",
       "      <td>0.013364</td>\n",
       "    </tr>\n",
       "    <tr>\n",
       "      <th>Waist:Hip Ratio</th>\n",
       "      <td>0.012386</td>\n",
       "      <td>0.068413</td>\n",
       "      <td>0.014285</td>\n",
       "      <td>-0.010484</td>\n",
       "      <td>0.023538</td>\n",
       "      <td>0.015817</td>\n",
       "      <td>-0.052483</td>\n",
       "      <td>-0.074554</td>\n",
       "      <td>0.058347</td>\n",
       "      <td>-0.005264</td>\n",
       "      <td>...</td>\n",
       "      <td>0.146257</td>\n",
       "      <td>0.092386</td>\n",
       "      <td>-0.073383</td>\n",
       "      <td>0.090310</td>\n",
       "      <td>0.039862</td>\n",
       "      <td>0.025392</td>\n",
       "      <td>-0.002959</td>\n",
       "      <td>0.230166</td>\n",
       "      <td>0.176588</td>\n",
       "      <td>-0.029430</td>\n",
       "    </tr>\n",
       "    <tr>\n",
       "      <th>TSH (mIU/L)</th>\n",
       "      <td>-0.010140</td>\n",
       "      <td>0.016740</td>\n",
       "      <td>0.068482</td>\n",
       "      <td>0.013504</td>\n",
       "      <td>0.071379</td>\n",
       "      <td>0.017600</td>\n",
       "      <td>-0.049812</td>\n",
       "      <td>-0.008952</td>\n",
       "      <td>-0.021848</td>\n",
       "      <td>-0.021227</td>\n",
       "      <td>...</td>\n",
       "      <td>-0.000259</td>\n",
       "      <td>-0.047114</td>\n",
       "      <td>-0.004943</td>\n",
       "      <td>0.052301</td>\n",
       "      <td>0.046345</td>\n",
       "      <td>-0.031079</td>\n",
       "      <td>-0.018995</td>\n",
       "      <td>-0.086579</td>\n",
       "      <td>-0.086789</td>\n",
       "      <td>0.005143</td>\n",
       "    </tr>\n",
       "    <tr>\n",
       "      <th>AMH(ng/mL)</th>\n",
       "      <td>0.263863</td>\n",
       "      <td>-0.179648</td>\n",
       "      <td>0.031050</td>\n",
       "      <td>-0.045208</td>\n",
       "      <td>0.054023</td>\n",
       "      <td>0.011581</td>\n",
       "      <td>-0.049843</td>\n",
       "      <td>-0.017480</td>\n",
       "      <td>0.056172</td>\n",
       "      <td>0.194063</td>\n",
       "      <td>...</td>\n",
       "      <td>0.076665</td>\n",
       "      <td>0.183243</td>\n",
       "      <td>0.117809</td>\n",
       "      <td>-0.003192</td>\n",
       "      <td>0.026038</td>\n",
       "      <td>0.203407</td>\n",
       "      <td>0.188537</td>\n",
       "      <td>0.134628</td>\n",
       "      <td>0.096079</td>\n",
       "      <td>0.104159</td>\n",
       "    </tr>\n",
       "    <tr>\n",
       "      <th>PRL(ng/mL)</th>\n",
       "      <td>0.005143</td>\n",
       "      <td>-0.048757</td>\n",
       "      <td>-0.049007</td>\n",
       "      <td>-0.016096</td>\n",
       "      <td>-0.047575</td>\n",
       "      <td>0.009837</td>\n",
       "      <td>0.020242</td>\n",
       "      <td>0.006042</td>\n",
       "      <td>-0.064647</td>\n",
       "      <td>0.006939</td>\n",
       "      <td>...</td>\n",
       "      <td>-0.018882</td>\n",
       "      <td>-0.011593</td>\n",
       "      <td>0.019757</td>\n",
       "      <td>-0.011918</td>\n",
       "      <td>-0.023324</td>\n",
       "      <td>-0.009400</td>\n",
       "      <td>-0.007575</td>\n",
       "      <td>0.084590</td>\n",
       "      <td>0.071089</td>\n",
       "      <td>0.030977</td>\n",
       "    </tr>\n",
       "    <tr>\n",
       "      <th>Vit D3 (ng/mL)</th>\n",
       "      <td>0.085494</td>\n",
       "      <td>0.004388</td>\n",
       "      <td>0.008164</td>\n",
       "      <td>-0.034934</td>\n",
       "      <td>0.027036</td>\n",
       "      <td>0.044622</td>\n",
       "      <td>-0.001496</td>\n",
       "      <td>-0.009042</td>\n",
       "      <td>0.063855</td>\n",
       "      <td>0.096720</td>\n",
       "      <td>...</td>\n",
       "      <td>0.061495</td>\n",
       "      <td>0.057431</td>\n",
       "      <td>-0.037137</td>\n",
       "      <td>0.042790</td>\n",
       "      <td>-0.024851</td>\n",
       "      <td>0.074185</td>\n",
       "      <td>0.091785</td>\n",
       "      <td>0.005406</td>\n",
       "      <td>-0.011821</td>\n",
       "      <td>-0.031253</td>\n",
       "    </tr>\n",
       "    <tr>\n",
       "      <th>PRG(ng/mL)</th>\n",
       "      <td>-0.043834</td>\n",
       "      <td>-0.021909</td>\n",
       "      <td>0.069731</td>\n",
       "      <td>0.049741</td>\n",
       "      <td>0.049462</td>\n",
       "      <td>-0.031897</td>\n",
       "      <td>-0.017703</td>\n",
       "      <td>-0.076948</td>\n",
       "      <td>0.065651</td>\n",
       "      <td>-0.033675</td>\n",
       "      <td>...</td>\n",
       "      <td>-0.058971</td>\n",
       "      <td>-0.037420</td>\n",
       "      <td>0.000308</td>\n",
       "      <td>-0.020737</td>\n",
       "      <td>0.032273</td>\n",
       "      <td>0.018561</td>\n",
       "      <td>0.031535</td>\n",
       "      <td>-0.040770</td>\n",
       "      <td>-0.040933</td>\n",
       "      <td>-0.047707</td>\n",
       "    </tr>\n",
       "    <tr>\n",
       "      <th>RBS(mg/dl)</th>\n",
       "      <td>0.048922</td>\n",
       "      <td>0.097008</td>\n",
       "      <td>0.114277</td>\n",
       "      <td>0.050399</td>\n",
       "      <td>0.093543</td>\n",
       "      <td>0.002159</td>\n",
       "      <td>0.042004</td>\n",
       "      <td>0.050809</td>\n",
       "      <td>0.024069</td>\n",
       "      <td>-0.006401</td>\n",
       "      <td>...</td>\n",
       "      <td>-0.042536</td>\n",
       "      <td>0.032806</td>\n",
       "      <td>-0.033025</td>\n",
       "      <td>0.052669</td>\n",
       "      <td>-0.032880</td>\n",
       "      <td>0.044323</td>\n",
       "      <td>0.027552</td>\n",
       "      <td>-0.046798</td>\n",
       "      <td>0.013140</td>\n",
       "      <td>-0.018691</td>\n",
       "    </tr>\n",
       "    <tr>\n",
       "      <th>Weight gain(Y/N)</th>\n",
       "      <td>0.441047</td>\n",
       "      <td>-0.028826</td>\n",
       "      <td>0.419333</td>\n",
       "      <td>0.018534</td>\n",
       "      <td>0.455356</td>\n",
       "      <td>0.009016</td>\n",
       "      <td>0.050383</td>\n",
       "      <td>0.050245</td>\n",
       "      <td>0.109394</td>\n",
       "      <td>0.252866</td>\n",
       "      <td>...</td>\n",
       "      <td>0.252334</td>\n",
       "      <td>0.374313</td>\n",
       "      <td>-0.040012</td>\n",
       "      <td>0.005689</td>\n",
       "      <td>0.107320</td>\n",
       "      <td>0.254181</td>\n",
       "      <td>0.255667</td>\n",
       "      <td>0.021731</td>\n",
       "      <td>-0.038506</td>\n",
       "      <td>0.038632</td>\n",
       "    </tr>\n",
       "    <tr>\n",
       "      <th>hair growth(Y/N)</th>\n",
       "      <td>0.464667</td>\n",
       "      <td>-0.073434</td>\n",
       "      <td>0.188240</td>\n",
       "      <td>0.048910</td>\n",
       "      <td>0.181919</td>\n",
       "      <td>0.086287</td>\n",
       "      <td>0.063085</td>\n",
       "      <td>-0.010104</td>\n",
       "      <td>0.145560</td>\n",
       "      <td>0.276587</td>\n",
       "      <td>...</td>\n",
       "      <td>0.153487</td>\n",
       "      <td>0.297454</td>\n",
       "      <td>0.012890</td>\n",
       "      <td>-0.043802</td>\n",
       "      <td>0.055596</td>\n",
       "      <td>0.308966</td>\n",
       "      <td>0.273203</td>\n",
       "      <td>0.032718</td>\n",
       "      <td>0.002061</td>\n",
       "      <td>0.056185</td>\n",
       "    </tr>\n",
       "    <tr>\n",
       "      <th>Skin darkening (Y/N)</th>\n",
       "      <td>0.475733</td>\n",
       "      <td>-0.103421</td>\n",
       "      <td>0.180186</td>\n",
       "      <td>0.074731</td>\n",
       "      <td>0.158704</td>\n",
       "      <td>0.023606</td>\n",
       "      <td>0.022533</td>\n",
       "      <td>-0.001194</td>\n",
       "      <td>0.025100</td>\n",
       "      <td>0.222516</td>\n",
       "      <td>...</td>\n",
       "      <td>0.165867</td>\n",
       "      <td>0.338288</td>\n",
       "      <td>0.110338</td>\n",
       "      <td>-0.011869</td>\n",
       "      <td>0.007173</td>\n",
       "      <td>0.318262</td>\n",
       "      <td>0.321459</td>\n",
       "      <td>0.038233</td>\n",
       "      <td>0.020172</td>\n",
       "      <td>0.102356</td>\n",
       "    </tr>\n",
       "    <tr>\n",
       "      <th>Hair loss(Y/N)</th>\n",
       "      <td>0.172879</td>\n",
       "      <td>-0.082784</td>\n",
       "      <td>0.074381</td>\n",
       "      <td>-0.013533</td>\n",
       "      <td>0.084453</td>\n",
       "      <td>-0.039461</td>\n",
       "      <td>0.038018</td>\n",
       "      <td>-0.039131</td>\n",
       "      <td>0.087854</td>\n",
       "      <td>0.102123</td>\n",
       "      <td>...</td>\n",
       "      <td>0.245066</td>\n",
       "      <td>0.278342</td>\n",
       "      <td>-0.005883</td>\n",
       "      <td>0.064362</td>\n",
       "      <td>-0.006227</td>\n",
       "      <td>0.098692</td>\n",
       "      <td>0.058519</td>\n",
       "      <td>-0.031718</td>\n",
       "      <td>-0.043863</td>\n",
       "      <td>0.155171</td>\n",
       "    </tr>\n",
       "    <tr>\n",
       "      <th>Pimples(Y/N)</th>\n",
       "      <td>0.286077</td>\n",
       "      <td>-0.032921</td>\n",
       "      <td>0.063983</td>\n",
       "      <td>0.061129</td>\n",
       "      <td>0.045656</td>\n",
       "      <td>0.039029</td>\n",
       "      <td>-0.003039</td>\n",
       "      <td>0.029242</td>\n",
       "      <td>0.053794</td>\n",
       "      <td>0.121380</td>\n",
       "      <td>...</td>\n",
       "      <td>1.000000</td>\n",
       "      <td>0.293320</td>\n",
       "      <td>0.088762</td>\n",
       "      <td>0.057456</td>\n",
       "      <td>0.014676</td>\n",
       "      <td>0.180018</td>\n",
       "      <td>0.201054</td>\n",
       "      <td>0.025110</td>\n",
       "      <td>-0.024568</td>\n",
       "      <td>0.033727</td>\n",
       "    </tr>\n",
       "    <tr>\n",
       "      <th>Fast food (Y/N)</th>\n",
       "      <td>0.377933</td>\n",
       "      <td>-0.037694</td>\n",
       "      <td>0.162015</td>\n",
       "      <td>0.032418</td>\n",
       "      <td>0.159279</td>\n",
       "      <td>-0.035090</td>\n",
       "      <td>0.059804</td>\n",
       "      <td>0.135479</td>\n",
       "      <td>0.076293</td>\n",
       "      <td>0.206062</td>\n",
       "      <td>...</td>\n",
       "      <td>0.293320</td>\n",
       "      <td>1.000000</td>\n",
       "      <td>0.064755</td>\n",
       "      <td>0.053607</td>\n",
       "      <td>0.072211</td>\n",
       "      <td>0.227320</td>\n",
       "      <td>0.248762</td>\n",
       "      <td>0.033693</td>\n",
       "      <td>0.044496</td>\n",
       "      <td>0.133289</td>\n",
       "    </tr>\n",
       "    <tr>\n",
       "      <th>Reg.Exercise(Y/N)</th>\n",
       "      <td>0.065337</td>\n",
       "      <td>-0.025911</td>\n",
       "      <td>-0.068236</td>\n",
       "      <td>0.012943</td>\n",
       "      <td>-0.080192</td>\n",
       "      <td>0.064035</td>\n",
       "      <td>-0.038881</td>\n",
       "      <td>-0.047451</td>\n",
       "      <td>0.011643</td>\n",
       "      <td>-0.004989</td>\n",
       "      <td>...</td>\n",
       "      <td>0.088762</td>\n",
       "      <td>0.064755</td>\n",
       "      <td>1.000000</td>\n",
       "      <td>0.026308</td>\n",
       "      <td>-0.054085</td>\n",
       "      <td>0.013845</td>\n",
       "      <td>0.045452</td>\n",
       "      <td>0.031330</td>\n",
       "      <td>0.043872</td>\n",
       "      <td>0.083879</td>\n",
       "    </tr>\n",
       "    <tr>\n",
       "      <th>BP _Systolic (mmHg)</th>\n",
       "      <td>0.007942</td>\n",
       "      <td>0.073587</td>\n",
       "      <td>0.027608</td>\n",
       "      <td>-0.067959</td>\n",
       "      <td>0.069491</td>\n",
       "      <td>0.030898</td>\n",
       "      <td>-0.025510</td>\n",
       "      <td>0.017323</td>\n",
       "      <td>0.053020</td>\n",
       "      <td>0.054910</td>\n",
       "      <td>...</td>\n",
       "      <td>0.057456</td>\n",
       "      <td>0.053607</td>\n",
       "      <td>0.026308</td>\n",
       "      <td>1.000000</td>\n",
       "      <td>0.100227</td>\n",
       "      <td>0.038759</td>\n",
       "      <td>0.025003</td>\n",
       "      <td>0.051979</td>\n",
       "      <td>0.038650</td>\n",
       "      <td>-0.020355</td>\n",
       "    </tr>\n",
       "    <tr>\n",
       "      <th>BP _Diastolic (mmHg)</th>\n",
       "      <td>0.038032</td>\n",
       "      <td>0.066788</td>\n",
       "      <td>0.131402</td>\n",
       "      <td>0.011116</td>\n",
       "      <td>0.139975</td>\n",
       "      <td>0.054014</td>\n",
       "      <td>0.007623</td>\n",
       "      <td>0.052631</td>\n",
       "      <td>0.000606</td>\n",
       "      <td>0.081345</td>\n",
       "      <td>...</td>\n",
       "      <td>0.014676</td>\n",
       "      <td>0.072211</td>\n",
       "      <td>-0.054085</td>\n",
       "      <td>0.100227</td>\n",
       "      <td>1.000000</td>\n",
       "      <td>0.026162</td>\n",
       "      <td>0.038638</td>\n",
       "      <td>0.035683</td>\n",
       "      <td>0.023597</td>\n",
       "      <td>-0.012232</td>\n",
       "    </tr>\n",
       "    <tr>\n",
       "      <th>Follicle No. (L)</th>\n",
       "      <td>0.603346</td>\n",
       "      <td>-0.110793</td>\n",
       "      <td>0.173751</td>\n",
       "      <td>0.106189</td>\n",
       "      <td>0.142886</td>\n",
       "      <td>0.061332</td>\n",
       "      <td>0.040390</td>\n",
       "      <td>0.069731</td>\n",
       "      <td>0.061195</td>\n",
       "      <td>0.296518</td>\n",
       "      <td>...</td>\n",
       "      <td>0.180018</td>\n",
       "      <td>0.227320</td>\n",
       "      <td>0.013845</td>\n",
       "      <td>0.038759</td>\n",
       "      <td>0.026162</td>\n",
       "      <td>1.000000</td>\n",
       "      <td>0.799572</td>\n",
       "      <td>0.249132</td>\n",
       "      <td>0.148809</td>\n",
       "      <td>0.079698</td>\n",
       "    </tr>\n",
       "    <tr>\n",
       "      <th>Follicle No. (R)</th>\n",
       "      <td>0.648327</td>\n",
       "      <td>-0.159395</td>\n",
       "      <td>0.124290</td>\n",
       "      <td>0.075358</td>\n",
       "      <td>0.104204</td>\n",
       "      <td>0.013974</td>\n",
       "      <td>0.049182</td>\n",
       "      <td>0.012441</td>\n",
       "      <td>0.072958</td>\n",
       "      <td>0.251575</td>\n",
       "      <td>...</td>\n",
       "      <td>0.201054</td>\n",
       "      <td>0.248762</td>\n",
       "      <td>0.045452</td>\n",
       "      <td>0.025003</td>\n",
       "      <td>0.038638</td>\n",
       "      <td>0.799572</td>\n",
       "      <td>1.000000</td>\n",
       "      <td>0.156194</td>\n",
       "      <td>0.187907</td>\n",
       "      <td>0.080588</td>\n",
       "    </tr>\n",
       "    <tr>\n",
       "      <th>Avg. F size (L) (mm)</th>\n",
       "      <td>0.132992</td>\n",
       "      <td>-0.016352</td>\n",
       "      <td>-0.021368</td>\n",
       "      <td>-0.026705</td>\n",
       "      <td>-0.011610</td>\n",
       "      <td>-0.035667</td>\n",
       "      <td>-0.048356</td>\n",
       "      <td>-0.031051</td>\n",
       "      <td>0.032617</td>\n",
       "      <td>0.033450</td>\n",
       "      <td>...</td>\n",
       "      <td>0.025110</td>\n",
       "      <td>0.033693</td>\n",
       "      <td>0.031330</td>\n",
       "      <td>0.051979</td>\n",
       "      <td>0.035683</td>\n",
       "      <td>0.249132</td>\n",
       "      <td>0.156194</td>\n",
       "      <td>1.000000</td>\n",
       "      <td>0.522802</td>\n",
       "      <td>-0.015516</td>\n",
       "    </tr>\n",
       "    <tr>\n",
       "      <th>Avg. F size (R) (mm)</th>\n",
       "      <td>0.097690</td>\n",
       "      <td>-0.079250</td>\n",
       "      <td>-0.073207</td>\n",
       "      <td>0.059426</td>\n",
       "      <td>-0.111522</td>\n",
       "      <td>-0.015725</td>\n",
       "      <td>-0.034202</td>\n",
       "      <td>-0.021893</td>\n",
       "      <td>0.024335</td>\n",
       "      <td>0.016007</td>\n",
       "      <td>...</td>\n",
       "      <td>-0.024568</td>\n",
       "      <td>0.044496</td>\n",
       "      <td>0.043872</td>\n",
       "      <td>0.038650</td>\n",
       "      <td>0.023597</td>\n",
       "      <td>0.148809</td>\n",
       "      <td>0.187907</td>\n",
       "      <td>0.522802</td>\n",
       "      <td>1.000000</td>\n",
       "      <td>-0.045959</td>\n",
       "    </tr>\n",
       "    <tr>\n",
       "      <th>Endometrium (mm)</th>\n",
       "      <td>0.106648</td>\n",
       "      <td>-0.104238</td>\n",
       "      <td>-0.010100</td>\n",
       "      <td>-0.054035</td>\n",
       "      <td>0.009349</td>\n",
       "      <td>-0.015335</td>\n",
       "      <td>-0.041241</td>\n",
       "      <td>-0.063930</td>\n",
       "      <td>-0.066446</td>\n",
       "      <td>0.043614</td>\n",
       "      <td>...</td>\n",
       "      <td>0.033727</td>\n",
       "      <td>0.133289</td>\n",
       "      <td>0.083879</td>\n",
       "      <td>-0.020355</td>\n",
       "      <td>-0.012232</td>\n",
       "      <td>0.079698</td>\n",
       "      <td>0.080588</td>\n",
       "      <td>-0.015516</td>\n",
       "      <td>-0.045959</td>\n",
       "      <td>1.000000</td>\n",
       "    </tr>\n",
       "  </tbody>\n",
       "</table>\n",
       "<p>42 rows × 42 columns</p>\n",
       "</div>"
      ],
      "text/plain": [
       "                        PCOS (Y/N)   Age (yrs)  Weight (Kg)  Height(Cm)   \\\n",
       "PCOS (Y/N)                1.000000   -0.168513     0.211938     0.068254   \n",
       " Age (yrs)               -0.168513    1.000000    -0.029734    -0.119819   \n",
       "Weight (Kg)               0.211938   -0.029734     1.000000     0.420098   \n",
       "Height(Cm)                0.068254   -0.119819     0.420098     1.000000   \n",
       "BMI                       0.199534    0.021261     0.901675    -0.006878   \n",
       "Blood Group               0.036433   -0.010954     0.072682     0.040825   \n",
       "Pulse rate(bpm)           0.091821    0.045831     0.019983    -0.074339   \n",
       "RR (breaths/min)          0.036928    0.087382     0.043614    -0.029459   \n",
       "Hb(g/dl)                  0.087170   -0.021558     0.009594     0.024378   \n",
       "Cycle(R/I)                0.401644   -0.085943     0.200758    -0.017336   \n",
       "Cycle length(days)       -0.178480    0.055918    -0.002308     0.009536   \n",
       "Marraige Status (Yrs)    -0.112897    0.662080     0.043816    -0.066747   \n",
       "Pregnant(Y/N)            -0.027565   -0.044165    -0.051048     0.046365   \n",
       "No. of aborptions        -0.057158    0.220794     0.093540    -0.025648   \n",
       "  I   beta-HCG(mIU/mL)   -0.027617    0.008148     0.015994     0.062301   \n",
       "II    beta-HCG(mIU/mL)    0.013177    0.042725    -0.000920     0.036404   \n",
       "FSH(mIU/mL)              -0.030319   -0.017794    -0.025750     0.030941   \n",
       "LH(mIU/mL)                0.063879    0.000467    -0.029864    -0.045498   \n",
       "FSH/LH                   -0.018336    0.012464    -0.004844     0.022021   \n",
       "Hip(inch)                 0.162297   -0.002784     0.633983     0.216173   \n",
       "Waist(inch)               0.164598    0.035779     0.639635     0.209553   \n",
       "Waist:Hip Ratio           0.012386    0.068413     0.014285    -0.010484   \n",
       "TSH (mIU/L)              -0.010140    0.016740     0.068482     0.013504   \n",
       "AMH(ng/mL)                0.263863   -0.179648     0.031050    -0.045208   \n",
       "PRL(ng/mL)                0.005143   -0.048757    -0.049007    -0.016096   \n",
       "Vit D3 (ng/mL)            0.085494    0.004388     0.008164    -0.034934   \n",
       "PRG(ng/mL)               -0.043834   -0.021909     0.069731     0.049741   \n",
       "RBS(mg/dl)                0.048922    0.097008     0.114277     0.050399   \n",
       "Weight gain(Y/N)          0.441047   -0.028826     0.419333     0.018534   \n",
       "hair growth(Y/N)          0.464667   -0.073434     0.188240     0.048910   \n",
       "Skin darkening (Y/N)      0.475733   -0.103421     0.180186     0.074731   \n",
       "Hair loss(Y/N)            0.172879   -0.082784     0.074381    -0.013533   \n",
       "Pimples(Y/N)              0.286077   -0.032921     0.063983     0.061129   \n",
       "Fast food (Y/N)           0.377933   -0.037694     0.162015     0.032418   \n",
       "Reg.Exercise(Y/N)         0.065337   -0.025911    -0.068236     0.012943   \n",
       "BP _Systolic (mmHg)       0.007942    0.073587     0.027608    -0.067959   \n",
       "BP _Diastolic (mmHg)      0.038032    0.066788     0.131402     0.011116   \n",
       "Follicle No. (L)          0.603346   -0.110793     0.173751     0.106189   \n",
       "Follicle No. (R)          0.648327   -0.159395     0.124290     0.075358   \n",
       "Avg. F size (L) (mm)      0.132992   -0.016352    -0.021368    -0.026705   \n",
       "Avg. F size (R) (mm)      0.097690   -0.079250    -0.073207     0.059426   \n",
       "Endometrium (mm)          0.106648   -0.104238    -0.010100    -0.054035   \n",
       "\n",
       "                             BMI  Blood Group  Pulse rate(bpm)   \\\n",
       "PCOS (Y/N)              0.199534     0.036433          0.091821   \n",
       " Age (yrs)              0.021261    -0.010954          0.045831   \n",
       "Weight (Kg)             0.901675     0.072682          0.019983   \n",
       "Height(Cm)             -0.006878     0.040825         -0.074339   \n",
       "BMI                     1.000000     0.061939          0.050529   \n",
       "Blood Group             0.061939     1.000000          0.047572   \n",
       "Pulse rate(bpm)         0.050529     0.047572          1.000000   \n",
       "RR (breaths/min)        0.061905    -0.023766          0.303804   \n",
       "Hb(g/dl)                0.003512    -0.001759         -0.052048   \n",
       "Cycle(R/I)              0.232828     0.123724          0.101006   \n",
       "Cycle length(days)     -0.006232    -0.006290          0.006423   \n",
       "Marraige Status (Yrs)   0.084000    -0.001795          0.038784   \n",
       "Pregnant(Y/N)          -0.073950    -0.070906          0.082542   \n",
       "No. of aborptions       0.109861    -0.053956          0.046087   \n",
       "  I   beta-HCG(mIU/mL) -0.009960    -0.035303         -0.020494   \n",
       "II    beta-HCG(mIU/mL) -0.015744    -0.011073         -0.016226   \n",
       "FSH(mIU/mL)            -0.040715     0.028109         -0.013088   \n",
       "LH(mIU/mL)             -0.013310    -0.019542         -0.032336   \n",
       "FSH/LH                 -0.012077     0.036279         -0.013096   \n",
       "Hip(inch)               0.596768    -0.001468          0.062679   \n",
       "Waist(inch)             0.607501     0.004752          0.037804   \n",
       "Waist:Hip Ratio         0.023538     0.015817         -0.052483   \n",
       "TSH (mIU/L)             0.071379     0.017600         -0.049812   \n",
       "AMH(ng/mL)              0.054023     0.011581         -0.049843   \n",
       "PRL(ng/mL)             -0.047575     0.009837          0.020242   \n",
       "Vit D3 (ng/mL)          0.027036     0.044622         -0.001496   \n",
       "PRG(ng/mL)              0.049462    -0.031897         -0.017703   \n",
       "RBS(mg/dl)              0.093543     0.002159          0.042004   \n",
       "Weight gain(Y/N)        0.455356     0.009016          0.050383   \n",
       "hair growth(Y/N)        0.181919     0.086287          0.063085   \n",
       "Skin darkening (Y/N)    0.158704     0.023606          0.022533   \n",
       "Hair loss(Y/N)          0.084453    -0.039461          0.038018   \n",
       "Pimples(Y/N)            0.045656     0.039029         -0.003039   \n",
       "Fast food (Y/N)         0.159279    -0.035090          0.059804   \n",
       "Reg.Exercise(Y/N)      -0.080192     0.064035         -0.038881   \n",
       "BP _Systolic (mmHg)     0.069491     0.030898         -0.025510   \n",
       "BP _Diastolic (mmHg)    0.139975     0.054014          0.007623   \n",
       "Follicle No. (L)        0.142886     0.061332          0.040390   \n",
       "Follicle No. (R)        0.104204     0.013974          0.049182   \n",
       "Avg. F size (L) (mm)   -0.011610    -0.035667         -0.048356   \n",
       "Avg. F size (R) (mm)   -0.111522    -0.015725         -0.034202   \n",
       "Endometrium (mm)        0.009349    -0.015335         -0.041241   \n",
       "\n",
       "                        RR (breaths/min)  Hb(g/dl)  Cycle(R/I)  ...  \\\n",
       "PCOS (Y/N)                      0.036928  0.087170    0.401644  ...   \n",
       " Age (yrs)                      0.087382 -0.021558   -0.085943  ...   \n",
       "Weight (Kg)                     0.043614  0.009594    0.200758  ...   \n",
       "Height(Cm)                     -0.029459  0.024378   -0.017336  ...   \n",
       "BMI                             0.061905  0.003512    0.232828  ...   \n",
       "Blood Group                    -0.023766 -0.001759    0.123724  ...   \n",
       "Pulse rate(bpm)                 0.303804 -0.052048    0.101006  ...   \n",
       "RR (breaths/min)                1.000000 -0.040487    0.018324  ...   \n",
       "Hb(g/dl)                       -0.040487  1.000000    0.036683  ...   \n",
       "Cycle(R/I)                      0.018324  0.036683    1.000000  ...   \n",
       "Cycle length(days)              0.005004 -0.051927   -0.201017  ...   \n",
       "Marraige Status (Yrs)           0.077910  0.007057   -0.033858  ...   \n",
       "Pregnant(Y/N)                   0.078381 -0.092991   -0.081848  ...   \n",
       "No. of aborptions              -0.006433  0.060189   -0.057428  ...   \n",
       "  I   beta-HCG(mIU/mL)         -0.085164 -0.016857    0.063288  ...   \n",
       "II    beta-HCG(mIU/mL)         -0.039354 -0.094689    0.027930  ...   \n",
       "FSH(mIU/mL)                    -0.032427 -0.047443   -0.026012  ...   \n",
       "LH(mIU/mL)                     -0.031264 -0.089156   -0.021304  ...   \n",
       "FSH/LH                         -0.043311 -0.039785   -0.016188  ...   \n",
       "Hip(inch)                       0.074340 -0.025561    0.175019  ...   \n",
       "Waist(inch)                     0.038106 -0.001049    0.169056  ...   \n",
       "Waist:Hip Ratio                -0.074554  0.058347   -0.005264  ...   \n",
       "TSH (mIU/L)                    -0.008952 -0.021848   -0.021227  ...   \n",
       "AMH(ng/mL)                     -0.017480  0.056172    0.194063  ...   \n",
       "PRL(ng/mL)                      0.006042 -0.064647    0.006939  ...   \n",
       "Vit D3 (ng/mL)                 -0.009042  0.063855    0.096720  ...   \n",
       "PRG(ng/mL)                     -0.076948  0.065651   -0.033675  ...   \n",
       "RBS(mg/dl)                      0.050809  0.024069   -0.006401  ...   \n",
       "Weight gain(Y/N)                0.050245  0.109394    0.252866  ...   \n",
       "hair growth(Y/N)               -0.010104  0.145560    0.276587  ...   \n",
       "Skin darkening (Y/N)           -0.001194  0.025100    0.222516  ...   \n",
       "Hair loss(Y/N)                 -0.039131  0.087854    0.102123  ...   \n",
       "Pimples(Y/N)                    0.029242  0.053794    0.121380  ...   \n",
       "Fast food (Y/N)                 0.135479  0.076293    0.206062  ...   \n",
       "Reg.Exercise(Y/N)              -0.047451  0.011643   -0.004989  ...   \n",
       "BP _Systolic (mmHg)             0.017323  0.053020    0.054910  ...   \n",
       "BP _Diastolic (mmHg)            0.052631  0.000606    0.081345  ...   \n",
       "Follicle No. (L)                0.069731  0.061195    0.296518  ...   \n",
       "Follicle No. (R)                0.012441  0.072958    0.251575  ...   \n",
       "Avg. F size (L) (mm)           -0.031051  0.032617    0.033450  ...   \n",
       "Avg. F size (R) (mm)           -0.021893  0.024335    0.016007  ...   \n",
       "Endometrium (mm)               -0.063930 -0.066446    0.043614  ...   \n",
       "\n",
       "                        Pimples(Y/N)  Fast food (Y/N)  Reg.Exercise(Y/N)  \\\n",
       "PCOS (Y/N)                  0.286077         0.377933           0.065337   \n",
       " Age (yrs)                 -0.032921        -0.037694          -0.025911   \n",
       "Weight (Kg)                 0.063983         0.162015          -0.068236   \n",
       "Height(Cm)                  0.061129         0.032418           0.012943   \n",
       "BMI                         0.045656         0.159279          -0.080192   \n",
       "Blood Group                 0.039029        -0.035090           0.064035   \n",
       "Pulse rate(bpm)            -0.003039         0.059804          -0.038881   \n",
       "RR (breaths/min)            0.029242         0.135479          -0.047451   \n",
       "Hb(g/dl)                    0.053794         0.076293           0.011643   \n",
       "Cycle(R/I)                  0.121380         0.206062          -0.004989   \n",
       "Cycle length(days)         -0.050418        -0.079600           0.025641   \n",
       "Marraige Status (Yrs)       0.054997        -0.013126           0.059633   \n",
       "Pregnant(Y/N)               0.107326         0.060629          -0.079578   \n",
       "No. of aborptions          -0.082371        -0.071227          -0.041089   \n",
       "  I   beta-HCG(mIU/mL)     -0.011253         0.025400           0.039773   \n",
       "II    beta-HCG(mIU/mL)     -0.020376        -0.018774          -0.033508   \n",
       "FSH(mIU/mL)                 0.044349         0.040879          -0.023683   \n",
       "LH(mIU/mL)                  0.044005        -0.043083           0.076208   \n",
       "FSH/LH                      0.050395         0.045398          -0.029046   \n",
       "Hip(inch)                  -0.039213         0.091094          -0.032415   \n",
       "Waist(inch)                 0.034085         0.140386          -0.069944   \n",
       "Waist:Hip Ratio             0.146257         0.092386          -0.073383   \n",
       "TSH (mIU/L)                -0.000259        -0.047114          -0.004943   \n",
       "AMH(ng/mL)                  0.076665         0.183243           0.117809   \n",
       "PRL(ng/mL)                 -0.018882        -0.011593           0.019757   \n",
       "Vit D3 (ng/mL)              0.061495         0.057431          -0.037137   \n",
       "PRG(ng/mL)                 -0.058971        -0.037420           0.000308   \n",
       "RBS(mg/dl)                 -0.042536         0.032806          -0.033025   \n",
       "Weight gain(Y/N)            0.252334         0.374313          -0.040012   \n",
       "hair growth(Y/N)            0.153487         0.297454           0.012890   \n",
       "Skin darkening (Y/N)        0.165867         0.338288           0.110338   \n",
       "Hair loss(Y/N)              0.245066         0.278342          -0.005883   \n",
       "Pimples(Y/N)                1.000000         0.293320           0.088762   \n",
       "Fast food (Y/N)             0.293320         1.000000           0.064755   \n",
       "Reg.Exercise(Y/N)           0.088762         0.064755           1.000000   \n",
       "BP _Systolic (mmHg)         0.057456         0.053607           0.026308   \n",
       "BP _Diastolic (mmHg)        0.014676         0.072211          -0.054085   \n",
       "Follicle No. (L)            0.180018         0.227320           0.013845   \n",
       "Follicle No. (R)            0.201054         0.248762           0.045452   \n",
       "Avg. F size (L) (mm)        0.025110         0.033693           0.031330   \n",
       "Avg. F size (R) (mm)       -0.024568         0.044496           0.043872   \n",
       "Endometrium (mm)            0.033727         0.133289           0.083879   \n",
       "\n",
       "                        BP _Systolic (mmHg)  BP _Diastolic (mmHg)  \\\n",
       "PCOS (Y/N)                         0.007942              0.038032   \n",
       " Age (yrs)                         0.073587              0.066788   \n",
       "Weight (Kg)                        0.027608              0.131402   \n",
       "Height(Cm)                        -0.067959              0.011116   \n",
       "BMI                                0.069491              0.139975   \n",
       "Blood Group                        0.030898              0.054014   \n",
       "Pulse rate(bpm)                   -0.025510              0.007623   \n",
       "RR (breaths/min)                   0.017323              0.052631   \n",
       "Hb(g/dl)                           0.053020              0.000606   \n",
       "Cycle(R/I)                         0.054910              0.081345   \n",
       "Cycle length(days)                -0.011904             -0.075775   \n",
       "Marraige Status (Yrs)              0.028831              0.005103   \n",
       "Pregnant(Y/N)                     -0.025962              0.022455   \n",
       "No. of aborptions                 -0.083726              0.071592   \n",
       "  I   beta-HCG(mIU/mL)            -0.081927              0.004346   \n",
       "II    beta-HCG(mIU/mL)            -0.060134              0.004021   \n",
       "FSH(mIU/mL)                       -0.026889              0.023375   \n",
       "LH(mIU/mL)                        -0.027780              0.024093   \n",
       "FSH/LH                            -0.019261              0.026828   \n",
       "Hip(inch)                         -0.013105              0.106477   \n",
       "Waist(inch)                        0.034226              0.125597   \n",
       "Waist:Hip Ratio                    0.090310              0.039862   \n",
       "TSH (mIU/L)                        0.052301              0.046345   \n",
       "AMH(ng/mL)                        -0.003192              0.026038   \n",
       "PRL(ng/mL)                        -0.011918             -0.023324   \n",
       "Vit D3 (ng/mL)                     0.042790             -0.024851   \n",
       "PRG(ng/mL)                        -0.020737              0.032273   \n",
       "RBS(mg/dl)                         0.052669             -0.032880   \n",
       "Weight gain(Y/N)                   0.005689              0.107320   \n",
       "hair growth(Y/N)                  -0.043802              0.055596   \n",
       "Skin darkening (Y/N)              -0.011869              0.007173   \n",
       "Hair loss(Y/N)                     0.064362             -0.006227   \n",
       "Pimples(Y/N)                       0.057456              0.014676   \n",
       "Fast food (Y/N)                    0.053607              0.072211   \n",
       "Reg.Exercise(Y/N)                  0.026308             -0.054085   \n",
       "BP _Systolic (mmHg)                1.000000              0.100227   \n",
       "BP _Diastolic (mmHg)               0.100227              1.000000   \n",
       "Follicle No. (L)                   0.038759              0.026162   \n",
       "Follicle No. (R)                   0.025003              0.038638   \n",
       "Avg. F size (L) (mm)               0.051979              0.035683   \n",
       "Avg. F size (R) (mm)               0.038650              0.023597   \n",
       "Endometrium (mm)                  -0.020355             -0.012232   \n",
       "\n",
       "                        Follicle No. (L)  Follicle No. (R)  \\\n",
       "PCOS (Y/N)                      0.603346          0.648327   \n",
       " Age (yrs)                     -0.110793         -0.159395   \n",
       "Weight (Kg)                     0.173751          0.124290   \n",
       "Height(Cm)                      0.106189          0.075358   \n",
       "BMI                             0.142886          0.104204   \n",
       "Blood Group                     0.061332          0.013974   \n",
       "Pulse rate(bpm)                 0.040390          0.049182   \n",
       "RR (breaths/min)                0.069731          0.012441   \n",
       "Hb(g/dl)                        0.061195          0.072958   \n",
       "Cycle(R/I)                      0.296518          0.251575   \n",
       "Cycle length(days)             -0.086826         -0.161263   \n",
       "Marraige Status (Yrs)          -0.079310         -0.087398   \n",
       "Pregnant(Y/N)                   0.046257          0.030804   \n",
       "No. of aborptions              -0.057649         -0.078379   \n",
       "  I   beta-HCG(mIU/mL)          0.048485          0.018390   \n",
       "II    beta-HCG(mIU/mL)          0.064529          0.038084   \n",
       "FSH(mIU/mL)                    -0.002291         -0.025318   \n",
       "LH(mIU/mL)                     -0.001213          0.003478   \n",
       "FSH/LH                          0.005849         -0.007521   \n",
       "Hip(inch)                       0.120119          0.095254   \n",
       "Waist(inch)                     0.130027          0.093545   \n",
       "Waist:Hip Ratio                 0.025392         -0.002959   \n",
       "TSH (mIU/L)                    -0.031079         -0.018995   \n",
       "AMH(ng/mL)                      0.203407          0.188537   \n",
       "PRL(ng/mL)                     -0.009400         -0.007575   \n",
       "Vit D3 (ng/mL)                  0.074185          0.091785   \n",
       "PRG(ng/mL)                      0.018561          0.031535   \n",
       "RBS(mg/dl)                      0.044323          0.027552   \n",
       "Weight gain(Y/N)                0.254181          0.255667   \n",
       "hair growth(Y/N)                0.308966          0.273203   \n",
       "Skin darkening (Y/N)            0.318262          0.321459   \n",
       "Hair loss(Y/N)                  0.098692          0.058519   \n",
       "Pimples(Y/N)                    0.180018          0.201054   \n",
       "Fast food (Y/N)                 0.227320          0.248762   \n",
       "Reg.Exercise(Y/N)               0.013845          0.045452   \n",
       "BP _Systolic (mmHg)             0.038759          0.025003   \n",
       "BP _Diastolic (mmHg)            0.026162          0.038638   \n",
       "Follicle No. (L)                1.000000          0.799572   \n",
       "Follicle No. (R)                0.799572          1.000000   \n",
       "Avg. F size (L) (mm)            0.249132          0.156194   \n",
       "Avg. F size (R) (mm)            0.148809          0.187907   \n",
       "Endometrium (mm)                0.079698          0.080588   \n",
       "\n",
       "                        Avg. F size (L) (mm)  Avg. F size (R) (mm)  \\\n",
       "PCOS (Y/N)                          0.132992              0.097690   \n",
       " Age (yrs)                         -0.016352             -0.079250   \n",
       "Weight (Kg)                        -0.021368             -0.073207   \n",
       "Height(Cm)                         -0.026705              0.059426   \n",
       "BMI                                -0.011610             -0.111522   \n",
       "Blood Group                        -0.035667             -0.015725   \n",
       "Pulse rate(bpm)                    -0.048356             -0.034202   \n",
       "RR (breaths/min)                   -0.031051             -0.021893   \n",
       "Hb(g/dl)                            0.032617              0.024335   \n",
       "Cycle(R/I)                          0.033450              0.016007   \n",
       "Cycle length(days)                 -0.052308             -0.013944   \n",
       "Marraige Status (Yrs)              -0.071918             -0.097441   \n",
       "Pregnant(Y/N)                      -0.114761             -0.117732   \n",
       "No. of aborptions                  -0.056992             -0.117679   \n",
       "  I   beta-HCG(mIU/mL)              0.049893              0.071802   \n",
       "II    beta-HCG(mIU/mL)              0.000080              0.037177   \n",
       "FSH(mIU/mL)                         0.011488              0.020167   \n",
       "LH(mIU/mL)                          0.035549              0.032473   \n",
       "FSH/LH                              0.014943              0.024077   \n",
       "Hip(inch)                          -0.082986             -0.104558   \n",
       "Waist(inch)                         0.030797             -0.015341   \n",
       "Waist:Hip Ratio                     0.230166              0.176588   \n",
       "TSH (mIU/L)                        -0.086579             -0.086789   \n",
       "AMH(ng/mL)                          0.134628              0.096079   \n",
       "PRL(ng/mL)                          0.084590              0.071089   \n",
       "Vit D3 (ng/mL)                      0.005406             -0.011821   \n",
       "PRG(ng/mL)                         -0.040770             -0.040933   \n",
       "RBS(mg/dl)                         -0.046798              0.013140   \n",
       "Weight gain(Y/N)                    0.021731             -0.038506   \n",
       "hair growth(Y/N)                    0.032718              0.002061   \n",
       "Skin darkening (Y/N)                0.038233              0.020172   \n",
       "Hair loss(Y/N)                     -0.031718             -0.043863   \n",
       "Pimples(Y/N)                        0.025110             -0.024568   \n",
       "Fast food (Y/N)                     0.033693              0.044496   \n",
       "Reg.Exercise(Y/N)                   0.031330              0.043872   \n",
       "BP _Systolic (mmHg)                 0.051979              0.038650   \n",
       "BP _Diastolic (mmHg)                0.035683              0.023597   \n",
       "Follicle No. (L)                    0.249132              0.148809   \n",
       "Follicle No. (R)                    0.156194              0.187907   \n",
       "Avg. F size (L) (mm)                1.000000              0.522802   \n",
       "Avg. F size (R) (mm)                0.522802              1.000000   \n",
       "Endometrium (mm)                   -0.015516             -0.045959   \n",
       "\n",
       "                        Endometrium (mm)  \n",
       "PCOS (Y/N)                      0.106648  \n",
       " Age (yrs)                     -0.104238  \n",
       "Weight (Kg)                    -0.010100  \n",
       "Height(Cm)                     -0.054035  \n",
       "BMI                             0.009349  \n",
       "Blood Group                    -0.015335  \n",
       "Pulse rate(bpm)                -0.041241  \n",
       "RR (breaths/min)               -0.063930  \n",
       "Hb(g/dl)                       -0.066446  \n",
       "Cycle(R/I)                      0.043614  \n",
       "Cycle length(days)             -0.016577  \n",
       "Marraige Status (Yrs)          -0.106378  \n",
       "Pregnant(Y/N)                  -0.013053  \n",
       "No. of aborptions              -0.066610  \n",
       "  I   beta-HCG(mIU/mL)         -0.051375  \n",
       "II    beta-HCG(mIU/mL)          0.017913  \n",
       "FSH(mIU/mL)                    -0.048945  \n",
       "LH(mIU/mL)                      0.010942  \n",
       "FSH/LH                         -0.053737  \n",
       "Hip(inch)                       0.029576  \n",
       "Waist(inch)                     0.013364  \n",
       "Waist:Hip Ratio                -0.029430  \n",
       "TSH (mIU/L)                     0.005143  \n",
       "AMH(ng/mL)                      0.104159  \n",
       "PRL(ng/mL)                      0.030977  \n",
       "Vit D3 (ng/mL)                 -0.031253  \n",
       "PRG(ng/mL)                     -0.047707  \n",
       "RBS(mg/dl)                     -0.018691  \n",
       "Weight gain(Y/N)                0.038632  \n",
       "hair growth(Y/N)                0.056185  \n",
       "Skin darkening (Y/N)            0.102356  \n",
       "Hair loss(Y/N)                  0.155171  \n",
       "Pimples(Y/N)                    0.033727  \n",
       "Fast food (Y/N)                 0.133289  \n",
       "Reg.Exercise(Y/N)               0.083879  \n",
       "BP _Systolic (mmHg)            -0.020355  \n",
       "BP _Diastolic (mmHg)           -0.012232  \n",
       "Follicle No. (L)                0.079698  \n",
       "Follicle No. (R)                0.080588  \n",
       "Avg. F size (L) (mm)           -0.015516  \n",
       "Avg. F size (R) (mm)           -0.045959  \n",
       "Endometrium (mm)                1.000000  \n",
       "\n",
       "[42 rows x 42 columns]"
      ]
     },
     "execution_count": 25,
     "metadata": {},
     "output_type": "execute_result"
    }
   ],
   "source": [
    "df1.corr()"
   ]
  },
  {
   "cell_type": "code",
   "execution_count": 26,
   "id": "82509a99",
   "metadata": {},
   "outputs": [],
   "source": [
    "correlation_with_target = df1.corr()['PCOS (Y/N)'].abs().sort_values(ascending=False)"
   ]
  },
  {
   "cell_type": "code",
   "execution_count": 27,
   "id": "81cc3c29",
   "metadata": {},
   "outputs": [
    {
     "data": {
      "text/plain": [
       "PCOS (Y/N)                1.000000\n",
       "Follicle No. (R)          0.648327\n",
       "Follicle No. (L)          0.603346\n",
       "Skin darkening (Y/N)      0.475733\n",
       "hair growth(Y/N)          0.464667\n",
       "Weight gain(Y/N)          0.441047\n",
       "Cycle(R/I)                0.401644\n",
       "Fast food (Y/N)           0.377933\n",
       "Pimples(Y/N)              0.286077\n",
       "AMH(ng/mL)                0.263863\n",
       "Weight (Kg)               0.211938\n",
       "BMI                       0.199534\n",
       "Cycle length(days)        0.178480\n",
       "Hair loss(Y/N)            0.172879\n",
       " Age (yrs)                0.168513\n",
       "Waist(inch)               0.164598\n",
       "Hip(inch)                 0.162297\n",
       "Avg. F size (L) (mm)      0.132992\n",
       "Marraige Status (Yrs)     0.112897\n",
       "Endometrium (mm)          0.106648\n",
       "Avg. F size (R) (mm)      0.097690\n",
       "Pulse rate(bpm)           0.091821\n",
       "Hb(g/dl)                  0.087170\n",
       "Vit D3 (ng/mL)            0.085494\n",
       "Height(Cm)                0.068254\n",
       "Reg.Exercise(Y/N)         0.065337\n",
       "LH(mIU/mL)                0.063879\n",
       "No. of aborptions         0.057158\n",
       "RBS(mg/dl)                0.048922\n",
       "PRG(ng/mL)                0.043834\n",
       "BP _Diastolic (mmHg)      0.038032\n",
       "RR (breaths/min)          0.036928\n",
       "Blood Group               0.036433\n",
       "FSH(mIU/mL)               0.030319\n",
       "  I   beta-HCG(mIU/mL)    0.027617\n",
       "Pregnant(Y/N)             0.027565\n",
       "FSH/LH                    0.018336\n",
       "II    beta-HCG(mIU/mL)    0.013177\n",
       "Waist:Hip Ratio           0.012386\n",
       "TSH (mIU/L)               0.010140\n",
       "BP _Systolic (mmHg)       0.007942\n",
       "PRL(ng/mL)                0.005143\n",
       "Name: PCOS (Y/N), dtype: float64"
      ]
     },
     "execution_count": 27,
     "metadata": {},
     "output_type": "execute_result"
    }
   ],
   "source": [
    "correlation_with_target"
   ]
  },
  {
   "cell_type": "markdown",
   "id": "429b1ca9",
   "metadata": {},
   "source": [
    "### Analysis using different plots"
   ]
  },
  {
   "cell_type": "code",
   "execution_count": 28,
   "id": "1c260606",
   "metadata": {},
   "outputs": [],
   "source": [
    "# 1. Distribution of PCOS Cases Across Age Groups"
   ]
  },
  {
   "cell_type": "code",
   "execution_count": 29,
   "id": "3e76a6a0",
   "metadata": {},
   "outputs": [],
   "source": [
    "# Define age group bins and labels\n",
    "\n",
    "age_groups = [0,18,25,35,45,float('inf')]\n",
    "age_labels = ['<18','18-25','26-35','36-45','45+']\n",
    "df1['Age Group'] = pd.cut(df1[' Age (yrs)'],bins = age_groups,labels = age_labels)"
   ]
  },
  {
   "cell_type": "code",
   "execution_count": 30,
   "id": "532b9813",
   "metadata": {},
   "outputs": [
    {
     "data": {
      "text/plain": [
       "pandas.core.frame.DataFrame"
      ]
     },
     "execution_count": 30,
     "metadata": {},
     "output_type": "execute_result"
    }
   ],
   "source": [
    "# Categorize the 'Age (yrs)' column into age groups\n",
    "\n",
    "age_group_counts = df1.groupby(['Age Group', 'PCOS (Y/N)']).size().unstack()\n",
    "type(age_group_counts)"
   ]
  },
  {
   "cell_type": "code",
   "execution_count": 31,
   "id": "ef985066",
   "metadata": {},
   "outputs": [
    {
     "data": {
      "image/png": "[encoded data removed]",
      "text/plain": [
       "<Figure size 720x432 with 1 Axes>"
      ]
     },
     "metadata": {
      "needs_background": "light"
     },
     "output_type": "display_data"
    }
   ],
   "source": [
    "age_group_counts.plot(kind='bar', figsize=(10, 6))\n",
    "plt.title('Distribution of PCOS Cases Across Age Groups')\n",
    "plt.xlabel('Age Group')\n",
    "plt.ylabel('Count')\n",
    "plt.legend(title='PCOS (Y/N)', loc='upper right', labels=['No', 'Yes'])\n",
    "plt.xticks(rotation=0)\n",
    "plt.show()"
   ]
  },
  {
   "cell_type": "code",
   "execution_count": 32,
   "id": "e6663e5e",
   "metadata": {},
   "outputs": [],
   "source": [
    "# It can be observed from above plot that PCOS affects mainly the age group of 26-35."
   ]
  },
  {
   "cell_type": "code",
   "execution_count": null,
   "id": "b09a887b",
   "metadata": {},
   "outputs": [],
   "source": []
  },
  {
   "cell_type": "code",
   "execution_count": 33,
   "id": "40d2ac75",
   "metadata": {},
   "outputs": [],
   "source": [
    "# 2. Distribution analysis for numerical attributes"
   ]
  },
  {
   "cell_type": "code",
   "execution_count": 34,
   "id": "9696e6f5",
   "metadata": {},
   "outputs": [
    {
     "data": {
      "image/png": "[encoded data removed]",
      "text/plain": [
       "<Figure size 576x432 with 1 Axes>"
      ]
     },
     "metadata": {
      "needs_background": "light"
     },
     "output_type": "display_data"
    },
    {
     "data": {
      "image/png": "[encoded data removed]",
      "text/plain": [
       "<Figure size 576x432 with 1 Axes>"
      ]
     },
     "metadata": {
      "needs_background": "light"
     },
     "output_type": "display_data"
    },
    {
     "data": {
      "image/png": "[encoded data removed]",
      "text/plain": [
       "<Figure size 576x432 with 1 Axes>"
      ]
     },
     "metadata": {
      "needs_background": "light"
     },
     "output_type": "display_data"
    },
    {
     "data": {
      "image/png": "[encoded data removed]",
      "text/plain": [
       "<Figure size 576x432 with 1 Axes>"
      ]
     },
     "metadata": {
      "needs_background": "light"
     },
     "output_type": "display_data"
    },
    {
     "data": {
      "image/png": "[encoded data removed]",
      "text/plain": [
       "<Figure size 576x432 with 1 Axes>"
      ]
     },
     "metadata": {
      "needs_background": "light"
     },
     "output_type": "display_data"
    },
    {
     "data": {
      "image/png": "[encoded data removed]",
      "text/plain": [
       "<Figure size 576x432 with 1 Axes>"
      ]
     },
     "metadata": {
      "needs_background": "light"
     },
     "output_type": "display_data"
    },
    {
     "data": {
      "image/png": "[encoded data removed]",
      "text/plain": [
       "<Figure size 576x432 with 1 Axes>"
      ]
     },
     "metadata": {
      "needs_background": "light"
     },
     "output_type": "display_data"
    },
    {
     "data": {
      "image/png": "[encoded data removed]",
      "text/plain": [
       "<Figure size 576x432 with 1 Axes>"
      ]
     },
     "metadata": {
      "needs_background": "light"
     },
     "output_type": "display_data"
    },
    {
     "data": {
      "image/png": "[encoded data removed]",
      "text/plain": [
       "<Figure size 576x432 with 1 Axes>"
      ]
     },
     "metadata": {
      "needs_background": "light"
     },
     "output_type": "display_data"
    },
    {
     "data": {
      "image/png": "[encoded data removed]",
      "text/plain": [
       "<Figure size 576x432 with 1 Axes>"
      ]
     },
     "metadata": {
      "needs_background": "light"
     },
     "output_type": "display_data"
    },
    {
     "data": {
      "image/png": "[encoded data removed]",
      "text/plain": [
       "<Figure size 576x432 with 1 Axes>"
      ]
     },
     "metadata": {
      "needs_background": "light"
     },
     "output_type": "display_data"
    },
    {
     "data": {
      "image/png": "[encoded data removed]",
      "text/plain": [
       "<Figure size 576x432 with 1 Axes>"
      ]
     },
     "metadata": {
      "needs_background": "light"
     },
     "output_type": "display_data"
    },
    {
     "data": {
      "image/png": "[encoded data removed]",
      "text/plain": [
       "<Figure size 576x432 with 1 Axes>"
      ]
     },
     "metadata": {
      "needs_background": "light"
     },
     "output_type": "display_data"
    },
    {
     "data": {
      "image/png": "[encoded data removed]",
      "text/plain": [
       "<Figure size 576x432 with 1 Axes>"
      ]
     },
     "metadata": {
      "needs_background": "light"
     },
     "output_type": "display_data"
    },
    {
     "data": {
      "image/png": "[encoded data removed]",
      "text/plain": [
       "<Figure size 576x432 with 1 Axes>"
      ]
     },
     "metadata": {
      "needs_background": "light"
     },
     "output_type": "display_data"
    },
    {
     "data": {
      "image/png": "[encoded data removed]",
      "text/plain": [
       "<Figure size 576x432 with 1 Axes>"
      ]
     },
     "metadata": {
      "needs_background": "light"
     },
     "output_type": "display_data"
    },
    {
     "data": {
      "image/png": "[encoded data removed]",
      "text/plain": [
       "<Figure size 576x432 with 1 Axes>"
      ]
     },
     "metadata": {
      "needs_background": "light"
     },
     "output_type": "display_data"
    },
    {
     "data": {
      "image/png": "[encoded data removed]",
      "text/plain": [
       "<Figure size 576x432 with 1 Axes>"
      ]
     },
     "metadata": {
      "needs_background": "light"
     },
     "output_type": "display_data"
    },
    {
     "data": {
      "image/png": "[encoded data removed]",
      "text/plain": [
       "<Figure size 576x432 with 1 Axes>"
      ]
     },
     "metadata": {
      "needs_background": "light"
     },
     "output_type": "display_data"
    },
    {
     "data": {
      "image/png": "[encoded data removed]",
      "text/plain": [
       "<Figure size 576x432 with 1 Axes>"
      ]
     },
     "metadata": {
      "needs_background": "light"
     },
     "output_type": "display_data"
    }
   ],
   "source": [
    "# List of numerical attributes for distribution analysis\n",
    "numerical_attributes = ['Weight (Kg)', 'BMI', 'Hb(g/dl)','RR (breaths/min)',\n",
    "                        'Hip(inch)', 'Waist(inch)', 'Waist:Hip Ratio', 'TSH (mIU/L)', 'AMH(ng/mL)', 'PRL(ng/mL)',\n",
    "                        'Vit D3 (ng/mL)', 'PRG(ng/mL)', 'RBS(mg/dl)', 'BP _Systolic (mmHg)', 'BP _Diastolic (mmHg)',\n",
    "                        'Follicle No. (L)', 'Follicle No. (R)', 'Avg. F size (L) (mm)', 'Avg. F size (R) (mm)',\n",
    "                        'Endometrium (mm)']\n",
    "df1_pcos = df1[df1['PCOS (Y/N)']==1]\n",
    "# Create histograms for each numerical attribute\n",
    "for attribute in numerical_attributes:\n",
    "    plt.figure(figsize=(8, 6))\n",
    "    plt.hist(df1_pcos[attribute], bins=20, color='green', edgecolor='blue')\n",
    "    plt.title(f'Histogram of {attribute}')\n",
    "    plt.xlabel(attribute)\n",
    "    plt.ylabel('Frequency')\n",
    "    plt.grid(True)\n",
    "    plt.show()"
   ]
  },
  {
   "cell_type": "code",
   "execution_count": null,
   "id": "ee56678f",
   "metadata": {},
   "outputs": [],
   "source": []
  },
  {
   "cell_type": "markdown",
   "id": "1801c956",
   "metadata": {},
   "source": [
    "### Feature Selection"
   ]
  },
  {
   "cell_type": "code",
   "execution_count": 35,
   "id": "82ac6716",
   "metadata": {},
   "outputs": [
    {
     "name": "stdout",
     "output_type": "stream",
     "text": [
      "PCOS (Y/N)              1.000000\n",
      "Follicle No. (R)        0.648327\n",
      "Follicle No. (L)        0.603346\n",
      "Skin darkening (Y/N)    0.475733\n",
      "hair growth(Y/N)        0.464667\n",
      "Weight gain(Y/N)        0.441047\n",
      "Cycle(R/I)              0.401644\n",
      "Fast food (Y/N)         0.377933\n",
      "Pimples(Y/N)            0.286077\n",
      "AMH(ng/mL)              0.263863\n",
      "Weight (Kg)             0.211938\n",
      "Name: PCOS (Y/N), dtype: float64\n"
     ]
    }
   ],
   "source": [
    "top_10_features = correlation_with_target[0:11]       # these 10 variables are significantly correlated to the target variable.\n",
    "print(top_10_features)"
   ]
  },
  {
   "cell_type": "code",
   "execution_count": 36,
   "id": "01466eb5",
   "metadata": {},
   "outputs": [],
   "source": [
    "df1_new = df1[['PCOS (Y/N)','Follicle No. (R)','Follicle No. (L)','Skin darkening (Y/N)','hair growth(Y/N)','Weight gain(Y/N)','Cycle(R/I)','Fast food (Y/N)','Pimples(Y/N)','AMH(ng/mL)','Weight (Kg)']]"
   ]
  },
  {
   "cell_type": "code",
   "execution_count": 37,
   "id": "efdf3757",
   "metadata": {},
   "outputs": [
    {
     "data": {
      "text/plain": [
       "PCOS (Y/N)              0\n",
       "Follicle No. (R)        0\n",
       "Follicle No. (L)        0\n",
       "Skin darkening (Y/N)    0\n",
       "hair growth(Y/N)        0\n",
       "Weight gain(Y/N)        0\n",
       "Cycle(R/I)              0\n",
       "Fast food (Y/N)         1\n",
       "Pimples(Y/N)            0\n",
       "AMH(ng/mL)              1\n",
       "Weight (Kg)             0\n",
       "dtype: int64"
      ]
     },
     "execution_count": 37,
     "metadata": {},
     "output_type": "execute_result"
    }
   ],
   "source": [
    "df1_new.isnull().sum()"
   ]
  },
  {
   "cell_type": "code",
   "execution_count": 38,
   "id": "d49c1f84",
   "metadata": {},
   "outputs": [
    {
     "data": {
      "image/png": "[encoded data removed]",
      "text/plain": [
       "<Figure size 576x576 with 2 Axes>"
      ]
     },
     "metadata": {
      "needs_background": "light"
     },
     "output_type": "display_data"
    }
   ],
   "source": [
    "plt.figure(figsize=(8,8))\n",
    "sns.heatmap(df1_new.corr(),annot=True)\n",
    "plt.show()"
   ]
  },
  {
   "cell_type": "code",
   "execution_count": 39,
   "id": "109449e1",
   "metadata": {},
   "outputs": [
    {
     "data": {
      "text/plain": [
       "0.0    364\n",
       "1.0    177\n",
       "Name: PCOS (Y/N), dtype: int64"
      ]
     },
     "execution_count": 39,
     "metadata": {},
     "output_type": "execute_result"
    }
   ],
   "source": [
    "df1_new['PCOS (Y/N)'].value_counts()"
   ]
  },
  {
   "cell_type": "code",
   "execution_count": 40,
   "id": "63884e00",
   "metadata": {},
   "outputs": [
    {
     "name": "stderr",
     "output_type": "stream",
     "text": [
      "C:\\Users\\hp\\AppData\\Local\\Temp\\ipykernel_14864\\2117126546.py:1: SettingWithCopyWarning: \n",
      "A value is trying to be set on a copy of a slice from a DataFrame\n",
      "\n",
      "See the caveats in the documentation: https://pandas.pydata.org/pandas-docs/stable/user_guide/indexing.html#returning-a-view-versus-a-copy\n",
      "  df1_new.dropna(inplace=True)\n"
     ]
    }
   ],
   "source": [
    "df1_new.dropna(inplace=True)"
   ]
  },
  {
   "cell_type": "code",
   "execution_count": 41,
   "id": "386961ab",
   "metadata": {},
   "outputs": [
    {
     "data": {
      "text/plain": [
       "PCOS (Y/N)              0\n",
       "Follicle No. (R)        0\n",
       "Follicle No. (L)        0\n",
       "Skin darkening (Y/N)    0\n",
       "hair growth(Y/N)        0\n",
       "Weight gain(Y/N)        0\n",
       "Cycle(R/I)              0\n",
       "Fast food (Y/N)         0\n",
       "Pimples(Y/N)            0\n",
       "AMH(ng/mL)              0\n",
       "Weight (Kg)             0\n",
       "dtype: int64"
      ]
     },
     "execution_count": 41,
     "metadata": {},
     "output_type": "execute_result"
    }
   ],
   "source": [
    "df1_new.isnull().sum()"
   ]
  },
  {
   "cell_type": "code",
   "execution_count": 42,
   "id": "96a8a0f2",
   "metadata": {},
   "outputs": [
    {
     "data": {
      "text/plain": [
       "Index(['PCOS (Y/N)', 'Follicle No. (R)', 'Follicle No. (L)',\n",
       "       'Skin darkening (Y/N)', 'hair growth(Y/N)', 'Weight gain(Y/N)',\n",
       "       'Cycle(R/I)', 'Fast food (Y/N)', 'Pimples(Y/N)', 'AMH(ng/mL)',\n",
       "       'Weight (Kg)'],\n",
       "      dtype='object')"
      ]
     },
     "execution_count": 42,
     "metadata": {},
     "output_type": "execute_result"
    }
   ],
   "source": [
    "df1_new.columns"
   ]
  },
  {
   "cell_type": "code",
   "execution_count": null,
   "id": "b0beaf6b",
   "metadata": {},
   "outputs": [],
   "source": []
  },
  {
   "cell_type": "code",
   "execution_count": null,
   "id": "c03ca796",
   "metadata": {},
   "outputs": [],
   "source": []
  },
  {
   "cell_type": "markdown",
   "id": "19c06e5e",
   "metadata": {},
   "source": [
    "### Detection of Outliers"
   ]
  },
  {
   "cell_type": "code",
   "execution_count": 43,
   "id": "b0db0692",
   "metadata": {},
   "outputs": [],
   "source": [
    "def outliers(df,col,k):   \n",
    "    mean = df[col].mean()\n",
    "    global df1\n",
    "    sd = df[col].std()    \n",
    "    final_list = [x for x in df[col] if (x > mean - k * sd)]\n",
    "    final_list = [x for x in final_list if (x < mean + k * sd)]       \n",
    "    df1 = df.loc[df[col].isin(final_list)] ; print(df1.shape) \n",
    "    print(\"Number of outliers == >\"   ,  df.shape[0]  - df1.shape[0])"
   ]
  },
  {
   "cell_type": "code",
   "execution_count": 44,
   "id": "28b2f2f7",
   "metadata": {},
   "outputs": [
    {
     "name": "stdout",
     "output_type": "stream",
     "text": [
      "Name of the column: PCOS (Y/N)\n",
      "(539, 11)\n",
      "Number of outliers == > 0\n",
      "------------\n",
      "Name of the column: Follicle No. (R)\n",
      "(533, 11)\n",
      "Number of outliers == > 6\n",
      "------------\n",
      "Name of the column: Follicle No. (L)\n",
      "(533, 11)\n",
      "Number of outliers == > 6\n",
      "------------\n",
      "Name of the column: Skin darkening (Y/N)\n",
      "(539, 11)\n",
      "Number of outliers == > 0\n",
      "------------\n",
      "Name of the column: hair growth(Y/N)\n",
      "(539, 11)\n",
      "Number of outliers == > 0\n",
      "------------\n",
      "Name of the column: Weight gain(Y/N)\n",
      "(539, 11)\n",
      "Number of outliers == > 0\n",
      "------------\n",
      "Name of the column: Cycle(R/I)\n",
      "(539, 11)\n",
      "Number of outliers == > 0\n",
      "------------\n",
      "Name of the column: Fast food (Y/N)\n",
      "(539, 11)\n",
      "Number of outliers == > 0\n",
      "------------\n",
      "Name of the column: Pimples(Y/N)\n",
      "(539, 11)\n",
      "Number of outliers == > 0\n",
      "------------\n",
      "Name of the column: AMH(ng/mL)\n",
      "(533, 11)\n",
      "Number of outliers == > 6\n",
      "------------\n",
      "Name of the column: Weight (Kg)\n",
      "(536, 11)\n",
      "Number of outliers == > 3\n",
      "------------\n"
     ]
    }
   ],
   "source": [
    "for cols in df1_new.columns:\n",
    "    print(\"Name of the column:\",cols)\n",
    "    outliers(df1_new,cols, 3)\n",
    "    print(\"------------\")"
   ]
  },
  {
   "cell_type": "code",
   "execution_count": 45,
   "id": "4a2bab30",
   "metadata": {},
   "outputs": [],
   "source": [
    "# As there are very less number of outliers we can ignore them."
   ]
  },
  {
   "cell_type": "code",
   "execution_count": null,
   "id": "dc79aee6",
   "metadata": {},
   "outputs": [],
   "source": []
  },
  {
   "cell_type": "markdown",
   "id": "440b3bba",
   "metadata": {},
   "source": [
    "### Sampling"
   ]
  },
  {
   "cell_type": "code",
   "execution_count": 46,
   "id": "d95b4e9e",
   "metadata": {},
   "outputs": [],
   "source": [
    "train,test = train_test_split(df1_new,test_size=0.2,random_state=42)           # 80% - 20% sampling is done here"
   ]
  },
  {
   "cell_type": "code",
   "execution_count": 47,
   "id": "d602975f",
   "metadata": {},
   "outputs": [
    {
     "data": {
      "text/html": [
       "<div>\n",
       "<style scoped>\n",
       "    .dataframe tbody tr th:only-of-type {\n",
       "        vertical-align: middle;\n",
       "    }\n",
       "\n",
       "    .dataframe tbody tr th {\n",
       "        vertical-align: top;\n",
       "    }\n",
       "\n",
       "    .dataframe thead th {\n",
       "        text-align: right;\n",
       "    }\n",
       "</style>\n",
       "<table border=\"1\" class=\"dataframe\">\n",
       "  <thead>\n",
       "    <tr style=\"text-align: right;\">\n",
       "      <th></th>\n",
       "      <th>PCOS (Y/N)</th>\n",
       "      <th>Follicle No. (R)</th>\n",
       "      <th>Follicle No. (L)</th>\n",
       "      <th>Skin darkening (Y/N)</th>\n",
       "      <th>hair growth(Y/N)</th>\n",
       "      <th>Weight gain(Y/N)</th>\n",
       "      <th>Cycle(R/I)</th>\n",
       "      <th>Fast food (Y/N)</th>\n",
       "      <th>Pimples(Y/N)</th>\n",
       "      <th>AMH(ng/mL)</th>\n",
       "      <th>Weight (Kg)</th>\n",
       "    </tr>\n",
       "  </thead>\n",
       "  <tbody>\n",
       "    <tr>\n",
       "      <th>463</th>\n",
       "      <td>0.0</td>\n",
       "      <td>1.0</td>\n",
       "      <td>2.0</td>\n",
       "      <td>1.0</td>\n",
       "      <td>1.0</td>\n",
       "      <td>0.0</td>\n",
       "      <td>2.0</td>\n",
       "      <td>1.0</td>\n",
       "      <td>1.0</td>\n",
       "      <td>10.00</td>\n",
       "      <td>45.0</td>\n",
       "    </tr>\n",
       "    <tr>\n",
       "      <th>232</th>\n",
       "      <td>1.0</td>\n",
       "      <td>14.0</td>\n",
       "      <td>16.0</td>\n",
       "      <td>1.0</td>\n",
       "      <td>1.0</td>\n",
       "      <td>0.0</td>\n",
       "      <td>4.0</td>\n",
       "      <td>1.0</td>\n",
       "      <td>1.0</td>\n",
       "      <td>13.60</td>\n",
       "      <td>55.0</td>\n",
       "    </tr>\n",
       "    <tr>\n",
       "      <th>448</th>\n",
       "      <td>0.0</td>\n",
       "      <td>7.0</td>\n",
       "      <td>9.0</td>\n",
       "      <td>1.0</td>\n",
       "      <td>1.0</td>\n",
       "      <td>1.0</td>\n",
       "      <td>4.0</td>\n",
       "      <td>1.0</td>\n",
       "      <td>0.0</td>\n",
       "      <td>9.10</td>\n",
       "      <td>71.5</td>\n",
       "    </tr>\n",
       "    <tr>\n",
       "      <th>451</th>\n",
       "      <td>1.0</td>\n",
       "      <td>18.0</td>\n",
       "      <td>5.0</td>\n",
       "      <td>0.0</td>\n",
       "      <td>0.0</td>\n",
       "      <td>0.0</td>\n",
       "      <td>2.0</td>\n",
       "      <td>0.0</td>\n",
       "      <td>0.0</td>\n",
       "      <td>0.98</td>\n",
       "      <td>44.0</td>\n",
       "    </tr>\n",
       "    <tr>\n",
       "      <th>450</th>\n",
       "      <td>1.0</td>\n",
       "      <td>16.0</td>\n",
       "      <td>20.0</td>\n",
       "      <td>0.0</td>\n",
       "      <td>1.0</td>\n",
       "      <td>1.0</td>\n",
       "      <td>2.0</td>\n",
       "      <td>1.0</td>\n",
       "      <td>1.0</td>\n",
       "      <td>0.91</td>\n",
       "      <td>69.0</td>\n",
       "    </tr>\n",
       "    <tr>\n",
       "      <th>...</th>\n",
       "      <td>...</td>\n",
       "      <td>...</td>\n",
       "      <td>...</td>\n",
       "      <td>...</td>\n",
       "      <td>...</td>\n",
       "      <td>...</td>\n",
       "      <td>...</td>\n",
       "      <td>...</td>\n",
       "      <td>...</td>\n",
       "      <td>...</td>\n",
       "      <td>...</td>\n",
       "    </tr>\n",
       "    <tr>\n",
       "      <th>71</th>\n",
       "      <td>0.0</td>\n",
       "      <td>6.0</td>\n",
       "      <td>5.0</td>\n",
       "      <td>0.0</td>\n",
       "      <td>0.0</td>\n",
       "      <td>0.0</td>\n",
       "      <td>2.0</td>\n",
       "      <td>0.0</td>\n",
       "      <td>0.0</td>\n",
       "      <td>2.58</td>\n",
       "      <td>61.0</td>\n",
       "    </tr>\n",
       "    <tr>\n",
       "      <th>106</th>\n",
       "      <td>0.0</td>\n",
       "      <td>4.0</td>\n",
       "      <td>6.0</td>\n",
       "      <td>1.0</td>\n",
       "      <td>1.0</td>\n",
       "      <td>1.0</td>\n",
       "      <td>4.0</td>\n",
       "      <td>0.0</td>\n",
       "      <td>1.0</td>\n",
       "      <td>3.90</td>\n",
       "      <td>60.0</td>\n",
       "    </tr>\n",
       "    <tr>\n",
       "      <th>271</th>\n",
       "      <td>0.0</td>\n",
       "      <td>3.0</td>\n",
       "      <td>2.0</td>\n",
       "      <td>0.0</td>\n",
       "      <td>0.0</td>\n",
       "      <td>0.0</td>\n",
       "      <td>2.0</td>\n",
       "      <td>0.0</td>\n",
       "      <td>1.0</td>\n",
       "      <td>3.20</td>\n",
       "      <td>55.7</td>\n",
       "    </tr>\n",
       "    <tr>\n",
       "      <th>437</th>\n",
       "      <td>1.0</td>\n",
       "      <td>12.0</td>\n",
       "      <td>9.0</td>\n",
       "      <td>1.0</td>\n",
       "      <td>0.0</td>\n",
       "      <td>1.0</td>\n",
       "      <td>4.0</td>\n",
       "      <td>1.0</td>\n",
       "      <td>1.0</td>\n",
       "      <td>8.00</td>\n",
       "      <td>71.0</td>\n",
       "    </tr>\n",
       "    <tr>\n",
       "      <th>102</th>\n",
       "      <td>1.0</td>\n",
       "      <td>12.0</td>\n",
       "      <td>12.0</td>\n",
       "      <td>1.0</td>\n",
       "      <td>1.0</td>\n",
       "      <td>1.0</td>\n",
       "      <td>4.0</td>\n",
       "      <td>1.0</td>\n",
       "      <td>1.0</td>\n",
       "      <td>10.07</td>\n",
       "      <td>64.3</td>\n",
       "    </tr>\n",
       "  </tbody>\n",
       "</table>\n",
       "<p>431 rows × 11 columns</p>\n",
       "</div>"
      ],
      "text/plain": [
       "     PCOS (Y/N)  Follicle No. (R)  Follicle No. (L)  Skin darkening (Y/N)  \\\n",
       "463         0.0               1.0               2.0                   1.0   \n",
       "232         1.0              14.0              16.0                   1.0   \n",
       "448         0.0               7.0               9.0                   1.0   \n",
       "451         1.0              18.0               5.0                   0.0   \n",
       "450         1.0              16.0              20.0                   0.0   \n",
       "..          ...               ...               ...                   ...   \n",
       "71          0.0               6.0               5.0                   0.0   \n",
       "106         0.0               4.0               6.0                   1.0   \n",
       "271         0.0               3.0               2.0                   0.0   \n",
       "437         1.0              12.0               9.0                   1.0   \n",
       "102         1.0              12.0              12.0                   1.0   \n",
       "\n",
       "     hair growth(Y/N)  Weight gain(Y/N)  Cycle(R/I)  Fast food (Y/N)  \\\n",
       "463               1.0               0.0         2.0              1.0   \n",
       "232               1.0               0.0         4.0              1.0   \n",
       "448               1.0               1.0         4.0              1.0   \n",
       "451               0.0               0.0         2.0              0.0   \n",
       "450               1.0               1.0         2.0              1.0   \n",
       "..                ...               ...         ...              ...   \n",
       "71                0.0               0.0         2.0              0.0   \n",
       "106               1.0               1.0         4.0              0.0   \n",
       "271               0.0               0.0         2.0              0.0   \n",
       "437               0.0               1.0         4.0              1.0   \n",
       "102               1.0               1.0         4.0              1.0   \n",
       "\n",
       "     Pimples(Y/N)  AMH(ng/mL)  Weight (Kg)  \n",
       "463           1.0       10.00         45.0  \n",
       "232           1.0       13.60         55.0  \n",
       "448           0.0        9.10         71.5  \n",
       "451           0.0        0.98         44.0  \n",
       "450           1.0        0.91         69.0  \n",
       "..            ...         ...          ...  \n",
       "71            0.0        2.58         61.0  \n",
       "106           1.0        3.90         60.0  \n",
       "271           1.0        3.20         55.7  \n",
       "437           1.0        8.00         71.0  \n",
       "102           1.0       10.07         64.3  \n",
       "\n",
       "[431 rows x 11 columns]"
      ]
     },
     "execution_count": 47,
     "metadata": {},
     "output_type": "execute_result"
    }
   ],
   "source": [
    "train"
   ]
  },
  {
   "cell_type": "code",
   "execution_count": 48,
   "id": "e8882a18",
   "metadata": {},
   "outputs": [],
   "source": [
    "train_x = train.iloc[: , 1::]\n",
    "train_y = train.iloc[: , 0 ]"
   ]
  },
  {
   "cell_type": "code",
   "execution_count": 49,
   "id": "7e1ce37e",
   "metadata": {},
   "outputs": [
    {
     "data": {
      "text/html": [
       "<div>\n",
       "<style scoped>\n",
       "    .dataframe tbody tr th:only-of-type {\n",
       "        vertical-align: middle;\n",
       "    }\n",
       "\n",
       "    .dataframe tbody tr th {\n",
       "        vertical-align: top;\n",
       "    }\n",
       "\n",
       "    .dataframe thead th {\n",
       "        text-align: right;\n",
       "    }\n",
       "</style>\n",
       "<table border=\"1\" class=\"dataframe\">\n",
       "  <thead>\n",
       "    <tr style=\"text-align: right;\">\n",
       "      <th></th>\n",
       "      <th>Follicle No. (R)</th>\n",
       "      <th>Follicle No. (L)</th>\n",
       "      <th>Skin darkening (Y/N)</th>\n",
       "      <th>hair growth(Y/N)</th>\n",
       "      <th>Weight gain(Y/N)</th>\n",
       "      <th>Cycle(R/I)</th>\n",
       "      <th>Fast food (Y/N)</th>\n",
       "      <th>Pimples(Y/N)</th>\n",
       "      <th>AMH(ng/mL)</th>\n",
       "      <th>Weight (Kg)</th>\n",
       "    </tr>\n",
       "  </thead>\n",
       "  <tbody>\n",
       "    <tr>\n",
       "      <th>463</th>\n",
       "      <td>1.0</td>\n",
       "      <td>2.0</td>\n",
       "      <td>1.0</td>\n",
       "      <td>1.0</td>\n",
       "      <td>0.0</td>\n",
       "      <td>2.0</td>\n",
       "      <td>1.0</td>\n",
       "      <td>1.0</td>\n",
       "      <td>10.00</td>\n",
       "      <td>45.0</td>\n",
       "    </tr>\n",
       "    <tr>\n",
       "      <th>232</th>\n",
       "      <td>14.0</td>\n",
       "      <td>16.0</td>\n",
       "      <td>1.0</td>\n",
       "      <td>1.0</td>\n",
       "      <td>0.0</td>\n",
       "      <td>4.0</td>\n",
       "      <td>1.0</td>\n",
       "      <td>1.0</td>\n",
       "      <td>13.60</td>\n",
       "      <td>55.0</td>\n",
       "    </tr>\n",
       "    <tr>\n",
       "      <th>448</th>\n",
       "      <td>7.0</td>\n",
       "      <td>9.0</td>\n",
       "      <td>1.0</td>\n",
       "      <td>1.0</td>\n",
       "      <td>1.0</td>\n",
       "      <td>4.0</td>\n",
       "      <td>1.0</td>\n",
       "      <td>0.0</td>\n",
       "      <td>9.10</td>\n",
       "      <td>71.5</td>\n",
       "    </tr>\n",
       "    <tr>\n",
       "      <th>451</th>\n",
       "      <td>18.0</td>\n",
       "      <td>5.0</td>\n",
       "      <td>0.0</td>\n",
       "      <td>0.0</td>\n",
       "      <td>0.0</td>\n",
       "      <td>2.0</td>\n",
       "      <td>0.0</td>\n",
       "      <td>0.0</td>\n",
       "      <td>0.98</td>\n",
       "      <td>44.0</td>\n",
       "    </tr>\n",
       "    <tr>\n",
       "      <th>450</th>\n",
       "      <td>16.0</td>\n",
       "      <td>20.0</td>\n",
       "      <td>0.0</td>\n",
       "      <td>1.0</td>\n",
       "      <td>1.0</td>\n",
       "      <td>2.0</td>\n",
       "      <td>1.0</td>\n",
       "      <td>1.0</td>\n",
       "      <td>0.91</td>\n",
       "      <td>69.0</td>\n",
       "    </tr>\n",
       "  </tbody>\n",
       "</table>\n",
       "</div>"
      ],
      "text/plain": [
       "     Follicle No. (R)  Follicle No. (L)  Skin darkening (Y/N)  \\\n",
       "463               1.0               2.0                   1.0   \n",
       "232              14.0              16.0                   1.0   \n",
       "448               7.0               9.0                   1.0   \n",
       "451              18.0               5.0                   0.0   \n",
       "450              16.0              20.0                   0.0   \n",
       "\n",
       "     hair growth(Y/N)  Weight gain(Y/N)  Cycle(R/I)  Fast food (Y/N)  \\\n",
       "463               1.0               0.0         2.0              1.0   \n",
       "232               1.0               0.0         4.0              1.0   \n",
       "448               1.0               1.0         4.0              1.0   \n",
       "451               0.0               0.0         2.0              0.0   \n",
       "450               1.0               1.0         2.0              1.0   \n",
       "\n",
       "     Pimples(Y/N)  AMH(ng/mL)  Weight (Kg)  \n",
       "463           1.0       10.00         45.0  \n",
       "232           1.0       13.60         55.0  \n",
       "448           0.0        9.10         71.5  \n",
       "451           0.0        0.98         44.0  \n",
       "450           1.0        0.91         69.0  "
      ]
     },
     "execution_count": 49,
     "metadata": {},
     "output_type": "execute_result"
    }
   ],
   "source": [
    "train_x.head()"
   ]
  },
  {
   "cell_type": "code",
   "execution_count": 50,
   "id": "1157a9d0",
   "metadata": {},
   "outputs": [
    {
     "data": {
      "text/plain": [
       "463    0.0\n",
       "232    1.0\n",
       "448    0.0\n",
       "451    1.0\n",
       "450    1.0\n",
       "Name: PCOS (Y/N), dtype: float64"
      ]
     },
     "execution_count": 50,
     "metadata": {},
     "output_type": "execute_result"
    }
   ],
   "source": [
    "train_y.head()"
   ]
  },
  {
   "cell_type": "code",
   "execution_count": 51,
   "id": "3ec46163",
   "metadata": {},
   "outputs": [],
   "source": [
    "test_x = test.iloc[: , 1::]\n",
    "test_y = test.iloc[: , 0 ]"
   ]
  },
  {
   "cell_type": "code",
   "execution_count": 52,
   "id": "56e9736f",
   "metadata": {},
   "outputs": [
    {
     "data": {
      "text/plain": [
       "((431, 10), (431,), (108, 10), (108,))"
      ]
     },
     "execution_count": 52,
     "metadata": {},
     "output_type": "execute_result"
    }
   ],
   "source": [
    "train_x.shape , train_y.shape , test_x.shape , test_y.shape"
   ]
  },
  {
   "cell_type": "code",
   "execution_count": null,
   "id": "ab389a67",
   "metadata": {},
   "outputs": [],
   "source": []
  },
  {
   "cell_type": "code",
   "execution_count": null,
   "id": "5b85175d",
   "metadata": {},
   "outputs": [],
   "source": []
  },
  {
   "cell_type": "markdown",
   "id": "8abf4e9d",
   "metadata": {},
   "source": [
    "## Model building"
   ]
  },
  {
   "cell_type": "markdown",
   "id": "f9c33301",
   "metadata": {},
   "source": [
    "# Logistic Regression"
   ]
  },
  {
   "cell_type": "markdown",
   "id": "abd1a27b",
   "metadata": {},
   "source": [
    "#### 1.  Logistic regression is a machine learning method used for classification tasks.\n",
    "#### 2.  The target variable in logistic regression is binary ( coded as 0 or 1).\n",
    "#### 3.  Logistic regression uses a \"Sigmoid function\" or \"Logistic function\" instead of a linear function."
   ]
  },
  {
   "cell_type": "markdown",
   "id": "1abe1ccc",
   "metadata": {},
   "source": [
    "## Types of logistic regression:\n",
    "\n",
    "* Binary Logistic Regression- two or binary outcomes like yes or no\n",
    "* Multinomial Logistic Regression- three or more outcomes like first, second, and third class or no class degree\n",
    "* Ordinal Logistic Regression- three or more like multinomial logistic regression but here with the order like customer rating    in the supermarket from 1 to 5."
   ]
  },
  {
   "cell_type": "code",
   "execution_count": null,
   "id": "e5a93778",
   "metadata": {},
   "outputs": [],
   "source": [
    "\n"
   ]
  },
  {
   "cell_type": "code",
   "execution_count": 53,
   "id": "52abd7c4",
   "metadata": {},
   "outputs": [],
   "source": [
    "logreg = LogisticRegression()"
   ]
  },
  {
   "cell_type": "code",
   "execution_count": 54,
   "id": "aec276b6",
   "metadata": {},
   "outputs": [
    {
     "name": "stderr",
     "output_type": "stream",
     "text": [
      "C:\\Users\\hp\\anaconda3\\lib\\site-packages\\sklearn\\linear_model\\_logistic.py:814: ConvergenceWarning: lbfgs failed to converge (status=1):\n",
      "STOP: TOTAL NO. of ITERATIONS REACHED LIMIT.\n",
      "\n",
      "Increase the number of iterations (max_iter) or scale the data as shown in:\n",
      "    https://scikit-learn.org/stable/modules/preprocessing.html\n",
      "Please also refer to the documentation for alternative solver options:\n",
      "    https://scikit-learn.org/stable/modules/linear_model.html#logistic-regression\n",
      "  n_iter_i = _check_optimize_result(\n"
     ]
    },
    {
     "data": {
      "text/plain": [
       "LogisticRegression()"
      ]
     },
     "execution_count": 54,
     "metadata": {},
     "output_type": "execute_result"
    }
   ],
   "source": [
    "logreg.fit(train_x,train_y)"
   ]
  },
  {
   "cell_type": "code",
   "execution_count": null,
   "id": "9d0eaeb1",
   "metadata": {},
   "outputs": [],
   "source": []
  },
  {
   "cell_type": "code",
   "execution_count": 55,
   "id": "7ca8e1e9",
   "metadata": {},
   "outputs": [],
   "source": [
    "# Prediction on test dataset"
   ]
  },
  {
   "cell_type": "code",
   "execution_count": 56,
   "id": "e2a4bda7",
   "metadata": {},
   "outputs": [],
   "source": [
    "pred_logi = logreg.predict(test_x)"
   ]
  },
  {
   "cell_type": "code",
   "execution_count": 57,
   "id": "d88e1b3d",
   "metadata": {},
   "outputs": [
    {
     "data": {
      "text/plain": [
       "array([0., 0., 1., 0., 0., 0., 0., 0., 0., 0., 0., 0., 0., 0., 0., 0., 1.,\n",
       "       0., 1., 0., 0., 1., 0., 1., 1., 1., 1., 0., 1., 0., 1., 0., 0., 0.,\n",
       "       0., 0., 0., 0., 0., 1., 0., 0., 0., 0., 1., 0., 0., 0., 0., 0., 1.,\n",
       "       1., 1., 0., 0., 1., 1., 0., 0., 1., 0., 0., 0., 0., 0., 0., 0., 0.,\n",
       "       0., 1., 0., 0., 0., 1., 1., 0., 0., 0., 1., 0., 0., 0., 0., 0., 0.,\n",
       "       0., 0., 0., 1., 0., 0., 0., 0., 0., 0., 0., 1., 0., 0., 1., 0., 0.,\n",
       "       0., 0., 0., 1., 0., 1.])"
      ]
     },
     "execution_count": 57,
     "metadata": {},
     "output_type": "execute_result"
    }
   ],
   "source": [
    "pred_logi"
   ]
  },
  {
   "cell_type": "code",
   "execution_count": 58,
   "id": "b2a8a3c2",
   "metadata": {},
   "outputs": [
    {
     "data": {
      "text/plain": [
       "488    0.0\n",
       "73     0.0\n",
       "351    1.0\n",
       "86     0.0\n",
       "459    0.0\n",
       "      ... \n",
       "93     0.0\n",
       "327    0.0\n",
       "181    0.0\n",
       "333    0.0\n",
       "540    1.0\n",
       "Name: PCOS (Y/N), Length: 108, dtype: float64"
      ]
     },
     "execution_count": 58,
     "metadata": {},
     "output_type": "execute_result"
    }
   ],
   "source": [
    "test_y"
   ]
  },
  {
   "cell_type": "code",
   "execution_count": null,
   "id": "c84e31f2",
   "metadata": {},
   "outputs": [],
   "source": []
  },
  {
   "cell_type": "code",
   "execution_count": 59,
   "id": "8af28ce2",
   "metadata": {},
   "outputs": [],
   "source": [
    "# Prediction on train dataset"
   ]
  },
  {
   "cell_type": "code",
   "execution_count": 60,
   "id": "99d26e3d",
   "metadata": {},
   "outputs": [],
   "source": [
    "pred_logi_train = logreg.predict(train_x)"
   ]
  },
  {
   "cell_type": "code",
   "execution_count": 61,
   "id": "8ed363d4",
   "metadata": {},
   "outputs": [
    {
     "data": {
      "text/plain": [
       "array([0., 1., 1., 1., 1., 0., 1., 0., 0., 0., 0., 0., 1., 0., 1., 1., 0.,\n",
       "       0., 0., 0., 1., 0., 0., 0., 0., 0., 0., 0., 1., 1., 1., 1., 0., 0.,\n",
       "       0., 1., 1., 0., 1., 0., 0., 0., 1., 1., 1., 1., 0., 0., 0., 0., 1.,\n",
       "       1., 1., 0., 0., 0., 0., 0., 0., 1., 0., 1., 0., 1., 0., 0., 0., 0.,\n",
       "       0., 0., 0., 0., 0., 0., 0., 1., 1., 0., 0., 0., 0., 0., 1., 0., 1.,\n",
       "       0., 0., 0., 1., 0., 0., 1., 0., 0., 0., 1., 0., 1., 0., 0., 1., 0.,\n",
       "       0., 1., 0., 0., 0., 1., 0., 0., 0., 0., 1., 0., 1., 0., 1., 0., 1.,\n",
       "       1., 0., 1., 0., 0., 0., 1., 1., 0., 0., 1., 0., 0., 0., 0., 0., 0.,\n",
       "       0., 0., 0., 0., 0., 0., 1., 0., 0., 0., 1., 0., 0., 0., 0., 0., 0.,\n",
       "       1., 0., 0., 0., 0., 0., 0., 0., 0., 0., 0., 1., 1., 1., 1., 0., 0.,\n",
       "       1., 0., 0., 1., 0., 1., 1., 1., 0., 1., 0., 1., 0., 1., 0., 1., 0.,\n",
       "       1., 0., 1., 1., 1., 0., 0., 0., 0., 1., 0., 0., 0., 0., 0., 0., 1.,\n",
       "       1., 0., 0., 1., 1., 0., 0., 0., 1., 1., 0., 1., 1., 0., 0., 0., 1.,\n",
       "       0., 0., 0., 0., 0., 0., 0., 0., 1., 0., 0., 0., 0., 0., 1., 1., 0.,\n",
       "       0., 0., 0., 1., 1., 0., 0., 1., 0., 1., 0., 0., 0., 0., 1., 0., 0.,\n",
       "       0., 1., 0., 0., 1., 1., 1., 1., 1., 1., 0., 0., 0., 0., 1., 0., 0.,\n",
       "       0., 1., 0., 0., 0., 0., 1., 0., 0., 0., 0., 0., 0., 0., 1., 0., 0.,\n",
       "       1., 1., 1., 0., 0., 0., 0., 0., 0., 0., 1., 0., 0., 0., 0., 0., 0.,\n",
       "       1., 0., 0., 0., 0., 0., 0., 1., 1., 0., 0., 0., 0., 0., 0., 0., 0.,\n",
       "       1., 0., 0., 0., 1., 0., 0., 0., 1., 0., 0., 1., 0., 0., 0., 0., 1.,\n",
       "       0., 0., 1., 0., 0., 1., 1., 1., 0., 1., 0., 0., 0., 1., 0., 1., 0.,\n",
       "       0., 1., 0., 0., 0., 1., 1., 1., 1., 0., 1., 1., 1., 0., 0., 0., 0.,\n",
       "       0., 1., 0., 0., 1., 0., 0., 0., 1., 1., 0., 1., 1., 0., 0., 1., 0.,\n",
       "       1., 1., 0., 0., 0., 0., 1., 1., 0., 0., 0., 1., 0., 0., 0., 0., 0.,\n",
       "       0., 0., 0., 1., 1., 1., 0., 0., 1., 0., 0., 0., 0., 0., 1., 1., 0.,\n",
       "       0., 0., 1., 0., 1., 1.])"
      ]
     },
     "execution_count": 61,
     "metadata": {},
     "output_type": "execute_result"
    }
   ],
   "source": [
    "pred_logi_train"
   ]
  },
  {
   "cell_type": "code",
   "execution_count": null,
   "id": "6e4d0152",
   "metadata": {},
   "outputs": [],
   "source": []
  },
  {
   "cell_type": "code",
   "execution_count": 62,
   "id": "f2a20132",
   "metadata": {},
   "outputs": [],
   "source": [
    "# confusion matrix"
   ]
  },
  {
   "cell_type": "code",
   "execution_count": 63,
   "id": "d1b5088e",
   "metadata": {},
   "outputs": [
    {
     "data": {
      "text/plain": [
       "array([[74,  5],\n",
       "       [ 7, 22]], dtype=int64)"
      ]
     },
     "execution_count": 63,
     "metadata": {},
     "output_type": "execute_result"
    }
   ],
   "source": [
    "conf_matrix = confusion_matrix(test_y,pred_logi)             # from left to right you have actual and from top to bottom predicted\n",
    "conf_matrix"
   ]
  },
  {
   "cell_type": "code",
   "execution_count": null,
   "id": "1c445e59",
   "metadata": {},
   "outputs": [],
   "source": []
  },
  {
   "cell_type": "code",
   "execution_count": null,
   "id": "2a34df39",
   "metadata": {},
   "outputs": [],
   "source": []
  },
  {
   "cell_type": "code",
   "execution_count": 64,
   "id": "1d41da90",
   "metadata": {},
   "outputs": [],
   "source": [
    "# Accuracy on test dataset"
   ]
  },
  {
   "cell_type": "code",
   "execution_count": 65,
   "id": "dda2bcf1",
   "metadata": {},
   "outputs": [
    {
     "name": "stdout",
     "output_type": "stream",
     "text": [
      "Accuracy_logi: 88.88888888888889\n"
     ]
    }
   ],
   "source": [
    "acc_logi = accuracy_score(test_y,pred_logi)*100\n",
    "print(\"Accuracy_logi:\", acc_logi)"
   ]
  },
  {
   "cell_type": "code",
   "execution_count": null,
   "id": "63f92ecd",
   "metadata": {},
   "outputs": [],
   "source": []
  },
  {
   "cell_type": "code",
   "execution_count": 66,
   "id": "d26042a4",
   "metadata": {},
   "outputs": [],
   "source": [
    "# Accuracy on train dataset"
   ]
  },
  {
   "cell_type": "code",
   "execution_count": 67,
   "id": "7c15b52e",
   "metadata": {},
   "outputs": [
    {
     "name": "stdout",
     "output_type": "stream",
     "text": [
      "Accuracy_logi: 91.87935034802784\n"
     ]
    }
   ],
   "source": [
    "acc_logi_train = accuracy_score(train_y,pred_logi_train)*100\n",
    "print(\"Accuracy_logi:\", acc_logi_train)"
   ]
  },
  {
   "cell_type": "code",
   "execution_count": 68,
   "id": "33eeca57",
   "metadata": {},
   "outputs": [],
   "source": [
    "# There is no much difference between the accuracy on train and test datasets.\n",
    "# Hence, model is not overfitted."
   ]
  },
  {
   "cell_type": "code",
   "execution_count": null,
   "id": "fe0a981d",
   "metadata": {},
   "outputs": [],
   "source": []
  },
  {
   "cell_type": "code",
   "execution_count": null,
   "id": "9835d2bb",
   "metadata": {},
   "outputs": [],
   "source": []
  },
  {
   "cell_type": "code",
   "execution_count": 69,
   "id": "cd7b0368",
   "metadata": {},
   "outputs": [],
   "source": [
    "# recall"
   ]
  },
  {
   "cell_type": "code",
   "execution_count": 70,
   "id": "d62d795a",
   "metadata": {},
   "outputs": [
    {
     "data": {
      "text/plain": [
       "0.7586206896551724"
      ]
     },
     "execution_count": 70,
     "metadata": {},
     "output_type": "execute_result"
    }
   ],
   "source": [
    "recall_logi = recall_score(test_y,pred_logi)\n",
    "recall_logi"
   ]
  },
  {
   "cell_type": "code",
   "execution_count": null,
   "id": "81b51451",
   "metadata": {},
   "outputs": [],
   "source": []
  },
  {
   "cell_type": "code",
   "execution_count": 71,
   "id": "9c785dd7",
   "metadata": {},
   "outputs": [],
   "source": [
    "# Precision"
   ]
  },
  {
   "cell_type": "code",
   "execution_count": 72,
   "id": "ddef48fd",
   "metadata": {},
   "outputs": [
    {
     "data": {
      "text/plain": [
       "0.8148148148148148"
      ]
     },
     "execution_count": 72,
     "metadata": {},
     "output_type": "execute_result"
    }
   ],
   "source": [
    "precision_logi = precision_score(test_y , pred_logi)\n",
    "precision_logi"
   ]
  },
  {
   "cell_type": "code",
   "execution_count": null,
   "id": "47e3b186",
   "metadata": {},
   "outputs": [],
   "source": []
  },
  {
   "cell_type": "code",
   "execution_count": 73,
   "id": "fb481680",
   "metadata": {},
   "outputs": [],
   "source": [
    "# f1 score"
   ]
  },
  {
   "cell_type": "code",
   "execution_count": 74,
   "id": "c3cd6dd3",
   "metadata": {},
   "outputs": [
    {
     "data": {
      "text/plain": [
       "0.7857142857142857"
      ]
     },
     "execution_count": 74,
     "metadata": {},
     "output_type": "execute_result"
    }
   ],
   "source": [
    "f1_logi = f1_score(test_y , pred_logi)\n",
    "f1_logi"
   ]
  },
  {
   "cell_type": "code",
   "execution_count": null,
   "id": "2881f042",
   "metadata": {},
   "outputs": [],
   "source": []
  },
  {
   "cell_type": "code",
   "execution_count": 75,
   "id": "6121f2df",
   "metadata": {},
   "outputs": [],
   "source": [
    "# classification report"
   ]
  },
  {
   "cell_type": "code",
   "execution_count": 76,
   "id": "da775c0a",
   "metadata": {},
   "outputs": [
    {
     "name": "stdout",
     "output_type": "stream",
     "text": [
      "              precision    recall  f1-score   support\n",
      "\n",
      "         0.0       0.91      0.94      0.92        79\n",
      "         1.0       0.81      0.76      0.79        29\n",
      "\n",
      "    accuracy                           0.89       108\n",
      "   macro avg       0.86      0.85      0.86       108\n",
      "weighted avg       0.89      0.89      0.89       108\n",
      "\n"
     ]
    }
   ],
   "source": [
    "classification_rep = classification_report(test_y,pred_logi)\n",
    "print(classification_rep)"
   ]
  },
  {
   "cell_type": "code",
   "execution_count": null,
   "id": "51dd194f",
   "metadata": {},
   "outputs": [],
   "source": []
  },
  {
   "cell_type": "code",
   "execution_count": 77,
   "id": "fcff5259",
   "metadata": {},
   "outputs": [],
   "source": [
    "# auroc curve"
   ]
  },
  {
   "cell_type": "code",
   "execution_count": 78,
   "id": "860a4006",
   "metadata": {},
   "outputs": [],
   "source": [
    "pred_logi = logreg.predict(test_x)\n",
    "pred_prob  = logreg.predict_proba(test_x)"
   ]
  },
  {
   "cell_type": "code",
   "execution_count": 79,
   "id": "7410b228",
   "metadata": {},
   "outputs": [
    {
     "data": {
      "text/plain": [
       "array([0., 0., 1., 0., 0., 0., 0., 0., 0., 0., 0., 0., 0., 0., 0., 0., 1.,\n",
       "       0., 1., 0., 0., 1., 0., 1., 1., 1., 1., 0., 1., 0., 1., 0., 0., 0.,\n",
       "       0., 0., 0., 0., 0., 1., 0., 0., 0., 0., 1., 0., 0., 0., 0., 0., 1.,\n",
       "       1., 1., 0., 0., 1., 1., 0., 0., 1., 0., 0., 0., 0., 0., 0., 0., 0.,\n",
       "       0., 1., 0., 0., 0., 1., 1., 0., 0., 0., 1., 0., 0., 0., 0., 0., 0.,\n",
       "       0., 0., 0., 1., 0., 0., 0., 0., 0., 0., 0., 1., 0., 0., 1., 0., 0.,\n",
       "       0., 0., 0., 1., 0., 1.])"
      ]
     },
     "execution_count": 79,
     "metadata": {},
     "output_type": "execute_result"
    }
   ],
   "source": [
    "pred_logi"
   ]
  },
  {
   "cell_type": "code",
   "execution_count": 80,
   "id": "428af37c",
   "metadata": {},
   "outputs": [
    {
     "data": {
      "text/plain": [
       "array([[7.63226843e-01, 2.36773157e-01],\n",
       "       [9.84544878e-01, 1.54551215e-02],\n",
       "       [3.01627362e-01, 6.98372638e-01],\n",
       "       [6.11796604e-01, 3.88203396e-01],\n",
       "       [9.97959457e-01, 2.04054297e-03],\n",
       "       [9.92200934e-01, 7.79906563e-03],\n",
       "       [8.58012530e-01, 1.41987470e-01],\n",
       "       [9.83986611e-01, 1.60133893e-02],\n",
       "       [8.01585578e-01, 1.98414422e-01],\n",
       "       [8.34054013e-01, 1.65945987e-01],\n",
       "       [9.77184462e-01, 2.28155383e-02],\n",
       "       [9.95865545e-01, 4.13445507e-03],\n",
       "       [9.98065128e-01, 1.93487233e-03],\n",
       "       [9.97783426e-01, 2.21657373e-03],\n",
       "       [9.87957530e-01, 1.20424703e-02],\n",
       "       [7.48332579e-01, 2.51667421e-01],\n",
       "       [5.25306744e-02, 9.47469326e-01],\n",
       "       [9.87508012e-01, 1.24919875e-02],\n",
       "       [4.39639970e-01, 5.60360030e-01],\n",
       "       [9.62755268e-01, 3.72447322e-02],\n",
       "       [9.97549935e-01, 2.45006545e-03],\n",
       "       [2.90928677e-03, 9.97090713e-01],\n",
       "       [9.83349320e-01, 1.66506803e-02],\n",
       "       [3.50072011e-01, 6.49927989e-01],\n",
       "       [1.85957050e-04, 9.99814043e-01],\n",
       "       [7.42129090e-02, 9.25787091e-01],\n",
       "       [3.67639496e-01, 6.32360504e-01],\n",
       "       [9.93134456e-01, 6.86554389e-03],\n",
       "       [3.31961220e-01, 6.68038780e-01],\n",
       "       [7.84619146e-01, 2.15380854e-01],\n",
       "       [6.35058063e-05, 9.99936494e-01],\n",
       "       [6.30091413e-01, 3.69908587e-01],\n",
       "       [9.97207816e-01, 2.79218352e-03],\n",
       "       [7.60497660e-01, 2.39502340e-01],\n",
       "       [9.35199335e-01, 6.48006648e-02],\n",
       "       [6.80935850e-01, 3.19064150e-01],\n",
       "       [5.67433944e-01, 4.32566056e-01],\n",
       "       [9.98021847e-01, 1.97815330e-03],\n",
       "       [9.87373159e-01, 1.26268412e-02],\n",
       "       [3.05100847e-01, 6.94899153e-01],\n",
       "       [9.97362602e-01, 2.63739843e-03],\n",
       "       [9.80131258e-01, 1.98687420e-02],\n",
       "       [9.12973198e-01, 8.70268020e-02],\n",
       "       [9.66854258e-01, 3.31457419e-02],\n",
       "       [2.22166100e-02, 9.77783390e-01],\n",
       "       [9.95043376e-01, 4.95662395e-03],\n",
       "       [8.28544816e-01, 1.71455184e-01],\n",
       "       [9.50138461e-01, 4.98615395e-02],\n",
       "       [7.44113286e-01, 2.55886714e-01],\n",
       "       [9.39748839e-01, 6.02511613e-02],\n",
       "       [7.61231718e-02, 9.23876828e-01],\n",
       "       [6.03314723e-03, 9.93966853e-01],\n",
       "       [5.35840452e-02, 9.46415955e-01],\n",
       "       [9.97073979e-01, 2.92602056e-03],\n",
       "       [9.98564831e-01, 1.43516873e-03],\n",
       "       [5.02037696e-03, 9.94979623e-01],\n",
       "       [3.19811469e-01, 6.80188531e-01],\n",
       "       [9.39016979e-01, 6.09830205e-02],\n",
       "       [9.83789975e-01, 1.62100249e-02],\n",
       "       [1.10053963e-01, 8.89946037e-01],\n",
       "       [9.80849154e-01, 1.91508460e-02],\n",
       "       [9.92543376e-01, 7.45662359e-03],\n",
       "       [8.16564489e-01, 1.83435511e-01],\n",
       "       [9.99455959e-01, 5.44040833e-04],\n",
       "       [9.97646717e-01, 2.35328314e-03],\n",
       "       [9.96197147e-01, 3.80285275e-03],\n",
       "       [7.08406921e-01, 2.91593079e-01],\n",
       "       [8.62056230e-01, 1.37943770e-01],\n",
       "       [9.93035608e-01, 6.96439177e-03],\n",
       "       [1.85371623e-01, 8.14628377e-01],\n",
       "       [9.98634330e-01, 1.36567007e-03],\n",
       "       [8.00872809e-01, 1.99127191e-01],\n",
       "       [9.66827185e-01, 3.31728151e-02],\n",
       "       [5.45327046e-03, 9.94546730e-01],\n",
       "       [1.44594789e-01, 8.55405211e-01],\n",
       "       [9.95158589e-01, 4.84141123e-03],\n",
       "       [9.32052880e-01, 6.79471200e-02],\n",
       "       [9.96159192e-01, 3.84080793e-03],\n",
       "       [2.62048008e-02, 9.73795199e-01],\n",
       "       [9.98013837e-01, 1.98616326e-03],\n",
       "       [9.75677253e-01, 2.43227466e-02],\n",
       "       [9.93529460e-01, 6.47053991e-03],\n",
       "       [9.98032224e-01, 1.96777571e-03],\n",
       "       [9.96539928e-01, 3.46007199e-03],\n",
       "       [9.97047272e-01, 2.95272750e-03],\n",
       "       [9.98080342e-01, 1.91965773e-03],\n",
       "       [9.98704981e-01, 1.29501903e-03],\n",
       "       [9.66510677e-01, 3.34893231e-02],\n",
       "       [4.10795666e-03, 9.95892043e-01],\n",
       "       [8.89915424e-01, 1.10084576e-01],\n",
       "       [9.60100540e-01, 3.98994602e-02],\n",
       "       [9.88181363e-01, 1.18186372e-02],\n",
       "       [9.27610134e-01, 7.23898660e-02],\n",
       "       [6.32968713e-01, 3.67031287e-01],\n",
       "       [9.98794224e-01, 1.20577646e-03],\n",
       "       [7.25648776e-01, 2.74351224e-01],\n",
       "       [4.29551930e-01, 5.70448070e-01],\n",
       "       [9.90027186e-01, 9.97281367e-03],\n",
       "       [9.97285292e-01, 2.71470831e-03],\n",
       "       [4.42690596e-01, 5.57309404e-01],\n",
       "       [9.12483358e-01, 8.75166423e-02],\n",
       "       [8.11575101e-01, 1.88424899e-01],\n",
       "       [6.28107790e-01, 3.71892210e-01],\n",
       "       [9.99030633e-01, 9.69367443e-04],\n",
       "       [9.92007823e-01, 7.99217673e-03],\n",
       "       [9.97103679e-03, 9.90028963e-01],\n",
       "       [9.95626616e-01, 4.37338387e-03],\n",
       "       [3.99533546e-03, 9.96004665e-01]])"
      ]
     },
     "execution_count": 80,
     "metadata": {},
     "output_type": "execute_result"
    }
   ],
   "source": [
    "pred_prob                               # prediction probabilities"
   ]
  },
  {
   "cell_type": "code",
   "execution_count": 81,
   "id": "4c27764b",
   "metadata": {},
   "outputs": [],
   "source": [
    "# for 1st observation probability of class 0 is 0.763226843 and probability of class 1 is 0.236773`57 . \n",
    "# probability for class 0 is more than class 1 . So 1st observation is predicted as 0\n",
    "# if we add these 2 values we get 1"
   ]
  },
  {
   "cell_type": "code",
   "execution_count": 82,
   "id": "8c565378",
   "metadata": {},
   "outputs": [
    {
     "data": {
      "text/plain": [
       "0.8476647752073331"
      ]
     },
     "execution_count": 82,
     "metadata": {},
     "output_type": "execute_result"
    }
   ],
   "source": [
    "roc_score = roc_auc_score(test_y ,pred_logi)                      # this gives area under the curve (AUROC value)\n",
    "roc_score"
   ]
  },
  {
   "cell_type": "code",
   "execution_count": 83,
   "id": "85b3b0d7",
   "metadata": {},
   "outputs": [],
   "source": [
    "# plotting the curve"
   ]
  },
  {
   "cell_type": "code",
   "execution_count": 84,
   "id": "5d970c16",
   "metadata": {},
   "outputs": [],
   "source": [
    "fpr , tpr , threshold = roc_curve(test_y , pred_prob[: ,1])"
   ]
  },
  {
   "cell_type": "code",
   "execution_count": 85,
   "id": "5448d281",
   "metadata": {},
   "outputs": [
    {
     "data": {
      "text/plain": [
       "Text(0.5, 1.0, 'AUROC curve')"
      ]
     },
     "execution_count": 85,
     "metadata": {},
     "output_type": "execute_result"
    },
    {
     "data": {
      "image/png": "[encoded data removed]",
      "text/plain": [
       "<Figure size 432x288 with 1 Axes>"
      ]
     },
     "metadata": {
      "needs_background": "light"
     },
     "output_type": "display_data"
    }
   ],
   "source": [
    "plt.plot(fpr,tpr)\n",
    "plt.grid()\n",
    "plt.xlabel(\"fpr\")\n",
    "plt.ylabel(\"tpr\")\n",
    "plt.title(\"AUROC curve\")"
   ]
  },
  {
   "cell_type": "code",
   "execution_count": null,
   "id": "5bb28ca0",
   "metadata": {},
   "outputs": [],
   "source": []
  },
  {
   "cell_type": "code",
   "execution_count": 86,
   "id": "470c6bad",
   "metadata": {},
   "outputs": [],
   "source": [
    "# **Conclusion  for Logistic Regression :**\n",
    "\n",
    "#The model performs well for class 0 (the negative class) with high precision (91%), recall (94%), and F1-score (92%).\n",
    "#The model performs reasonably well for class 1 (the positive class) with a decent precision (81%) and F1-score (79%), but the recall (76%) is slightly lower, indicating that some positive samples are being misclassified as negative."
   ]
  },
  {
   "cell_type": "code",
   "execution_count": null,
   "id": "041f5332",
   "metadata": {},
   "outputs": [],
   "source": []
  },
  {
   "cell_type": "code",
   "execution_count": null,
   "id": "c65cb74e",
   "metadata": {},
   "outputs": [],
   "source": []
  },
  {
   "cell_type": "markdown",
   "id": "957d32d7",
   "metadata": {},
   "source": [
    "# Decision Tree"
   ]
  },
  {
   "cell_type": "markdown",
   "id": "6b3736b0",
   "metadata": {},
   "source": [
    "#### 1. It is a supervised learning algorithm\n",
    "#### 2. It is a classification algorithm\n",
    "#### 3. Target variable can be binary or multiclass"
   ]
  },
  {
   "cell_type": "code",
   "execution_count": null,
   "id": "08d1dd9a",
   "metadata": {},
   "outputs": [],
   "source": []
  },
  {
   "cell_type": "code",
   "execution_count": 88,
   "id": "81aa1a56",
   "metadata": {},
   "outputs": [],
   "source": [
    "dt = DecisionTreeClassifier()"
   ]
  },
  {
   "cell_type": "code",
   "execution_count": 89,
   "id": "e72b50b7",
   "metadata": {},
   "outputs": [
    {
     "data": {
      "text/plain": [
       "DecisionTreeClassifier()"
      ]
     },
     "execution_count": 89,
     "metadata": {},
     "output_type": "execute_result"
    }
   ],
   "source": [
    "dt.fit(train_x ,train_y)"
   ]
  },
  {
   "cell_type": "code",
   "execution_count": null,
   "id": "0b2ffccc",
   "metadata": {},
   "outputs": [],
   "source": []
  },
  {
   "cell_type": "code",
   "execution_count": 90,
   "id": "0a0d3ab0",
   "metadata": {},
   "outputs": [],
   "source": [
    "# prediction on test dataset"
   ]
  },
  {
   "cell_type": "code",
   "execution_count": 91,
   "id": "adce9bb4",
   "metadata": {},
   "outputs": [],
   "source": [
    "pred_dt = dt.predict(test_x)"
   ]
  },
  {
   "cell_type": "code",
   "execution_count": 92,
   "id": "a8316d03",
   "metadata": {},
   "outputs": [
    {
     "data": {
      "text/plain": [
       "array([0., 0., 1., 0., 0., 0., 0., 0., 0., 0., 0., 0., 0., 0., 0., 0., 1.,\n",
       "       1., 0., 0., 0., 1., 0., 0., 1., 1., 1., 0., 1., 1., 1., 1., 0., 1.,\n",
       "       0., 0., 1., 0., 0., 1., 0., 0., 0., 0., 1., 0., 0., 1., 0., 0., 1.,\n",
       "       1., 1., 0., 0., 1., 1., 0., 0., 1., 0., 0., 0., 0., 0., 0., 0., 0.,\n",
       "       0., 1., 0., 0., 0., 1., 1., 1., 0., 0., 1., 0., 0., 0., 0., 0., 0.,\n",
       "       0., 0., 0., 1., 0., 0., 0., 0., 1., 0., 1., 1., 0., 0., 1., 0., 0.,\n",
       "       1., 0., 0., 1., 0., 1.])"
      ]
     },
     "execution_count": 92,
     "metadata": {},
     "output_type": "execute_result"
    }
   ],
   "source": [
    "pred_dt"
   ]
  },
  {
   "cell_type": "code",
   "execution_count": null,
   "id": "20a73336",
   "metadata": {},
   "outputs": [],
   "source": []
  },
  {
   "cell_type": "code",
   "execution_count": 93,
   "id": "58e56bbe",
   "metadata": {},
   "outputs": [
    {
     "data": {
      "text/plain": [
       "488    0.0\n",
       "73     0.0\n",
       "351    1.0\n",
       "86     0.0\n",
       "459    0.0\n",
       "      ... \n",
       "93     0.0\n",
       "327    0.0\n",
       "181    0.0\n",
       "333    0.0\n",
       "540    1.0\n",
       "Name: PCOS (Y/N), Length: 108, dtype: float64"
      ]
     },
     "execution_count": 93,
     "metadata": {},
     "output_type": "execute_result"
    }
   ],
   "source": [
    "test_y"
   ]
  },
  {
   "cell_type": "code",
   "execution_count": null,
   "id": "3c3b1135",
   "metadata": {},
   "outputs": [],
   "source": []
  },
  {
   "cell_type": "code",
   "execution_count": 94,
   "id": "675c15b1",
   "metadata": {},
   "outputs": [],
   "source": [
    "# prediction on train dataset"
   ]
  },
  {
   "cell_type": "code",
   "execution_count": 95,
   "id": "4d1e960b",
   "metadata": {},
   "outputs": [],
   "source": [
    "pred_dt_train = dt.predict(train_x)"
   ]
  },
  {
   "cell_type": "code",
   "execution_count": 96,
   "id": "7bb5bc95",
   "metadata": {},
   "outputs": [
    {
     "data": {
      "text/plain": [
       "array([0., 1., 0., 1., 1., 0., 1., 0., 1., 0., 0., 0., 1., 1., 0., 1., 0.,\n",
       "       0., 0., 0., 1., 0., 0., 0., 0., 0., 0., 0., 1., 1., 1., 1., 0., 0.,\n",
       "       1., 1., 1., 0., 1., 0., 0., 0., 1., 1., 1., 1., 0., 0., 0., 0., 1.,\n",
       "       1., 1., 0., 0., 0., 0., 1., 0., 1., 0., 0., 0., 1., 0., 0., 0., 0.,\n",
       "       0., 1., 0., 0., 0., 0., 0., 1., 1., 0., 0., 0., 0., 0., 1., 0., 1.,\n",
       "       0., 0., 0., 1., 0., 0., 1., 0., 0., 0., 1., 0., 1., 0., 0., 1., 0.,\n",
       "       0., 1., 1., 0., 0., 1., 0., 0., 0., 0., 1., 0., 1., 1., 0., 0., 1.,\n",
       "       1., 0., 1., 0., 0., 0., 0., 1., 0., 0., 1., 1., 0., 1., 0., 0., 0.,\n",
       "       0., 0., 0., 1., 0., 0., 1., 0., 0., 0., 1., 0., 0., 0., 0., 0., 0.,\n",
       "       1., 0., 0., 0., 0., 0., 0., 0., 0., 1., 0., 1., 1., 1., 1., 0., 0.,\n",
       "       1., 0., 0., 1., 0., 1., 0., 1., 0., 1., 0., 1., 1., 1., 0., 1., 0.,\n",
       "       1., 0., 1., 1., 1., 0., 0., 0., 0., 1., 0., 0., 0., 0., 0., 0., 1.,\n",
       "       0., 0., 0., 1., 1., 0., 1., 0., 1., 1., 0., 1., 1., 0., 0., 0., 1.,\n",
       "       0., 0., 0., 0., 0., 0., 0., 0., 1., 0., 0., 0., 0., 0., 1., 1., 0.,\n",
       "       0., 0., 0., 1., 1., 0., 0., 1., 0., 1., 0., 0., 0., 0., 1., 0., 0.,\n",
       "       0., 1., 0., 0., 1., 1., 1., 0., 1., 1., 0., 0., 0., 0., 1., 0., 0.,\n",
       "       0., 1., 0., 0., 0., 0., 1., 0., 0., 0., 0., 1., 1., 0., 1., 0., 0.,\n",
       "       1., 1., 1., 0., 0., 0., 0., 0., 0., 0., 1., 0., 0., 0., 0., 0., 0.,\n",
       "       1., 0., 0., 0., 0., 1., 0., 1., 1., 0., 0., 0., 0., 0., 0., 0., 1.,\n",
       "       1., 0., 0., 0., 1., 0., 1., 0., 1., 0., 0., 1., 0., 0., 0., 1., 0.,\n",
       "       0., 0., 1., 0., 0., 1., 1., 1., 0., 1., 0., 0., 0., 1., 0., 1., 0.,\n",
       "       0., 1., 0., 0., 0., 1., 1., 1., 1., 0., 1., 0., 1., 0., 0., 0., 0.,\n",
       "       0., 1., 0., 0., 1., 0., 0., 0., 1., 1., 0., 0., 1., 0., 0., 1., 0.,\n",
       "       1., 1., 0., 0., 0., 0., 1., 0., 0., 0., 0., 1., 0., 0., 0., 0., 0.,\n",
       "       0., 1., 0., 1., 1., 1., 0., 0., 1., 0., 0., 0., 0., 0., 0., 0., 0.,\n",
       "       0., 0., 0., 0., 1., 1.])"
      ]
     },
     "execution_count": 96,
     "metadata": {},
     "output_type": "execute_result"
    }
   ],
   "source": [
    "pred_dt_train"
   ]
  },
  {
   "cell_type": "code",
   "execution_count": null,
   "id": "46a70ee9",
   "metadata": {},
   "outputs": [],
   "source": []
  },
  {
   "cell_type": "code",
   "execution_count": 97,
   "id": "38f8f110",
   "metadata": {},
   "outputs": [],
   "source": [
    "# confusion matrix"
   ]
  },
  {
   "cell_type": "code",
   "execution_count": 98,
   "id": "76bd2b85",
   "metadata": {},
   "outputs": [
    {
     "data": {
      "text/plain": [
       "array([[66, 13],\n",
       "       [ 7, 22]], dtype=int64)"
      ]
     },
     "execution_count": 98,
     "metadata": {},
     "output_type": "execute_result"
    }
   ],
   "source": [
    "tab1 = confusion_matrix(test_y , pred_dt)                 # from left to right you have actual and from top to bottom predicted\n",
    "tab1"
   ]
  },
  {
   "cell_type": "code",
   "execution_count": null,
   "id": "d706c3e0",
   "metadata": {},
   "outputs": [],
   "source": []
  },
  {
   "cell_type": "code",
   "execution_count": 99,
   "id": "dbb803be",
   "metadata": {},
   "outputs": [],
   "source": [
    "# Accuracy on test dataset"
   ]
  },
  {
   "cell_type": "code",
   "execution_count": 100,
   "id": "5f44f308",
   "metadata": {},
   "outputs": [
    {
     "name": "stdout",
     "output_type": "stream",
     "text": [
      "Accuracy_dt: 81.48148148148148\n"
     ]
    }
   ],
   "source": [
    "acc_dt = accuracy_score(test_y , pred_dt) *100\n",
    "print(\"Accuracy_dt:\",acc_dt)"
   ]
  },
  {
   "cell_type": "code",
   "execution_count": null,
   "id": "056ded84",
   "metadata": {},
   "outputs": [],
   "source": []
  },
  {
   "cell_type": "code",
   "execution_count": 101,
   "id": "cba8aebb",
   "metadata": {},
   "outputs": [],
   "source": [
    "# Accuracy on train dataset"
   ]
  },
  {
   "cell_type": "code",
   "execution_count": 102,
   "id": "00452776",
   "metadata": {},
   "outputs": [
    {
     "name": "stdout",
     "output_type": "stream",
     "text": [
      "Accuracy_dt: 100.0\n"
     ]
    }
   ],
   "source": [
    "acc_dt_train = accuracy_score(train_y , pred_dt_train) *100\n",
    "print(\"Accuracy_dt:\",acc_dt_train)"
   ]
  },
  {
   "cell_type": "code",
   "execution_count": 103,
   "id": "1b5b39e1",
   "metadata": {},
   "outputs": [],
   "source": [
    "# Model is overfitted.\n",
    "# To avoid overfitting let's do hyperparameter tunning"
   ]
  },
  {
   "cell_type": "code",
   "execution_count": null,
   "id": "0202e5aa",
   "metadata": {},
   "outputs": [],
   "source": []
  },
  {
   "cell_type": "code",
   "execution_count": null,
   "id": "a2be4f22",
   "metadata": {},
   "outputs": [],
   "source": []
  },
  {
   "cell_type": "code",
   "execution_count": null,
   "id": "35b6d8e8",
   "metadata": {},
   "outputs": [],
   "source": []
  },
  {
   "cell_type": "code",
   "execution_count": 182,
   "id": "0c16c465",
   "metadata": {},
   "outputs": [],
   "source": [
    "dt1 = DecisionTreeClassifier(criterion= \"entropy\",max_depth=4, min_samples_split=2)"
   ]
  },
  {
   "cell_type": "code",
   "execution_count": 183,
   "id": "d8d537bd",
   "metadata": {},
   "outputs": [
    {
     "data": {
      "text/plain": [
       "DecisionTreeClassifier(criterion='entropy', max_depth=4)"
      ]
     },
     "execution_count": 183,
     "metadata": {},
     "output_type": "execute_result"
    }
   ],
   "source": [
    "dt1.fit(train_x ,train_y)"
   ]
  },
  {
   "cell_type": "code",
   "execution_count": null,
   "id": "cc1ff30f",
   "metadata": {},
   "outputs": [],
   "source": []
  },
  {
   "cell_type": "code",
   "execution_count": 184,
   "id": "783eb8e8",
   "metadata": {},
   "outputs": [],
   "source": [
    "# prediction on test dataset"
   ]
  },
  {
   "cell_type": "code",
   "execution_count": 185,
   "id": "e877eb95",
   "metadata": {},
   "outputs": [],
   "source": [
    "pred_dt1 = dt1.predict(test_x)"
   ]
  },
  {
   "cell_type": "code",
   "execution_count": 186,
   "id": "98902838",
   "metadata": {},
   "outputs": [
    {
     "data": {
      "text/plain": [
       "array([1., 0., 1., 0., 0., 0., 0., 0., 0., 0., 0., 0., 0., 0., 0., 0., 1.,\n",
       "       0., 0., 0., 0., 1., 0., 0., 1., 1., 1., 0., 1., 0., 1., 0., 0., 0.,\n",
       "       0., 1., 0., 0., 0., 1., 0., 0., 0., 0., 1., 0., 0., 0., 0., 0., 1.,\n",
       "       1., 1., 0., 0., 1., 1., 0., 0., 1., 0., 0., 0., 0., 0., 0., 0., 0.,\n",
       "       0., 1., 0., 0., 0., 1., 1., 0., 0., 0., 1., 0., 0., 0., 0., 0., 0.,\n",
       "       0., 0., 0., 1., 0., 0., 0., 0., 0., 0., 0., 0., 0., 0., 1., 0., 0.,\n",
       "       0., 0., 0., 1., 0., 1.])"
      ]
     },
     "execution_count": 186,
     "metadata": {},
     "output_type": "execute_result"
    }
   ],
   "source": [
    "pred_dt1"
   ]
  },
  {
   "cell_type": "code",
   "execution_count": null,
   "id": "4c682501",
   "metadata": {},
   "outputs": [],
   "source": []
  },
  {
   "cell_type": "code",
   "execution_count": 187,
   "id": "d2352e79",
   "metadata": {},
   "outputs": [
    {
     "data": {
      "text/plain": [
       "488    0.0\n",
       "73     0.0\n",
       "351    1.0\n",
       "86     0.0\n",
       "459    0.0\n",
       "      ... \n",
       "93     0.0\n",
       "327    0.0\n",
       "181    0.0\n",
       "333    0.0\n",
       "540    1.0\n",
       "Name: PCOS (Y/N), Length: 108, dtype: float64"
      ]
     },
     "execution_count": 187,
     "metadata": {},
     "output_type": "execute_result"
    }
   ],
   "source": [
    "test_y"
   ]
  },
  {
   "cell_type": "code",
   "execution_count": null,
   "id": "3437470d",
   "metadata": {},
   "outputs": [],
   "source": []
  },
  {
   "cell_type": "code",
   "execution_count": 188,
   "id": "6f83c8a9",
   "metadata": {},
   "outputs": [],
   "source": [
    "# prediction on train dataset"
   ]
  },
  {
   "cell_type": "code",
   "execution_count": 189,
   "id": "fb58be72",
   "metadata": {},
   "outputs": [],
   "source": [
    "pred_dt1_train = dt1.predict(train_x)"
   ]
  },
  {
   "cell_type": "code",
   "execution_count": 190,
   "id": "e073c897",
   "metadata": {},
   "outputs": [
    {
     "data": {
      "text/plain": [
       "array([0., 1., 1., 1., 1., 0., 1., 0., 0., 0., 0., 0., 1., 0., 1., 1., 0.,\n",
       "       0., 0., 0., 1., 0., 0., 0., 0., 0., 0., 1., 1., 1., 1., 1., 0., 0.,\n",
       "       0., 1., 1., 0., 1., 0., 0., 0., 1., 1., 1., 1., 0., 0., 0., 1., 1.,\n",
       "       0., 1., 0., 0., 0., 0., 0., 0., 1., 0., 1., 0., 1., 0., 0., 0., 1.,\n",
       "       0., 1., 0., 0., 0., 0., 0., 0., 1., 0., 0., 0., 0., 0., 0., 0., 1.,\n",
       "       0., 0., 0., 1., 0., 0., 1., 0., 0., 0., 1., 0., 1., 0., 0., 1., 0.,\n",
       "       0., 1., 0., 0., 0., 1., 0., 0., 0., 0., 1., 0., 1., 0., 1., 0., 1.,\n",
       "       1., 0., 1., 0., 0., 0., 0., 1., 0., 0., 0., 0., 0., 1., 0., 0., 0.,\n",
       "       0., 0., 0., 0., 0., 0., 1., 0., 0., 0., 1., 0., 0., 0., 0., 0., 0.,\n",
       "       1., 0., 0., 0., 0., 0., 0., 0., 0., 0., 0., 1., 1., 1., 1., 0., 0.,\n",
       "       1., 0., 0., 1., 0., 1., 0., 1., 0., 1., 0., 1., 0., 1., 0., 1., 0.,\n",
       "       1., 0., 1., 1., 1., 0., 0., 0., 0., 1., 0., 0., 0., 1., 0., 0., 1.,\n",
       "       1., 0., 0., 1., 1., 0., 0., 0., 1., 1., 0., 1., 1., 0., 0., 0., 1.,\n",
       "       0., 0., 0., 0., 0., 0., 0., 0., 1., 0., 0., 0., 0., 0., 1., 1., 0.,\n",
       "       0., 0., 0., 1., 1., 0., 0., 1., 0., 1., 0., 0., 0., 0., 0., 0., 0.,\n",
       "       0., 1., 0., 0., 1., 0., 1., 0., 1., 1., 0., 0., 0., 0., 1., 0., 0.,\n",
       "       0., 1., 0., 0., 0., 0., 1., 0., 0., 1., 0., 0., 1., 0., 1., 0., 0.,\n",
       "       1., 1., 1., 0., 0., 0., 0., 0., 0., 0., 1., 0., 0., 0., 0., 0., 0.,\n",
       "       1., 0., 0., 0., 0., 1., 0., 1., 1., 0., 0., 0., 0., 0., 0., 0., 0.,\n",
       "       1., 0., 0., 0., 1., 0., 0., 0., 1., 0., 0., 1., 0., 0., 0., 0., 0.,\n",
       "       0., 0., 1., 0., 0., 1., 1., 1., 0., 1., 0., 0., 0., 1., 0., 1., 0.,\n",
       "       0., 1., 0., 0., 0., 1., 0., 0., 1., 0., 1., 1., 1., 0., 0., 0., 0.,\n",
       "       0., 1., 0., 0., 1., 0., 0., 0., 1., 1., 0., 1., 1., 0., 0., 1., 0.,\n",
       "       1., 1., 0., 0., 0., 0., 1., 1., 0., 0., 0., 1., 0., 0., 0., 1., 0.,\n",
       "       0., 0., 0., 1., 1., 1., 0., 0., 1., 0., 0., 0., 0., 0., 0., 0., 0.,\n",
       "       0., 0., 0., 0., 1., 1.])"
      ]
     },
     "execution_count": 190,
     "metadata": {},
     "output_type": "execute_result"
    }
   ],
   "source": [
    "pred_dt1_train"
   ]
  },
  {
   "cell_type": "code",
   "execution_count": null,
   "id": "fc91e0a4",
   "metadata": {},
   "outputs": [],
   "source": []
  },
  {
   "cell_type": "code",
   "execution_count": 191,
   "id": "a12740d5",
   "metadata": {},
   "outputs": [],
   "source": [
    "# confusion matrix"
   ]
  },
  {
   "cell_type": "code",
   "execution_count": 192,
   "id": "c7c00027",
   "metadata": {},
   "outputs": [
    {
     "data": {
      "text/plain": [
       "array([[73,  6],\n",
       "       [ 9, 20]], dtype=int64)"
      ]
     },
     "execution_count": 192,
     "metadata": {},
     "output_type": "execute_result"
    }
   ],
   "source": [
    "tab1 = confusion_matrix(test_y , pred_dt1)                 # from left to right you have actual and from top to bottom predicted\n",
    "tab1"
   ]
  },
  {
   "cell_type": "code",
   "execution_count": null,
   "id": "24bf44ad",
   "metadata": {},
   "outputs": [],
   "source": []
  },
  {
   "cell_type": "code",
   "execution_count": 193,
   "id": "5a2ab43c",
   "metadata": {},
   "outputs": [],
   "source": [
    "# Accuracy on test dataset"
   ]
  },
  {
   "cell_type": "code",
   "execution_count": 194,
   "id": "0ee2a877",
   "metadata": {},
   "outputs": [
    {
     "name": "stdout",
     "output_type": "stream",
     "text": [
      "Accuracy_dt: 86.11111111111111\n"
     ]
    }
   ],
   "source": [
    "acc_dt = accuracy_score(test_y , pred_dt1) *100\n",
    "print(\"Accuracy_dt:\",acc_dt)"
   ]
  },
  {
   "cell_type": "code",
   "execution_count": null,
   "id": "ddf33163",
   "metadata": {},
   "outputs": [],
   "source": []
  },
  {
   "cell_type": "code",
   "execution_count": 195,
   "id": "5c04a7f4",
   "metadata": {},
   "outputs": [],
   "source": [
    "# Accuracy on train dataset"
   ]
  },
  {
   "cell_type": "code",
   "execution_count": 196,
   "id": "ee3e7564",
   "metadata": {},
   "outputs": [
    {
     "name": "stdout",
     "output_type": "stream",
     "text": [
      "Accuracy_dt: 91.1832946635731\n"
     ]
    }
   ],
   "source": [
    "acc_dt_train = accuracy_score(train_y , pred_dt1_train) *100\n",
    "print(\"Accuracy_dt:\",acc_dt_train)"
   ]
  },
  {
   "cell_type": "code",
   "execution_count": 197,
   "id": "cc3e9165",
   "metadata": {},
   "outputs": [],
   "source": [
    "# Now there is no much difference between the accuracy on train and test datasets.\n",
    "# Hence, model is not overfitted."
   ]
  },
  {
   "cell_type": "code",
   "execution_count": null,
   "id": "f1904e17",
   "metadata": {},
   "outputs": [],
   "source": []
  },
  {
   "cell_type": "code",
   "execution_count": null,
   "id": "b6fd31c9",
   "metadata": {},
   "outputs": [],
   "source": []
  },
  {
   "cell_type": "code",
   "execution_count": 84,
   "id": "649f87da",
   "metadata": {},
   "outputs": [],
   "source": [
    "# Recall"
   ]
  },
  {
   "cell_type": "code",
   "execution_count": 199,
   "id": "81f42c64",
   "metadata": {},
   "outputs": [
    {
     "data": {
      "text/plain": [
       "0.6896551724137931"
      ]
     },
     "execution_count": 199,
     "metadata": {},
     "output_type": "execute_result"
    }
   ],
   "source": [
    "recall_dt = recall_score(test_y , pred_dt1)\n",
    "recall_dt"
   ]
  },
  {
   "cell_type": "code",
   "execution_count": null,
   "id": "c34bf46c",
   "metadata": {},
   "outputs": [],
   "source": []
  },
  {
   "cell_type": "code",
   "execution_count": 200,
   "id": "04495f6a",
   "metadata": {},
   "outputs": [],
   "source": [
    "# Precision"
   ]
  },
  {
   "cell_type": "code",
   "execution_count": 201,
   "id": "e00760f4",
   "metadata": {},
   "outputs": [
    {
     "data": {
      "text/plain": [
       "0.7692307692307693"
      ]
     },
     "execution_count": 201,
     "metadata": {},
     "output_type": "execute_result"
    }
   ],
   "source": [
    "precision_dt = precision_score(test_y , pred_dt1)\n",
    "precision_dt"
   ]
  },
  {
   "cell_type": "code",
   "execution_count": null,
   "id": "7618e925",
   "metadata": {},
   "outputs": [],
   "source": []
  },
  {
   "cell_type": "code",
   "execution_count": 202,
   "id": "b846e1cd",
   "metadata": {},
   "outputs": [],
   "source": [
    "# f1 score"
   ]
  },
  {
   "cell_type": "code",
   "execution_count": 203,
   "id": "4f601af6",
   "metadata": {},
   "outputs": [
    {
     "data": {
      "text/plain": [
       "0.7272727272727274"
      ]
     },
     "execution_count": 203,
     "metadata": {},
     "output_type": "execute_result"
    }
   ],
   "source": [
    "f1_dt = f1_score(test_y , pred_dt1)\n",
    "f1_dt"
   ]
  },
  {
   "cell_type": "code",
   "execution_count": null,
   "id": "479dc03b",
   "metadata": {},
   "outputs": [],
   "source": []
  },
  {
   "cell_type": "code",
   "execution_count": 204,
   "id": "bc3b04c7",
   "metadata": {},
   "outputs": [
    {
     "name": "stdout",
     "output_type": "stream",
     "text": [
      "              precision    recall  f1-score   support\n",
      "\n",
      "         0.0       0.89      0.92      0.91        79\n",
      "         1.0       0.77      0.69      0.73        29\n",
      "\n",
      "    accuracy                           0.86       108\n",
      "   macro avg       0.83      0.81      0.82       108\n",
      "weighted avg       0.86      0.86      0.86       108\n",
      "\n"
     ]
    }
   ],
   "source": [
    "classification_rep = classification_report(test_y, pred_dt1)\n",
    "print(classification_rep)"
   ]
  },
  {
   "cell_type": "code",
   "execution_count": null,
   "id": "da69b1d7",
   "metadata": {},
   "outputs": [],
   "source": [
    " "
   ]
  },
  {
   "cell_type": "code",
   "execution_count": null,
   "id": "9e0a9495",
   "metadata": {},
   "outputs": [],
   "source": []
  },
  {
   "cell_type": "code",
   "execution_count": null,
   "id": "23e7fb03",
   "metadata": {},
   "outputs": [],
   "source": []
  },
  {
   "cell_type": "markdown",
   "id": "574975db",
   "metadata": {},
   "source": [
    "### Random Forest "
   ]
  },
  {
   "cell_type": "markdown",
   "id": "374388bb",
   "metadata": {},
   "source": [
    "#### 1. It is a supervised algorithm\n",
    "#### 2. RF uses three concepts: Ensemble, Bootstrapping and Bagging"
   ]
  },
  {
   "cell_type": "code",
   "execution_count": null,
   "id": "b332ed49",
   "metadata": {},
   "outputs": [],
   "source": []
  },
  {
   "cell_type": "code",
   "execution_count": 205,
   "id": "03b370b1",
   "metadata": {},
   "outputs": [],
   "source": [
    "rfc = RandomForestClassifier()"
   ]
  },
  {
   "cell_type": "code",
   "execution_count": 206,
   "id": "091a8ca5",
   "metadata": {},
   "outputs": [
    {
     "data": {
      "text/plain": [
       "RandomForestClassifier()"
      ]
     },
     "execution_count": 206,
     "metadata": {},
     "output_type": "execute_result"
    }
   ],
   "source": [
    "rfc.fit(train_x ,train_y)"
   ]
  },
  {
   "cell_type": "code",
   "execution_count": null,
   "id": "00682f52",
   "metadata": {},
   "outputs": [],
   "source": []
  },
  {
   "cell_type": "code",
   "execution_count": 207,
   "id": "7b974d27",
   "metadata": {},
   "outputs": [
    {
     "data": {
      "text/plain": [
       "array([0., 0., 1., 0., 0., 0., 0., 0., 0., 0., 0., 0., 0., 0., 0., 0., 1.,\n",
       "       0., 1., 0., 0., 1., 0., 1., 1., 1., 1., 0., 1., 0., 1., 0., 0., 0.,\n",
       "       0., 0., 0., 0., 0., 1., 0., 0., 0., 0., 1., 0., 0., 0., 0., 0., 1.,\n",
       "       1., 1., 0., 0., 1., 1., 0., 0., 1., 0., 0., 0., 0., 0., 0., 0., 0.,\n",
       "       0., 1., 0., 0., 0., 1., 1., 0., 0., 0., 1., 0., 0., 0., 0., 0., 0.,\n",
       "       0., 0., 0., 1., 0., 0., 0., 0., 0., 0., 0., 0., 0., 0., 1., 0., 0.,\n",
       "       0., 0., 0., 1., 0., 1.])"
      ]
     },
     "execution_count": 207,
     "metadata": {},
     "output_type": "execute_result"
    }
   ],
   "source": [
    "pred_rfc = rfc.predict(test_x)\n",
    "pred_rfc"
   ]
  },
  {
   "cell_type": "code",
   "execution_count": 212,
   "id": "fa6d0789",
   "metadata": {},
   "outputs": [
    {
     "data": {
      "text/plain": [
       "array([0., 1., 0., 1., 1., 0., 1., 0., 1., 0., 0., 0., 1., 1., 0., 1., 0.,\n",
       "       0., 0., 0., 1., 0., 0., 0., 0., 0., 0., 0., 1., 1., 1., 1., 0., 0.,\n",
       "       1., 1., 1., 0., 1., 0., 0., 0., 1., 1., 1., 1., 0., 0., 0., 0., 1.,\n",
       "       1., 1., 0., 0., 0., 0., 1., 0., 1., 0., 0., 0., 1., 0., 0., 0., 0.,\n",
       "       0., 1., 0., 0., 0., 0., 0., 1., 1., 0., 0., 0., 0., 0., 1., 0., 1.,\n",
       "       0., 0., 0., 1., 0., 0., 1., 0., 0., 0., 1., 0., 1., 0., 0., 1., 0.,\n",
       "       0., 1., 1., 0., 0., 1., 0., 0., 0., 0., 1., 0., 1., 1., 0., 0., 1.,\n",
       "       1., 0., 1., 0., 0., 0., 0., 1., 0., 0., 1., 1., 0., 1., 0., 0., 0.,\n",
       "       0., 0., 0., 1., 0., 0., 1., 0., 0., 0., 1., 0., 0., 0., 0., 0., 0.,\n",
       "       1., 0., 0., 0., 0., 0., 0., 0., 0., 1., 0., 1., 1., 1., 1., 0., 0.,\n",
       "       1., 0., 0., 1., 0., 1., 0., 1., 0., 1., 0., 1., 1., 1., 0., 1., 0.,\n",
       "       1., 0., 1., 1., 1., 0., 0., 0., 0., 1., 0., 0., 0., 0., 0., 0., 1.,\n",
       "       0., 0., 0., 1., 1., 0., 1., 0., 1., 1., 0., 1., 1., 0., 0., 0., 1.,\n",
       "       0., 0., 0., 0., 0., 0., 0., 0., 1., 0., 0., 0., 0., 0., 1., 1., 0.,\n",
       "       0., 0., 0., 1., 1., 0., 0., 1., 0., 1., 0., 0., 0., 0., 1., 0., 0.,\n",
       "       0., 1., 0., 0., 1., 1., 1., 0., 1., 1., 0., 0., 0., 0., 1., 0., 0.,\n",
       "       0., 1., 0., 0., 0., 0., 1., 0., 0., 0., 0., 1., 1., 0., 1., 0., 0.,\n",
       "       1., 1., 1., 0., 0., 0., 0., 0., 0., 0., 1., 0., 0., 0., 0., 0., 0.,\n",
       "       1., 0., 0., 0., 0., 1., 0., 1., 1., 0., 0., 0., 0., 0., 0., 0., 1.,\n",
       "       1., 0., 0., 0., 1., 0., 1., 0., 1., 0., 0., 1., 0., 0., 0., 1., 0.,\n",
       "       0., 0., 1., 0., 0., 1., 1., 1., 0., 1., 0., 0., 0., 1., 0., 1., 0.,\n",
       "       0., 1., 0., 0., 0., 1., 1., 1., 1., 0., 1., 0., 1., 0., 0., 0., 0.,\n",
       "       0., 1., 0., 0., 1., 0., 0., 0., 1., 1., 0., 0., 1., 0., 0., 1., 0.,\n",
       "       1., 1., 0., 0., 0., 0., 1., 0., 0., 0., 0., 1., 0., 0., 0., 0., 0.,\n",
       "       0., 1., 0., 1., 1., 1., 0., 0., 1., 0., 0., 0., 0., 0., 0., 0., 0.,\n",
       "       0., 0., 0., 0., 1., 1.])"
      ]
     },
     "execution_count": 212,
     "metadata": {},
     "output_type": "execute_result"
    }
   ],
   "source": [
    "pred_rfc_train = rfc.predict(train_x)\n",
    "pred_rfc_train"
   ]
  },
  {
   "cell_type": "code",
   "execution_count": null,
   "id": "1ca8553c",
   "metadata": {},
   "outputs": [],
   "source": []
  },
  {
   "cell_type": "code",
   "execution_count": 213,
   "id": "7d5394a7",
   "metadata": {},
   "outputs": [
    {
     "data": {
      "text/plain": [
       "array([[75,  4],\n",
       "       [ 7, 22]], dtype=int64)"
      ]
     },
     "execution_count": 213,
     "metadata": {},
     "output_type": "execute_result"
    }
   ],
   "source": [
    "tab1 = confusion_matrix(test_y,pred_rfc)\n",
    "tab1"
   ]
  },
  {
   "cell_type": "code",
   "execution_count": null,
   "id": "4c42ae64",
   "metadata": {},
   "outputs": [],
   "source": []
  },
  {
   "cell_type": "code",
   "execution_count": 215,
   "id": "ec2b7410",
   "metadata": {},
   "outputs": [],
   "source": [
    "# Accuracy on test dataset"
   ]
  },
  {
   "cell_type": "code",
   "execution_count": 216,
   "id": "662e6b26",
   "metadata": {},
   "outputs": [
    {
     "name": "stdout",
     "output_type": "stream",
     "text": [
      "Accuracy_rf: 89.81481481481481\n"
     ]
    }
   ],
   "source": [
    "acc_rf = accuracy_score(test_y , pred_rfc)*100\n",
    "print(\"Accuracy_rf:\",acc_rf)"
   ]
  },
  {
   "cell_type": "code",
   "execution_count": null,
   "id": "fcfd18d1",
   "metadata": {},
   "outputs": [],
   "source": [
    "# Accuracy on test dataset"
   ]
  },
  {
   "cell_type": "code",
   "execution_count": 217,
   "id": "a7f55b88",
   "metadata": {},
   "outputs": [
    {
     "name": "stdout",
     "output_type": "stream",
     "text": [
      "Accuracy_rf: 100.0\n"
     ]
    }
   ],
   "source": [
    "acc_rf_train = accuracy_score(train_y , pred_rfc_train)*100\n",
    "print(\"Accuracy_rf:\",acc_rf_train)"
   ]
  },
  {
   "cell_type": "code",
   "execution_count": null,
   "id": "fe6aae30",
   "metadata": {},
   "outputs": [],
   "source": [
    "# Model is overfitted.\n",
    "# To avoid overfitting let's do hyperparameter tunning"
   ]
  },
  {
   "cell_type": "code",
   "execution_count": null,
   "id": "e161a6e1",
   "metadata": {},
   "outputs": [],
   "source": []
  },
  {
   "cell_type": "code",
   "execution_count": null,
   "id": "6959d0a6",
   "metadata": {},
   "outputs": [],
   "source": []
  },
  {
   "cell_type": "code",
   "execution_count": null,
   "id": "238e992d",
   "metadata": {},
   "outputs": [],
   "source": []
  },
  {
   "cell_type": "code",
   "execution_count": 240,
   "id": "743a4be0",
   "metadata": {},
   "outputs": [],
   "source": [
    "rfc = RandomForestClassifier(n_estimators=50,\n",
    "    criterion='entropy',\n",
    "    max_depth=5,\n",
    "    min_samples_split=2)"
   ]
  },
  {
   "cell_type": "code",
   "execution_count": 241,
   "id": "4361e06a",
   "metadata": {},
   "outputs": [
    {
     "data": {
      "text/plain": [
       "RandomForestClassifier(criterion='entropy', max_depth=5, n_estimators=50)"
      ]
     },
     "execution_count": 241,
     "metadata": {},
     "output_type": "execute_result"
    }
   ],
   "source": [
    "rfc.fit(train_x ,train_y)"
   ]
  },
  {
   "cell_type": "code",
   "execution_count": null,
   "id": "89feec5a",
   "metadata": {},
   "outputs": [],
   "source": []
  },
  {
   "cell_type": "code",
   "execution_count": 242,
   "id": "fabe1645",
   "metadata": {},
   "outputs": [
    {
     "data": {
      "text/plain": [
       "array([0., 0., 1., 0., 0., 0., 0., 0., 0., 0., 0., 0., 0., 0., 0., 0., 1.,\n",
       "       0., 1., 0., 0., 1., 0., 1., 1., 1., 0., 0., 0., 0., 1., 0., 0., 0.,\n",
       "       0., 0., 0., 0., 0., 1., 0., 0., 0., 0., 1., 0., 0., 0., 0., 0., 1.,\n",
       "       1., 1., 0., 0., 1., 1., 0., 0., 1., 0., 0., 0., 0., 0., 0., 0., 0.,\n",
       "       0., 1., 0., 0., 0., 1., 1., 0., 0., 0., 1., 0., 0., 0., 0., 0., 0.,\n",
       "       0., 0., 0., 1., 0., 0., 0., 0., 0., 0., 0., 0., 0., 0., 1., 0., 0.,\n",
       "       0., 0., 0., 1., 0., 1.])"
      ]
     },
     "execution_count": 242,
     "metadata": {},
     "output_type": "execute_result"
    }
   ],
   "source": [
    "pred_rfc = rfc.predict(test_x)\n",
    "pred_rfc"
   ]
  },
  {
   "cell_type": "code",
   "execution_count": 243,
   "id": "e72e47f9",
   "metadata": {},
   "outputs": [
    {
     "data": {
      "text/plain": [
       "array([0., 1., 1., 1., 1., 0., 1., 0., 0., 0., 0., 0., 1., 1., 0., 1., 0.,\n",
       "       0., 0., 0., 1., 0., 0., 0., 0., 0., 0., 0., 1., 1., 1., 1., 0., 0.,\n",
       "       0., 1., 1., 0., 1., 0., 0., 0., 1., 1., 1., 1., 0., 0., 0., 0., 1.,\n",
       "       1., 1., 0., 0., 0., 0., 0., 0., 1., 0., 1., 0., 1., 0., 0., 0., 0.,\n",
       "       0., 1., 0., 0., 0., 0., 0., 1., 1., 0., 0., 0., 0., 0., 1., 0., 1.,\n",
       "       0., 0., 0., 1., 0., 0., 1., 0., 0., 0., 1., 0., 1., 0., 0., 1., 0.,\n",
       "       0., 1., 0., 0., 0., 1., 0., 0., 0., 0., 1., 0., 1., 0., 0., 0., 1.,\n",
       "       1., 0., 1., 0., 0., 0., 0., 1., 0., 0., 1., 1., 0., 1., 0., 0., 0.,\n",
       "       0., 0., 0., 0., 0., 0., 1., 0., 0., 0., 1., 0., 0., 0., 0., 0., 0.,\n",
       "       1., 0., 0., 0., 0., 0., 0., 0., 0., 0., 0., 1., 1., 1., 1., 0., 0.,\n",
       "       1., 0., 0., 1., 0., 1., 0., 1., 0., 1., 0., 1., 0., 1., 0., 1., 0.,\n",
       "       1., 0., 1., 1., 1., 0., 0., 0., 0., 1., 0., 0., 0., 0., 0., 0., 1.,\n",
       "       0., 0., 0., 1., 1., 0., 0., 0., 1., 1., 0., 1., 1., 0., 0., 0., 1.,\n",
       "       0., 0., 0., 0., 0., 0., 0., 0., 1., 0., 0., 0., 0., 0., 1., 1., 0.,\n",
       "       0., 0., 0., 1., 1., 0., 0., 1., 0., 1., 0., 0., 0., 0., 0., 0., 0.,\n",
       "       0., 1., 0., 0., 1., 1., 1., 0., 1., 1., 0., 0., 0., 0., 1., 0., 0.,\n",
       "       0., 1., 0., 0., 0., 0., 1., 0., 0., 0., 0., 0., 1., 0., 1., 0., 0.,\n",
       "       1., 1., 1., 0., 0., 0., 0., 0., 0., 0., 1., 0., 0., 0., 0., 0., 0.,\n",
       "       1., 0., 0., 0., 0., 1., 0., 1., 1., 0., 0., 0., 0., 0., 0., 0., 0.,\n",
       "       1., 0., 0., 0., 1., 0., 0., 0., 1., 0., 0., 1., 0., 0., 0., 0., 0.,\n",
       "       0., 0., 1., 0., 0., 1., 1., 1., 0., 1., 0., 0., 0., 1., 0., 1., 0.,\n",
       "       0., 1., 0., 0., 0., 1., 1., 1., 1., 0., 1., 0., 1., 0., 0., 0., 0.,\n",
       "       0., 1., 0., 0., 1., 0., 0., 0., 1., 1., 0., 0., 1., 0., 0., 1., 0.,\n",
       "       1., 1., 0., 0., 0., 0., 1., 1., 0., 0., 0., 1., 0., 0., 0., 0., 0.,\n",
       "       0., 0., 0., 1., 1., 1., 0., 0., 1., 0., 0., 0., 0., 0., 0., 1., 0.,\n",
       "       0., 0., 0., 0., 1., 1.])"
      ]
     },
     "execution_count": 243,
     "metadata": {},
     "output_type": "execute_result"
    }
   ],
   "source": [
    "pred_rfc_train = rfc.predict(train_x)\n",
    "pred_rfc_train"
   ]
  },
  {
   "cell_type": "code",
   "execution_count": null,
   "id": "8a929632",
   "metadata": {},
   "outputs": [],
   "source": []
  },
  {
   "cell_type": "code",
   "execution_count": 244,
   "id": "449cf873",
   "metadata": {},
   "outputs": [
    {
     "data": {
      "text/plain": [
       "array([[76,  3],\n",
       "       [ 8, 21]], dtype=int64)"
      ]
     },
     "execution_count": 244,
     "metadata": {},
     "output_type": "execute_result"
    }
   ],
   "source": [
    "tab1 = confusion_matrix(test_y,pred_rfc)\n",
    "tab1"
   ]
  },
  {
   "cell_type": "code",
   "execution_count": null,
   "id": "a875fe22",
   "metadata": {},
   "outputs": [],
   "source": []
  },
  {
   "cell_type": "code",
   "execution_count": 245,
   "id": "a8ecd2b5",
   "metadata": {},
   "outputs": [],
   "source": [
    "# Accuracy on test dataset"
   ]
  },
  {
   "cell_type": "code",
   "execution_count": 246,
   "id": "12d11d73",
   "metadata": {},
   "outputs": [
    {
     "name": "stdout",
     "output_type": "stream",
     "text": [
      "Accuracy_rf: 89.81481481481481\n"
     ]
    }
   ],
   "source": [
    "acc_rf = accuracy_score(test_y , pred_rfc)*100\n",
    "print(\"Accuracy_rf:\",acc_rf)"
   ]
  },
  {
   "cell_type": "code",
   "execution_count": 247,
   "id": "662007f0",
   "metadata": {},
   "outputs": [],
   "source": [
    "# Accuracy on test dataset"
   ]
  },
  {
   "cell_type": "code",
   "execution_count": 248,
   "id": "536ba584",
   "metadata": {},
   "outputs": [
    {
     "name": "stdout",
     "output_type": "stream",
     "text": [
      "Accuracy_rf: 95.59164733178655\n"
     ]
    }
   ],
   "source": [
    "acc_rf_train = accuracy_score(train_y , pred_rfc_train)*100\n",
    "print(\"Accuracy_rf:\",acc_rf_train)"
   ]
  },
  {
   "cell_type": "code",
   "execution_count": 249,
   "id": "97f046a2",
   "metadata": {},
   "outputs": [],
   "source": [
    "# Now there is no much difference between the accuracy on train and test datasets.\n",
    "# Hence, model is not overfitted."
   ]
  },
  {
   "cell_type": "code",
   "execution_count": null,
   "id": "e10f60b5",
   "metadata": {},
   "outputs": [],
   "source": []
  },
  {
   "cell_type": "code",
   "execution_count": null,
   "id": "82842719",
   "metadata": {},
   "outputs": [],
   "source": []
  },
  {
   "cell_type": "code",
   "execution_count": 250,
   "id": "67c9b2f7",
   "metadata": {},
   "outputs": [],
   "source": [
    "# Recall"
   ]
  },
  {
   "cell_type": "code",
   "execution_count": 251,
   "id": "0b57ea92",
   "metadata": {},
   "outputs": [
    {
     "data": {
      "text/plain": [
       "0.7241379310344828"
      ]
     },
     "execution_count": 251,
     "metadata": {},
     "output_type": "execute_result"
    }
   ],
   "source": [
    "recall_rf = recall_score(test_y , pred_rfc)\n",
    "recall_rf"
   ]
  },
  {
   "cell_type": "code",
   "execution_count": null,
   "id": "84485b7e",
   "metadata": {},
   "outputs": [],
   "source": []
  },
  {
   "cell_type": "code",
   "execution_count": 252,
   "id": "e1dd9ec9",
   "metadata": {},
   "outputs": [],
   "source": [
    "# Precision"
   ]
  },
  {
   "cell_type": "code",
   "execution_count": 253,
   "id": "46aebeb5",
   "metadata": {},
   "outputs": [
    {
     "data": {
      "text/plain": [
       "0.875"
      ]
     },
     "execution_count": 253,
     "metadata": {},
     "output_type": "execute_result"
    }
   ],
   "source": [
    "precision_rf = precision_score(test_y , pred_rfc)\n",
    "precision_rf"
   ]
  },
  {
   "cell_type": "code",
   "execution_count": null,
   "id": "1cc41224",
   "metadata": {},
   "outputs": [],
   "source": []
  },
  {
   "cell_type": "code",
   "execution_count": 254,
   "id": "33ab64ac",
   "metadata": {},
   "outputs": [],
   "source": [
    "# f1 score"
   ]
  },
  {
   "cell_type": "code",
   "execution_count": 255,
   "id": "b5224a64",
   "metadata": {},
   "outputs": [
    {
     "data": {
      "text/plain": [
       "0.7924528301886793"
      ]
     },
     "execution_count": 255,
     "metadata": {},
     "output_type": "execute_result"
    }
   ],
   "source": [
    "f1_rf = f1_score(test_y , pred_rfc)\n",
    "f1_rf"
   ]
  },
  {
   "cell_type": "code",
   "execution_count": null,
   "id": "ee5f9e3d",
   "metadata": {},
   "outputs": [],
   "source": []
  },
  {
   "cell_type": "code",
   "execution_count": 256,
   "id": "2fe9ee3c",
   "metadata": {},
   "outputs": [
    {
     "name": "stdout",
     "output_type": "stream",
     "text": [
      "              precision    recall  f1-score   support\n",
      "\n",
      "         0.0       0.90      0.96      0.93        79\n",
      "         1.0       0.88      0.72      0.79        29\n",
      "\n",
      "    accuracy                           0.90       108\n",
      "   macro avg       0.89      0.84      0.86       108\n",
      "weighted avg       0.90      0.90      0.89       108\n",
      "\n"
     ]
    }
   ],
   "source": [
    "print(classification_report(test_y , pred_rfc))                 # support : total records of that category"
   ]
  },
  {
   "cell_type": "code",
   "execution_count": null,
   "id": "c22cbf42",
   "metadata": {},
   "outputs": [],
   "source": []
  },
  {
   "cell_type": "code",
   "execution_count": null,
   "id": "3d151444",
   "metadata": {},
   "outputs": [],
   "source": []
  },
  {
   "cell_type": "code",
   "execution_count": 257,
   "id": "22f83d0e",
   "metadata": {},
   "outputs": [],
   "source": [
    "# Comaprison of the models"
   ]
  },
  {
   "cell_type": "code",
   "execution_count": 258,
   "id": "47eee3df",
   "metadata": {},
   "outputs": [
    {
     "data": {
      "text/html": [
       "<div>\n",
       "<style scoped>\n",
       "    .dataframe tbody tr th:only-of-type {\n",
       "        vertical-align: middle;\n",
       "    }\n",
       "\n",
       "    .dataframe tbody tr th {\n",
       "        vertical-align: top;\n",
       "    }\n",
       "\n",
       "    .dataframe thead th {\n",
       "        text-align: right;\n",
       "    }\n",
       "</style>\n",
       "<table border=\"1\" class=\"dataframe\">\n",
       "  <thead>\n",
       "    <tr style=\"text-align: right;\">\n",
       "      <th></th>\n",
       "      <th>model</th>\n",
       "      <th>Accuracy</th>\n",
       "      <th>Recall</th>\n",
       "      <th>Precision</th>\n",
       "      <th>f1 score</th>\n",
       "    </tr>\n",
       "  </thead>\n",
       "  <tbody>\n",
       "    <tr>\n",
       "      <th>0</th>\n",
       "      <td>Logistic Regression</td>\n",
       "      <td>88.888889</td>\n",
       "      <td>0.758621</td>\n",
       "      <td>0.814815</td>\n",
       "      <td>0.785714</td>\n",
       "    </tr>\n",
       "    <tr>\n",
       "      <th>1</th>\n",
       "      <td>Decision Tree</td>\n",
       "      <td>86.111111</td>\n",
       "      <td>0.689655</td>\n",
       "      <td>0.769231</td>\n",
       "      <td>0.727273</td>\n",
       "    </tr>\n",
       "    <tr>\n",
       "      <th>2</th>\n",
       "      <td>Random Forest</td>\n",
       "      <td>89.814815</td>\n",
       "      <td>0.724138</td>\n",
       "      <td>0.875000</td>\n",
       "      <td>0.792453</td>\n",
       "    </tr>\n",
       "  </tbody>\n",
       "</table>\n",
       "</div>"
      ],
      "text/plain": [
       "                 model   Accuracy    Recall  Precision  f1 score\n",
       "0  Logistic Regression  88.888889  0.758621   0.814815  0.785714\n",
       "1        Decision Tree  86.111111  0.689655   0.769231  0.727273\n",
       "2        Random Forest  89.814815  0.724138   0.875000  0.792453"
      ]
     },
     "execution_count": 258,
     "metadata": {},
     "output_type": "execute_result"
    }
   ],
   "source": [
    "pd.DataFrame({'model':['Logistic Regression','Decision Tree','Random Forest'],\n",
    "             'Accuracy':[acc_logi,acc_dt,acc_rf],\n",
    "             'Recall':[recall_logi,recall_dt,recall_rf],\n",
    "             'Precision':[precision_logi,precision_dt,precision_rf],\n",
    "             'f1 score':[f1_logi,f1_dt,f1_rf]})"
   ]
  },
  {
   "cell_type": "code",
   "execution_count": null,
   "id": "d1d48ac5",
   "metadata": {},
   "outputs": [],
   "source": []
  },
  {
   "cell_type": "code",
   "execution_count": 259,
   "id": "f2160e63",
   "metadata": {},
   "outputs": [],
   "source": [
    "# conclusion"
   ]
  },
  {
   "cell_type": "code",
   "execution_count": null,
   "id": "48829991",
   "metadata": {},
   "outputs": [],
   "source": [
    "# So by looking at the above output :\n",
    "# Random forest model gives best results"
   ]
  },
  {
   "cell_type": "code",
   "execution_count": 25,
   "id": "e2100e92",
   "metadata": {},
   "outputs": [],
   "source": [
    " "
   ]
  },
  {
   "cell_type": "code",
   "execution_count": null,
   "id": "c62c96d1",
   "metadata": {},
   "outputs": [],
   "source": []
  }
 ],
 "metadata": {
  "kernelspec": {
   "display_name": "Python 3 (ipykernel)",
   "language": "python",
   "name": "python3"
  },
  "language_info": {
   "codemirror_mode": {
    "name": "ipython",
    "version": 3
   },
   "file_extension": ".py",
   "mimetype": "text/x-python",
   "name": "python",
   "nbconvert_exporter": "python",
   "pygments_lexer": "ipython3",
   "version": "3.9.12"
  }
 },
 "nbformat": 4,
 "nbformat_minor": 5
}
